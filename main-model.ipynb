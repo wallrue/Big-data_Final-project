{
 "cells": [
  {
   "cell_type": "markdown",
   "id": "3e797792",
   "metadata": {},
   "source": [
    "# IMPORT REQUIRED LIBRARY"
   ]
  },
  {
   "cell_type": "code",
   "execution_count": 1,
   "id": "400ac2a9",
   "metadata": {},
   "outputs": [],
   "source": [
    "import pandas as pd\n",
    "import os\n",
    "import codecs\n",
    "import gensim.corpora as corpora\n",
    "from snownlp import SnowNLP\n",
    "from snownlp import normal\n",
    "from snownlp import seg\n",
    "from tqdm import tqdm\n",
    "import re\n",
    "import numpy as np\n",
    "import json\n",
    "import matplotlib.pyplot as plt\n",
    "\n",
    "from sentiment_modeling import Sentiment_classfifier\n",
    "\n",
    "import tensorflow as tf\n",
    "from tensorflow import keras\n",
    "from keras.models import Sequential\n",
    "from keras.layers import Dense, Embedding, Dropout, LSTM, Bidirectional\n",
    "from keras.models import Model, Input\n",
    "from sklearn.model_selection import train_test_split"
   ]
  },
  {
   "cell_type": "markdown",
   "id": "7b929aae",
   "metadata": {},
   "source": [
    "# GET DATA"
   ]
  },
  {
   "cell_type": "code",
   "execution_count": 2,
   "id": "2b978eb0",
   "metadata": {
    "scrolled": false
   },
   "outputs": [],
   "source": [
    "path = os.path.abspath(os.getcwd()) \n",
    "filename = path+\"\\\\dataset\\\\organized_dataset\\\\csv-final.csv\""
   ]
  },
  {
   "cell_type": "code",
   "execution_count": 3,
   "id": "f67b5917",
   "metadata": {
    "scrolled": true
   },
   "outputs": [
    {
     "name": "stdout",
     "output_type": "stream",
     "text": [
      "{'encoding': 'UTF-16', 'confidence': 1.0, 'language': ''}\n"
     ]
    }
   ],
   "source": [
    "## Check data type\n",
    "import chardet\n",
    "with open(filename, 'rb') as file:\n",
    "    print(chardet.detect(file.read()))"
   ]
  },
  {
   "cell_type": "code",
   "execution_count": 4,
   "id": "f27f6817",
   "metadata": {
    "scrolled": true
   },
   "outputs": [],
   "source": [
    "df = pd.read_csv(filename, encoding = 'UTF-16', sep='\\t')"
   ]
  },
  {
   "cell_type": "markdown",
   "id": "8733cf61",
   "metadata": {},
   "source": [
    "### Cut the information of original email"
   ]
  },
  {
   "cell_type": "code",
   "execution_count": 5,
   "id": "c5784731",
   "metadata": {},
   "outputs": [],
   "source": [
    "df['merged'] = df['Body']+df['Subject']\n",
    "check = df['merged'].isnull()\n",
    "contents = [df['merged'][i] for i in range(len(check)) if check[i] == False] #Filter the email which has non content"
   ]
  },
  {
   "cell_type": "code",
   "execution_count": 6,
   "id": "8c732dd1",
   "metadata": {},
   "outputs": [],
   "source": [
    "for i in range(len(contents)):\n",
    "    for j in range(len(contents[i])):\n",
    "        if contents[i][j:j+len('SecuShare')] == 'SecuShare': #Cut the information for original email\n",
    "            contents[i] = contents[i][:j]"
   ]
  },
  {
   "cell_type": "markdown",
   "id": "ee568d24",
   "metadata": {},
   "source": [
    "### Preprocess function"
   ]
  },
  {
   "cell_type": "code",
   "execution_count": 7,
   "id": "d982c24c",
   "metadata": {},
   "outputs": [],
   "source": [
    "def filter_chinese(mycontents):\n",
    "    #Filter to get a sentnece only chinese\n",
    "    for n in range(len(mycontents)):\n",
    "        temp_list = \"\"\n",
    "        for i in re.findall(\"[\\u4e00-\\u9fff]\",mycontents[n]):\n",
    "            temp_list += i\n",
    "        mycontents[n] = temp_list\n",
    "    return mycontents"
   ]
  },
  {
   "cell_type": "code",
   "execution_count": 8,
   "id": "da851956",
   "metadata": {},
   "outputs": [],
   "source": [
    "def handle(doc):\n",
    "    han_text = normal.zh2hans(doc) #Conver Traditional chinese to simplfied chinese\n",
    "    words = seg.seg(han_text) #segment the sentences\n",
    "    words = normal.filter_stop(words)\n",
    "    return words\n",
    "\n",
    "def sent_to_words(sentences): #Preprocess data\n",
    "    word_list = list()\n",
    "    for i in tqdm(range(len(sentences))):\n",
    "        word_list.append(handle(sentences[i]))\n",
    "    return word_list"
   ]
  },
  {
   "cell_type": "code",
   "execution_count": 9,
   "id": "6e2f6cea",
   "metadata": {
    "scrolled": true
   },
   "outputs": [],
   "source": [
    "def preprocessing(data_words, max_length, token2id):\n",
    "    preprocessed_text = np.ones((len(data_words), max_length))*len(token2id) #Assign id=length for the word not in the id2word dictiornary \n",
    "    for row_id in tqdm(range(len(data_words))):\n",
    "        for col_id in range(max_length):\n",
    "            if col_id < len(data_words[row_id]):\n",
    "                if data_words[row_id][col_id] in token2id:\n",
    "                    preprocessed_text[row_id][col_id] = token2id[data_words[row_id][col_id]] #Assign id for the word in id2word dictiornary\n",
    "\n",
    "    return preprocessed_text"
   ]
  },
  {
   "cell_type": "markdown",
   "id": "8770c7a2",
   "metadata": {},
   "source": [
    "### Preprocess data"
   ]
  },
  {
   "cell_type": "code",
   "execution_count": 10,
   "id": "e67f8b26",
   "metadata": {},
   "outputs": [],
   "source": [
    "contents = filter_chinese(contents)"
   ]
  },
  {
   "cell_type": "code",
   "execution_count": 11,
   "id": "e113a42b",
   "metadata": {
    "scrolled": true
   },
   "outputs": [
    {
     "name": "stderr",
     "output_type": "stream",
     "text": [
      "100%|██████████████████████████████████████████████████████████████████████████████| 2525/2525 [06:06<00:00,  6.89it/s]\n"
     ]
    }
   ],
   "source": [
    "data_words = sent_to_words(contents)           "
   ]
  },
  {
   "cell_type": "code",
   "execution_count": 12,
   "id": "4d17ccb3",
   "metadata": {},
   "outputs": [],
   "source": [
    "id2word = corpora.Dictionary(data_words)\n",
    "max_length = max([len(i) for i in data_words])\n",
    "token2id = id2word.token2id"
   ]
  },
  {
   "cell_type": "code",
   "execution_count": 13,
   "id": "a671ca34",
   "metadata": {},
   "outputs": [
    {
     "name": "stderr",
     "output_type": "stream",
     "text": [
      "100%|████████████████████████████████████████████████████████████████████████████| 2525/2525 [00:00<00:00, 3768.49it/s]\n"
     ]
    }
   ],
   "source": [
    "preprocessed_text = preprocessing(data_words, max_length, token2id)"
   ]
  },
  {
   "cell_type": "markdown",
   "id": "8acdc540",
   "metadata": {},
   "source": [
    "# LABEL DATA (CLUSTERING)"
   ]
  },
  {
   "cell_type": "markdown",
   "id": "b511aa01",
   "metadata": {},
   "source": [
    "## Sentiment label"
   ]
  },
  {
   "cell_type": "markdown",
   "id": "a9ba5b8c",
   "metadata": {},
   "source": [
    "#### Creating new label (if sentiment_label file is not existed)"
   ]
  },
  {
   "cell_type": "code",
   "execution_count": 14,
   "id": "a4ebd22d",
   "metadata": {
    "scrolled": true
   },
   "outputs": [
    {
     "name": "stdout",
     "output_type": "stream",
     "text": [
      "Couldn't find program: 'This'\n"
     ]
    }
   ],
   "source": [
    "%%script This cell was disable --no-raise-error\n",
    "\n",
    "bayes_modelpath = path+\"\\\\sentiment_modeling\\\\saved_model\\\\sentiment_bayes\\\\sentiment_bayes.marshal\"\n",
    "sentiment_classifier = Sentiment_classfifier(bayes_modelpath)\n",
    "sentiment_labels = sentiment_classifier.predict(contents)"
   ]
  },
  {
   "cell_type": "code",
   "execution_count": 15,
   "id": "9a2b1275",
   "metadata": {},
   "outputs": [
    {
     "name": "stdout",
     "output_type": "stream",
     "text": [
      "Couldn't find program: 'This'\n"
     ]
    }
   ],
   "source": [
    "%%script This cell was disable --no-raise-error\n",
    "\n",
    "#Save label\n",
    "saved_dict = {'sentiment_id': sentiment_labels, 'sentiment_title': ['neg', 'pos']}\n",
    "with codecs.open('sentiment_label.json', 'w', encoding='utf-8') as f:\n",
    "    json.dump(saved_dict, f, ensure_ascii=False)"
   ]
  },
  {
   "cell_type": "markdown",
   "id": "709f9dc3",
   "metadata": {},
   "source": [
    "#### Reading available label"
   ]
  },
  {
   "cell_type": "code",
   "execution_count": 16,
   "id": "8896f306",
   "metadata": {},
   "outputs": [],
   "source": [
    "sentiment_labels = []\n",
    "sentiment_titles = []\n",
    "with codecs.open('sentiment_label.json', 'r', 'utf-8') as data_file:\n",
    "    sentiment_parameters = json.load(data_file)\n",
    "    sentiment_labels = sentiment_parameters['sentiment_id']\n",
    "    sentiment_titles = sentiment_parameters['sentiment_title']"
   ]
  },
  {
   "cell_type": "code",
   "execution_count": 17,
   "id": "6c2cac39",
   "metadata": {},
   "outputs": [],
   "source": [
    "#Convert to one hot vector:\n",
    "n_values = np.max(sentiment_labels) + 1\n",
    "sentiment_labels = np.eye(n_values)[sentiment_labels]"
   ]
  },
  {
   "cell_type": "markdown",
   "id": "b39a7edc",
   "metadata": {},
   "source": [
    "## Topic label"
   ]
  },
  {
   "cell_type": "markdown",
   "id": "6ca02b22",
   "metadata": {},
   "source": [
    "#### Proprocess of topic analysising"
   ]
  },
  {
   "cell_type": "code",
   "execution_count": 18,
   "id": "a8a248ea",
   "metadata": {},
   "outputs": [
    {
     "name": "stdout",
     "output_type": "stream",
     "text": [
      "Couldn't find program: 'This'\n"
     ]
    }
   ],
   "source": [
    "%%script This cell was disable --no-raise-error\n",
    "\n",
    "import stopwordsiso\n",
    "from stopwordsiso import stopwords\n",
    "import jieba\n",
    "import jieba.analyse as analyse\n",
    "import jieba.posseg as posseg\n",
    "import opencc\n",
    "from opencc import OpenCC\n",
    "from sklearn.decomposition import LatentDirichletAllocation\n",
    "from sklearn.feature_extraction.text import CountVectorizer\n",
    "import pickle\n",
    "\n",
    "# Convert list Simple Chinese stopword to Traditional stopword \n",
    "stop_words = list(stopwords([\"zh\"]))\n",
    "stopa = []\n",
    "for i in stop_words:\n",
    "    cc = OpenCC('s2t')\n",
    "    texta = cc.convert(i)\n",
    "    stopa.append(texta)\n",
    "    \n",
    "\n",
    "def postag(text):\n",
    "    pos = ['n', 'a', 'v', 'd'] #'nv', 'vd', 'vn', 'vx', 'vi'\n",
    "    text_out = []\n",
    "    for word, flag in posseg.cut(text):\n",
    "        if flag in pos:\n",
    "            text_out.append(word)\n",
    "    return text_out\n",
    "\n",
    "def preprocessingTextFull(text, sep = ' '):\n",
    "# regex\n",
    "    text = text.lower()\n",
    "    text = re.sub(r'&lt;', '', text) #remove '&lt;' tag\n",
    "    text = re.sub(r'<.*?>', '', text) #remove html\n",
    "    text = re.sub(r'[^\\w\\s]', '', text) #remove punctiation\n",
    "    text = re.sub('[^\\u4e00-\\u9fa5]+', '', text) # remove ASCII strings\n",
    "    # remove stopword\n",
    "    more_s = ['幫','忙', '請','謝', '謝', '您','好','姓','名', '_','喔','想','感','問','題','没','沒','為',\n",
    "             \"客\",\"服\",\"信\",\"箱\",\"電\",\"子\",\"目\",\"前\",\"公\",\"司\",\"服\",\"務\",\"郵\",\"件\",\"心\", \"擎\",\"先\",\n",
    "              \"生\",\"軟\",\"體\",\"謝\",\"教\",\"育\",\"教\",\"育\",\"雲\",\"科\",\"技\",\"國\",\"鼎\",\"新\",\"高\",\"雄\",\"市\",\n",
    "              \"民\",\"政\",\"局\",\"台\",\"南\",\"糖\",\"網\",\"擎\",\"急\",\"安\",\"泰\",\"兆\",\"豐\",\"可\",\"口\",\"可\",\"樂\",\"口\",\"樂\",\"濟\",\"部\",\"飯\",\"店\",\"潛\",\"客\",\"戶\",\n",
    "             \"邱\",\"良\",\"姐\",\"咖\",\"啡\", '附',\n",
    "              '歡','迎','次','寶',\"瘦\", \"仍\",\"然\",'彰','化', \"工\",\"業\",'企','業', '聯','絡','工','提','供','孟', '秋', '東', '際', '睿', '明']\n",
    "\n",
    "    stop = stopa  + more_s\n",
    "    text = \"\".join([word for word in text if word not in stop]) #remove stopwords\n",
    "    \n",
    "    for c in ['\\r', '\\n', '\\t'] :\n",
    "        text = re.sub(c, ' ', text) #replace newline and tab with tabs\\\n",
    "        text = re.sub('\\s+', ' ', text) #replace multiple spaces with one space\n",
    "        \n",
    "    text_cut = sep.join(jieba.cut(text, cut_all=False))\n",
    "    \n",
    "    return text_cut\n",
    "\n",
    "# Show top n keywords for each topic\n",
    "def show_topics(vectorizer, lda_model, n_words=10):\n",
    "    keywords = np.array(vectorizer.get_feature_names())\n",
    "    topic_keywords = []\n",
    "    for topic_weights in lda_model.components_:\n",
    "        top_keyword_locs = (-topic_weights).argsort()[:n_words]\n",
    "        topic_keywords.append(keywords.take(top_keyword_locs))\n",
    "    return topic_keywords"
   ]
  },
  {
   "cell_type": "markdown",
   "id": "1563b1af",
   "metadata": {},
   "source": [
    "#### Creating new label (if sentiment_label file is not existed)"
   ]
  },
  {
   "cell_type": "code",
   "execution_count": 19,
   "id": "be1adcc2",
   "metadata": {},
   "outputs": [
    {
     "name": "stdout",
     "output_type": "stream",
     "text": [
      "Couldn't find program: 'This'\n"
     ]
    }
   ],
   "source": [
    "%%script This cell was disable --no-raise-error\n",
    "\n",
    "#Drop useless attributes\n",
    "df1 = df.drop(columns = ['From','From Email', 'To', 'Cc','Bcc'], axis = 0)\n",
    "df1 = df1.dropna()\n",
    "\n",
    "#Create new feature: merge\n",
    "df1['merged'] = df1['Body']+df1['Subject']\n",
    "df1['merged'] = df1['merged'].apply(preprocessingTextFull) # mergerd and preprocessing\n",
    "\n",
    "#Create new feature: clean_text\n",
    "pos_text = df1['merged'].apply(postag)\n",
    "df1['clean_text'] = pos_text\n",
    "df1['clean_text'] = df1['clean_text'].apply(lambda x: ' '.join(map(str, x)))\n",
    "df1['clean_text'] = df1['clean_text'].apply(preprocessingTextFull)\n",
    "\n",
    "clean_text=df1['clean_text'].tolist() # propcessed with pos\n",
    "vectorizer = CountVectorizer(max_df=0.95, min_df=2, max_features=50000)\n",
    "data_vectorized = vectorizer.fit_transform(clean_text) # fit input data"
   ]
  },
  {
   "cell_type": "code",
   "execution_count": 20,
   "id": "84e7a758",
   "metadata": {},
   "outputs": [
    {
     "name": "stdout",
     "output_type": "stream",
     "text": [
      "Couldn't find program: 'This'\n"
     ]
    }
   ],
   "source": [
    "%%script This cell was disable --no-raise-error\n",
    "\n",
    "# Information of model\n",
    "# lda_model = LatentDirichletAllocation(n_components=4,\n",
    "#                                       max_iter=10, \n",
    "#                                       learning_method='online',\n",
    "#                                       learning_offset=70.,\n",
    "#                                       learning_decay = .7,\n",
    "#                                       random_state=0).fit(data_vectorized)\n",
    "\n",
    "# with open(path+\"\\\\topic_modeling\\\\Final_version\\\\sklearn_lda_model.pk\",\"wb\") as f:\n",
    "#     pickle.dump(lda_model, f)\n",
    "\n",
    "lda_model = pickle.load(open(path+\"\\\\topic_modeling\\\\Final_version\\\\sklearn_lda_model.pk\", 'rb'))\n",
    "doc_topic_matrix = lda_model.transform(data_vectorized)\n",
    "dominant_topic = np.argmax(doc_topic_matrix, axis=1)\n",
    "topic_keywords = show_topics(vectorizer=vectorizer, lda_model=lda_model, n_words=10)  \n",
    "my_topic_key = ['_'.join(topic.tolist()) for topic in topic_keywords]"
   ]
  },
  {
   "cell_type": "code",
   "execution_count": 21,
   "id": "1aecdc2f",
   "metadata": {},
   "outputs": [
    {
     "name": "stdout",
     "output_type": "stream",
     "text": [
      "Couldn't find program: 'This'\n"
     ]
    }
   ],
   "source": [
    "%%script This cell was disable --no-raise-error\n",
    "\n",
    "#Save label\n",
    "saved_dict = {'topic_id': dominant_topic.tolist(), 'topic_title': my_topic_key}\n",
    "with codecs.open('topic_label.json', 'w', encoding='utf-8') as f:\n",
    "    json.dump(saved_dict, f, ensure_ascii=False)"
   ]
  },
  {
   "cell_type": "markdown",
   "id": "c2a09e89",
   "metadata": {},
   "source": [
    "#### Reading available label"
   ]
  },
  {
   "cell_type": "code",
   "execution_count": 22,
   "id": "ab4f566d",
   "metadata": {},
   "outputs": [],
   "source": [
    "topic_labels = []\n",
    "topic_title = []\n",
    "with codecs.open('topic_label.json', 'r', 'utf-8') as data_file:\n",
    "    topic_parameters = json.load(data_file)\n",
    "    topic_labels = topic_parameters['topic_id']\n",
    "    topic_title = topic_parameters['topic_title']"
   ]
  },
  {
   "cell_type": "code",
   "execution_count": 23,
   "id": "d32f1b44",
   "metadata": {},
   "outputs": [],
   "source": [
    "#Convert to one hot vector:\n",
    "n_values = np.max(topic_labels) + 1\n",
    "topic_labels = np.eye(n_values)[topic_labels]"
   ]
  },
  {
   "cell_type": "markdown",
   "id": "52309bb4",
   "metadata": {},
   "source": [
    "# BUILDING MODEL FOR PREDICTION (PREDICTION)"
   ]
  },
  {
   "cell_type": "code",
   "execution_count": 24,
   "id": "e137c8c2",
   "metadata": {},
   "outputs": [],
   "source": [
    "class BiLstm:\n",
    "    def __init__(self,vocabulary_size, seq_len):\n",
    "        \n",
    "        input_shape = Input((seq_len,))\n",
    "        embedding_layer = Embedding(vocabulary_size, 128, input_length=seq_len)(input_shape)\n",
    "        \n",
    "        bilstm_layer1 = Bidirectional(LSTM(64))(embedding_layer)\n",
    "        dropout_layer1 = Dropout(0.5)(bilstm_layer1)\n",
    "        dense_layer1 = Dense(64, activation='relu')(dropout_layer1)\n",
    "        \n",
    "        bilstm_layer2 = Bidirectional(LSTM(64))(embedding_layer)\n",
    "        dropout_layer2 = Dropout(0.5)(bilstm_layer2)\n",
    "        dense_layer2 = Dense(64, activation='relu')(dropout_layer2)\n",
    "        \n",
    "        out1 = Dense(2, activation='softmax')(dense_layer1)    \n",
    "        out2 = Dense(4, activation='softmax')(dense_layer2)\n",
    "        \n",
    "        self.model = Model(input_shape, [out1,out2])\n",
    "        self.model.compile(loss='categorical_crossentropy', optimizer='adam', metrics=['accuracy'])\n",
    "        \n",
    "        self.history\n",
    "\n",
    "    def fit(self, x, y1, y2,mybatch_size = 256,myepochs = 5):\n",
    "        self.history = self.model.fit(x, [y1,y2], batch_size=mybatch_size, epochs=myepochs)\n",
    "        \n",
    "    def prediction(self,x):\n",
    "        return self.model.predict(x)#.reshape(-1,1) ##size col = 41, row = 1 ==> y = (1,25949) //but only y[8],y[11] or y[12] keep the result\n",
    "           \n",
    "    def test(self,x,y):\n",
    "        y_pred = self.model.predict(x)\n",
    "        y_test = np.array(y)\n",
    "\n",
    "        print(\"Accuracy of testing: \",mylossfunction(y_pred,y_test))\n",
    "        #print(\"ROC Area: \")\n",
    "        #roc_error =  myROCfunction(y_test,y_pred)\n",
    "        #for i in range(len(roc_error)):\n",
    "        #  print(\"- Class \",i,\" = %0.2f\",roc_error[i])\n",
    "\n",
    "    def save_model(self,name):\n",
    "        self.model.save(name + \"-BiLSTM\")\n",
    "    \n",
    "    def load_model(self,name):\n",
    "        self.model = keras.models.load_model(name + \"-BiLSTM\")\n",
    "            \n",
    "    def history(self):\n",
    "        return self.history"
   ]
  },
  {
   "cell_type": "markdown",
   "id": "2daa03c9",
   "metadata": {},
   "source": [
    "# TRAINING"
   ]
  },
  {
   "cell_type": "markdown",
   "id": "22f20440",
   "metadata": {},
   "source": [
    "### Define Training Dataset"
   ]
  },
  {
   "cell_type": "code",
   "execution_count": 25,
   "id": "87f506b9",
   "metadata": {},
   "outputs": [],
   "source": [
    "X = preprocessed_text\n",
    "y1 = sentiment_labels\n",
    "y2 = topic_labels\n",
    "#y = np.hstack((topic_labels,sentiment_labels))\n",
    "# x_train, x_test, y_train, y_test = train_test_split(X, y, test_size=0.1)"
   ]
  },
  {
   "cell_type": "code",
   "execution_count": 26,
   "id": "8529983a",
   "metadata": {},
   "outputs": [],
   "source": [
    "vocabulary_size = len(id2word) + 1\n",
    "seq_len = np.shape(X)[1] #Sequence length = sentence length\n",
    "input_dim = vocabulary_size \n",
    "input_length = seq_len\n",
    "mybatch_size = 256\n",
    "myepochs = 5"
   ]
  },
  {
   "cell_type": "markdown",
   "id": "737cc4ae",
   "metadata": {},
   "source": [
    "### Training Model"
   ]
  },
  {
   "cell_type": "code",
   "execution_count": 27,
   "id": "d37f2827",
   "metadata": {
    "scrolled": false
   },
   "outputs": [
    {
     "name": "stdout",
     "output_type": "stream",
     "text": [
      "Epoch 1/5\n",
      "10/10 [==============================] - 6472s 677s/step - loss: 1.9196 - dense_2_loss: 0.6006 - dense_3_loss: 1.3190 - dense_2_accuracy: 0.7834 - dense_3_accuracy: 0.4737\n",
      "Epoch 2/5\n",
      "10/10 [==============================] - 6737s 668s/step - loss: 1.5253 - dense_2_loss: 0.4256 - dense_3_loss: 1.0997 - dense_2_accuracy: 0.8432 - dense_3_accuracy: 0.5552\n",
      "Epoch 3/5\n",
      "10/10 [==============================] - 7680s 760s/step - loss: 1.1859 - dense_2_loss: 0.2504 - dense_3_loss: 0.9355 - dense_2_accuracy: 0.8737 - dense_3_accuracy: 0.6463\n",
      "Epoch 4/5\n",
      "10/10 [==============================] - 7565s 754s/step - loss: 0.9070 - dense_2_loss: 0.2060 - dense_3_loss: 0.7010 - dense_2_accuracy: 0.9141 - dense_3_accuracy: 0.7648\n",
      "Epoch 5/5\n",
      "10/10 [==============================] - 7176s 720s/step - loss: 0.6977 - dense_2_loss: 0.1604 - dense_3_loss: 0.5374 - dense_2_accuracy: 0.9267 - dense_3_accuracy: 0.7992\n"
     ]
    }
   ],
   "source": [
    "%%script This cell was disable --no-raise-error\n",
    "\n",
    "myBiLSTM = BiLstm(input_dim, input_length)\n",
    "myBiLSTM.fit(X,y1,y2,mybatch_size,myepochs)"
   ]
  },
  {
   "cell_type": "code",
   "execution_count": 28,
   "id": "85268bed",
   "metadata": {
    "scrolled": false
   },
   "outputs": [
    {
     "data": {
      "text/plain": [
       "<matplotlib.legend.Legend at 0x2bd86639c10>"
      ]
     },
     "execution_count": 28,
     "metadata": {},
     "output_type": "execute_result"
    },
    {
     "data": {
      "image/png": "[encoded data removed]",
      "text/plain": [
       "<Figure size 560x400 with 1 Axes>"
      ]
     },
     "metadata": {},
     "output_type": "display_data"
    }
   ],
   "source": [
    "%%script This cell was disable --no-raise-error\n",
    "\n",
    "plt.style.use(\"classic\")\n",
    "plt.figure(figsize=[7,5])\n",
    "N = myepochs\n",
    "plt.plot(np.arange(0, N), myBiLSTM.history.history['dense_2_accuracy'], label=\"sentiment_train_acc\")\n",
    "plt.plot(np.arange(0, N), myBiLSTM.history.history['dense_3_accuracy'], label=\"topic_train_acc\")\n",
    "plt.title(\"Training Accuracy\")\n",
    "plt.ylim([0, 1])\n",
    "plt.xlabel(\"Epoch #\")\n",
    "plt.ylabel(\"Accuracy\")\n",
    "plt.legend(loc=\"lower left\")"
   ]
  },
  {
   "cell_type": "markdown",
   "id": "6e540397",
   "metadata": {},
   "source": [
    "### Save model and parameters"
   ]
  },
  {
   "cell_type": "code",
   "execution_count": 29,
   "id": "476e9c7a",
   "metadata": {},
   "outputs": [
    {
     "name": "stderr",
     "output_type": "stream",
     "text": [
      "WARNING:absl:Found untraced functions such as lstm_cell_1_layer_call_fn, lstm_cell_1_layer_call_and_return_conditional_losses, lstm_cell_2_layer_call_fn, lstm_cell_2_layer_call_and_return_conditional_losses, lstm_cell_4_layer_call_fn while saving (showing 5 of 8). These functions will not be directly callable after loading.\n"
     ]
    },
    {
     "name": "stdout",
     "output_type": "stream",
     "text": [
      "INFO:tensorflow:Assets written to: saved_model\\customer_preferences_model-BiLSTM\\assets\n"
     ]
    },
    {
     "name": "stderr",
     "output_type": "stream",
     "text": [
      "INFO:tensorflow:Assets written to: saved_model\\customer_preferences_model-BiLSTM\\assets\n"
     ]
    }
   ],
   "source": [
    "myBiLSTM.save_model(\"saved_model\\\\customer_preferences_model\")  "
   ]
  },
  {
   "cell_type": "code",
   "execution_count": 30,
   "id": "b19f0056",
   "metadata": {},
   "outputs": [],
   "source": [
    "#Save parameters\n",
    "saved_dict = {'max_length': max_length, 'token2id': token2id}\n",
    "with codecs.open('saved_model\\\\token2id.json', 'w', encoding='utf-8') as f:\n",
    "    json.dump(saved_dict, f, ensure_ascii=False)"
   ]
  },
  {
   "cell_type": "markdown",
   "id": "98471a4c",
   "metadata": {},
   "source": [
    "# PREDICTION"
   ]
  },
  {
   "cell_type": "code",
   "execution_count": 31,
   "id": "0d3eedfd",
   "metadata": {},
   "outputs": [],
   "source": [
    "myBiLSTM.load_model(\"saved_model\\\\customer_preferences_model\")"
   ]
  },
  {
   "cell_type": "code",
   "execution_count": 32,
   "id": "5a473a34",
   "metadata": {},
   "outputs": [],
   "source": [
    "# Loading parameters\n",
    "with codecs.open('saved_model\\\\token2id.json', 'r', 'utf-8') as data_file:\n",
    "    parameters = json.load(data_file)"
   ]
  },
  {
   "cell_type": "code",
   "execution_count": 33,
   "id": "5cb669eb",
   "metadata": {
    "scrolled": true
   },
   "outputs": [
    {
     "name": "stderr",
     "output_type": "stream",
     "text": [
      "100%|██████████████████████████████████████████████████████████████████████████████| 2525/2525 [05:52<00:00,  7.17it/s]\n",
      "100%|████████████████████████████████████████████████████████████████████████████| 2525/2525 [00:00<00:00, 3484.40it/s]\n"
     ]
    }
   ],
   "source": [
    "# Pre_processing by Preprocess function \n",
    "text = contents\n",
    "text = filter_chinese(text)\n",
    "pre_data_words = sent_to_words(text)  \n",
    "data = preprocessing(pre_data_words, parameters['max_length'], parameters['token2id']) "
   ]
  },
  {
   "cell_type": "code",
   "execution_count": 34,
   "id": "f0bb9991",
   "metadata": {
    "scrolled": true
   },
   "outputs": [],
   "source": [
    "# Prediction\n",
    "result = myBiLSTM.prediction(data)"
   ]
  },
  {
   "cell_type": "code",
   "execution_count": 35,
   "id": "55711300",
   "metadata": {},
   "outputs": [],
   "source": [
    "#print(\"Sentiment\", result[0].tolist()) #List of probability of 'neg', 'pos'\n",
    "#print(\"Topic\", result[1].tolist()) #Lis of probability of 20 topics"
   ]
  },
  {
   "cell_type": "code",
   "execution_count": 36,
   "id": "a23d9305",
   "metadata": {
    "scrolled": true
   },
   "outputs": [
    {
     "name": "stdout",
     "output_type": "stream",
     "text": [
      "Predicting sentiment and topic of sentence 10 in dataset: \n",
      "-Sentiment: [0.7671917676925659, 0.23280826210975647] \n",
      "-Topic: [0.8297721147537231, 0.07287038117647171, 0.059839457273483276, 0.03751800209283829]\n",
      "\n",
      "Real value of sentiment and topic of sentence 10 in dataset: \n",
      "-Sentiment: [1. 0.] \n",
      "-Topic: [1. 0. 0. 0.]\n"
     ]
    }
   ],
   "source": [
    "i = 10\n",
    "print(\"Predicting sentiment and topic of sentence {} in dataset: \\n-Sentiment: {} \\n-Topic: {}\\n\".format(i, result[0].tolist()[i], result[1].tolist()[i]))\n",
    "print(\"Real value of sentiment and topic of sentence {} in dataset: \\n-Sentiment: {} \\n-Topic: {}\".format(i, y1[i], y2[i]))"
   ]
  },
  {
   "cell_type": "markdown",
   "id": "8233187a",
   "metadata": {},
   "source": [
    "# DATA ANALYSIS AND CONCLUSION"
   ]
  },
  {
   "cell_type": "markdown",
   "id": "f9db16c1",
   "metadata": {},
   "source": [
    "## Description of dataset"
   ]
  },
  {
   "cell_type": "code",
   "execution_count": 37,
   "id": "94417c14",
   "metadata": {},
   "outputs": [],
   "source": [
    "#Shape is topic, color is emotion (red = negative, blue = positive)"
   ]
  },
  {
   "cell_type": "code",
   "execution_count": null,
   "id": "41de93d3",
   "metadata": {},
   "outputs": [],
   "source": []
  }
 ],
 "metadata": {
  "kernelspec": {
   "display_name": "Python 3 (ipykernel)",
   "language": "python",
   "name": "python3"
  },
  "language_info": {
   "codemirror_mode": {
    "name": "ipython",
    "version": 3
   },
   "file_extension": ".py",
   "mimetype": "text/x-python",
   "name": "python",
   "nbconvert_exporter": "python",
   "pygments_lexer": "ipython3",
   "version": "3.9.12"
  }
 },
 "nbformat": 4,
 "nbformat_minor": 5
}
