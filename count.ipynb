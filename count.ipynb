{
 "cells": [
  {
   "cell_type": "code",
   "execution_count": 1,
   "metadata": {},
   "outputs": [],
   "source": [
    "import json\n",
    "with open('sentiment_label.json') as f:\n",
    "   data2 = json.load(f)\n",
    "# data2\n",
    "sent = list(data2['sentiment_id'])"
   ]
  },
  {
   "cell_type": "code",
   "execution_count": 2,
   "metadata": {},
   "outputs": [
    {
     "data": {
      "text/html": [
       "<div>\n",
       "<style scoped>\n",
       "    .dataframe tbody tr th:only-of-type {\n",
       "        vertical-align: middle;\n",
       "    }\n",
       "\n",
       "    .dataframe tbody tr th {\n",
       "        vertical-align: top;\n",
       "    }\n",
       "\n",
       "    .dataframe thead th {\n",
       "        text-align: right;\n",
       "    }\n",
       "</style>\n",
       "<table border=\"1\" class=\"dataframe\">\n",
       "  <thead>\n",
       "    <tr style=\"text-align: right;\">\n",
       "      <th></th>\n",
       "      <th>id</th>\n",
       "      <th>Date</th>\n",
       "      <th>Subject</th>\n",
       "      <th>Body</th>\n",
       "      <th>merged</th>\n",
       "      <th>clean_text</th>\n",
       "      <th>label</th>\n",
       "    </tr>\n",
       "    <tr>\n",
       "      <th>id</th>\n",
       "      <th></th>\n",
       "      <th></th>\n",
       "      <th></th>\n",
       "      <th></th>\n",
       "      <th></th>\n",
       "      <th></th>\n",
       "      <th></th>\n",
       "    </tr>\n",
       "  </thead>\n",
       "  <tbody>\n",
       "    <tr>\n",
       "      <th>0</th>\n",
       "      <td>0</td>\n",
       "      <td>9/5/2017 5:51</td>\n",
       "      <td>(中日)使用者發出的信件取回問題-接續問題</td>\n",
       "      <td>Dear 網擎：\\r\\n     附件所示   郵件使用者     alex.chen@cr...</td>\n",
       "      <td>示間 寄出 寄備 份 找 取回 特種 紙廠 股份 限發出 取回 接續</td>\n",
       "      <td>示間 寄出 寄備 找 取回 特種 紙廠 股份 限 發出 取回 接續</td>\n",
       "      <td>['資料', '方式', '寄出', '引述', '需求', '增域', '增簿', '紀錄...</td>\n",
       "    </tr>\n",
       "    <tr>\n",
       "      <th>1</th>\n",
       "      <td>1</td>\n",
       "      <td>﻿02/27/2018 05:28:12</td>\n",
       "      <td>(仍然無法註冊) Re: M2k - danno149131 - 註冊帳號顯示錯誤</td>\n",
       "      <td>您好，使用者反應重新註冊帳號，將訂單送出時，系統會顯示\"認證失敗，請重新確認您所輸入的帳號密...</td>\n",
       "      <td>反應 重 註 冊 帳 號 訂 單 送 出 系 統 顯 示 認 證 失 敗 重 確 認 輸 入...</td>\n",
       "      <td>重 送 出 系 示 重 入 密 密 重 透 重 取消 訂單 確定 遇 相 情形 詢敬 享 減...</td>\n",
       "      <td>['登入', '資訊', '帳號', '校園', '備份', '系統', '資料', '回覆...</td>\n",
       "    </tr>\n",
       "    <tr>\n",
       "      <th>2</th>\n",
       "      <td>2</td>\n",
       "      <td>﻿04/18/2018 02:55:09</td>\n",
       "      <td>(希望今天能收到回覆) P-Marker 業務問題 - 潛在客戶：國民健康署</td>\n",
       "      <td>您好，國民健康署張淇鈞 小姐02-2522 0889rubychang@hpa.gov.tw...</td>\n",
       "      <td>健康 署 張淇鈞 需資盤 詢功 價格 張希天 收回 覆麻 煩 繫 愛 洽 詢 敬 享 減 肥...</td>\n",
       "      <td>健康 需資盤 詢功 價格 收回 覆麻 敬 享 肥 享 示 存 送 享 空 接 著 具 情 真...</td>\n",
       "      <td>['檔案', '資盤', '掃描', '完成', '顯示', '執行', '結果', '報表...</td>\n",
       "    </tr>\n",
       "    <tr>\n",
       "      <th>3</th>\n",
       "      <td>3</td>\n",
       "      <td>﻿05/05/2016 08:45:46</td>\n",
       "      <td>(很急) Fw: (急) MailGates 軟體 - 嘉聯益科技 - 稽核條件沒有正常執行</td>\n",
       "      <td>您好，客戶來電表示還沒收到回覆，今天上午也有寄信到m2k_noc，麻煩您幫忙盡快連繫，謝謝。...</td>\n",
       "      <td>表示 收回 覆天午 寄麻煩 快 繫 愛 洽 詢 享 減 肥 檔 旁 享 圖 示 檔 存 贈 ...</td>\n",
       "      <td>表示 收回 寄 快 享 肥 享 示 存 送 享 空 接 著 具 情 敬 真 端 站 稽核 正...</td>\n",
       "      <td>['登入', '資訊', '帳號', '校園', '備份', '系統', '資料', '回覆...</td>\n",
       "    </tr>\n",
       "    <tr>\n",
       "      <th>4</th>\n",
       "      <td>4</td>\n",
       "      <td>﻿12/15/2016 01:54:47</td>\n",
       "      <td>(很急) Fw: Mail2000 軟體 - 德律科技 - 管理者帳號疑似被入侵</td>\n",
       "      <td>您好，德律陳先生0933 818 259問題：客戶提到管理者帳號被登入，想確認系統設定是否有...</td>\n",
       "      <td>德律陳理 帳號 登入確 認系統 設定 否動 麻煩 快 繫 愛 洽 詢 享 減 肥 檔 旁 享...</td>\n",
       "      <td>理 帳號 登入 確 認系 統 設定 否動 快 享 肥 享 示 存 送 享 空 接 著 具 情...</td>\n",
       "      <td>['登入', '資訊', '帳號', '校園', '備份', '系統', '資料', '回覆...</td>\n",
       "    </tr>\n",
       "  </tbody>\n",
       "</table>\n",
       "</div>"
      ],
      "text/plain": [
       "    id                  Date                                         Subject  \\\n",
       "id                                                                             \n",
       "0    0         9/5/2017 5:51                           (中日)使用者發出的信件取回問題-接續問題   \n",
       "1    1  ﻿02/27/2018 05:28:12       (仍然無法註冊) Re: M2k - danno149131 - 註冊帳號顯示錯誤   \n",
       "2    2  ﻿04/18/2018 02:55:09          (希望今天能收到回覆) P-Marker 業務問題 - 潛在客戶：國民健康署   \n",
       "3    3  ﻿05/05/2016 08:45:46  (很急) Fw: (急) MailGates 軟體 - 嘉聯益科技 - 稽核條件沒有正常執行   \n",
       "4    4  ﻿12/15/2016 01:54:47        (很急) Fw: Mail2000 軟體 - 德律科技 - 管理者帳號疑似被入侵   \n",
       "\n",
       "                                                 Body  \\\n",
       "id                                                      \n",
       "0   Dear 網擎：\\r\\n     附件所示   郵件使用者     alex.chen@cr...   \n",
       "1   您好，使用者反應重新註冊帳號，將訂單送出時，系統會顯示\"認證失敗，請重新確認您所輸入的帳號密...   \n",
       "2   您好，國民健康署張淇鈞 小姐02-2522 0889rubychang@hpa.gov.tw...   \n",
       "3   您好，客戶來電表示還沒收到回覆，今天上午也有寄信到m2k_noc，麻煩您幫忙盡快連繫，謝謝。...   \n",
       "4   您好，德律陳先生0933 818 259問題：客戶提到管理者帳號被登入，想確認系統設定是否有...   \n",
       "\n",
       "                                               merged  \\\n",
       "id                                                      \n",
       "0                  示間 寄出 寄備 份 找 取回 特種 紙廠 股份 限發出 取回 接續   \n",
       "1   反應 重 註 冊 帳 號 訂 單 送 出 系 統 顯 示 認 證 失 敗 重 確 認 輸 入...   \n",
       "2   健康 署 張淇鈞 需資盤 詢功 價格 張希天 收回 覆麻 煩 繫 愛 洽 詢 敬 享 減 肥...   \n",
       "3   表示 收回 覆天午 寄麻煩 快 繫 愛 洽 詢 享 減 肥 檔 旁 享 圖 示 檔 存 贈 ...   \n",
       "4   德律陳理 帳號 登入確 認系統 設定 否動 麻煩 快 繫 愛 洽 詢 享 減 肥 檔 旁 享...   \n",
       "\n",
       "                                           clean_text  \\\n",
       "id                                                      \n",
       "0                   示間 寄出 寄備 找 取回 特種 紙廠 股份 限 發出 取回 接續   \n",
       "1   重 送 出 系 示 重 入 密 密 重 透 重 取消 訂單 確定 遇 相 情形 詢敬 享 減...   \n",
       "2   健康 需資盤 詢功 價格 收回 覆麻 敬 享 肥 享 示 存 送 享 空 接 著 具 情 真...   \n",
       "3   表示 收回 寄 快 享 肥 享 示 存 送 享 空 接 著 具 情 敬 真 端 站 稽核 正...   \n",
       "4   理 帳號 登入 確 認系 統 設定 否動 快 享 肥 享 示 存 送 享 空 接 著 具 情...   \n",
       "\n",
       "                                                label  \n",
       "id                                                     \n",
       "0   ['資料', '方式', '寄出', '引述', '需求', '增域', '增簿', '紀錄...  \n",
       "1   ['登入', '資訊', '帳號', '校園', '備份', '系統', '資料', '回覆...  \n",
       "2   ['檔案', '資盤', '掃描', '完成', '顯示', '執行', '結果', '報表...  \n",
       "3   ['登入', '資訊', '帳號', '校園', '備份', '系統', '資料', '回覆...  \n",
       "4   ['登入', '資訊', '帳號', '校園', '備份', '系統', '資料', '回覆...  "
      ]
     },
     "execution_count": 2,
     "metadata": {},
     "output_type": "execute_result"
    }
   ],
   "source": [
    "import pandas as pd\n",
    "df_ = pd.read_csv('sklearn_emails_labeled.csv',encoding = 'UTF-16', sep='\\t')\n",
    "df_.index.names = ['id']\n",
    "df_.head()"
   ]
  },
  {
   "cell_type": "code",
   "execution_count": 3,
   "metadata": {},
   "outputs": [],
   "source": [
    "from sklearn.preprocessing import LabelEncoder\n",
    "\n",
    "df_[['label']] = df_[['label']].apply(LabelEncoder().fit_transform)"
   ]
  },
  {
   "cell_type": "code",
   "execution_count": 4,
   "metadata": {},
   "outputs": [
    {
     "name": "stdout",
     "output_type": "stream",
     "text": [
      "1    1359\n",
      "3     654\n",
      "0     363\n",
      "2     149\n",
      "Name: label, dtype: int64\n"
     ]
    }
   ],
   "source": [
    "print(df_['label'].value_counts())\n",
    "topic = list(df_['label'])\n",
    "# topic"
   ]
  },
  {
   "cell_type": "code",
   "execution_count": 5,
   "metadata": {},
   "outputs": [
    {
     "name": "stdout",
     "output_type": "stream",
     "text": [
      "pos topic:  1184 569 246 130\n",
      "neg topic:  175 85 117 19\n"
     ]
    }
   ],
   "source": [
    "topic1_pos = 0\n",
    "topic2_pos = 0\n",
    "topic3_pos = 0\n",
    "topic4_pos = 0\n",
    "topic1_neg = 0\n",
    "topic2_neg = 0\n",
    "topic3_neg = 0\n",
    "topic4_neg = 0\n",
    "# 1-0\n",
    "# 3-1\n",
    "# 0-2\n",
    "# 2-3\n",
    "\n",
    "for i in range(len(sent)):\n",
    "    if sent[i] == 1:\n",
    "        if topic[i] == 1:\n",
    "            topic1_pos += 1\n",
    "        elif topic[i] == 3:\n",
    "            topic2_pos += 1\n",
    "        elif topic[i] == 0:\n",
    "            topic3_pos += 1\n",
    "        else:\n",
    "            topic4_pos += 1\n",
    "    else:\n",
    "        if topic[i] == 1:\n",
    "            topic1_neg += 1\n",
    "        elif topic[i] == 3:\n",
    "            topic2_neg += 1\n",
    "        elif topic[i] == 0:\n",
    "            topic3_neg += 1\n",
    "        else:\n",
    "            topic4_neg += 1\n",
    "\n",
    "print('pos topic: ', topic1_pos, topic2_pos, topic3_pos, topic4_pos)\n",
    "print('neg topic: ', topic1_neg, topic2_neg, topic3_neg, topic4_neg)"
   ]
  },
  {
   "cell_type": "code",
   "execution_count": 6,
   "metadata": {
    "scrolled": true
   },
   "outputs": [
    {
     "data": {
      "image/png": "[encoded data removed]",
      "text/plain": [
       "<Figure size 432x288 with 1 Axes>"
      ]
     },
     "metadata": {
      "needs_background": "light"
     },
     "output_type": "display_data"
    }
   ],
   "source": [
    "import numpy as np\n",
    "import matplotlib.pyplot as plt\n",
    "\n",
    "labels = ['Positive', 'Negative']\n",
    "\n",
    "data1 = [topic1_pos, topic1_neg]\n",
    "data2 = [topic2_pos, topic2_neg]\n",
    "data3 = [topic3_pos, topic3_neg]\n",
    "data4 = [topic4_pos, topic3_neg]\n",
    "\n",
    "x = np.arange(len(labels))\n",
    "width = 0.15\n",
    "fig, ax = plt.subplots()\n",
    "rects1 = ax.bar(x - 2*width, data1, width, label='topic1')\n",
    "rects2 = ax.bar(x - width, data2, width, label='topic2')\n",
    "rects3 = ax.bar(x , data3, width, label='topic3')\n",
    "rects4 = ax.bar(x + width, data4, width, label='topic4')\n",
    "\n",
    "# Add some text for labels, title and custom x-axis tick labels, etc.\n",
    "ax.set_ylabel('Amount')\n",
    "ax.set_title('Number of Topics according to Sentiment')\n",
    "ax.set_xticks(x, ['Positive', 'Negative'])\n",
    "ax.legend()\n",
    "\n",
    "ax.bar_label(rects1, padding=3)\n",
    "ax.bar_label(rects2, padding=3)\n",
    "ax.bar_label(rects3, padding=3)\n",
    "ax.bar_label(rects4, padding=3)\n",
    "# fig.tight_layout()\n",
    "\n",
    "plt.show()"
   ]
  },
  {
   "cell_type": "code",
   "execution_count": null,
   "metadata": {},
   "outputs": [],
   "source": []
  }
 ],
 "metadata": {
  "interpreter": {
   "hash": "744148b6e490329b75579d765b6549aa1561e00d11e02050c9069f1061c4d9b8"
  },
  "kernelspec": {
   "display_name": "Python 3 (ipykernel)",
   "language": "python",
   "name": "python3"
  },
  "language_info": {
   "codemirror_mode": {
    "name": "ipython",
    "version": 3
   },
   "file_extension": ".py",
   "mimetype": "text/x-python",
   "name": "python",
   "nbconvert_exporter": "python",
   "pygments_lexer": "ipython3",
   "version": "3.9.7"
  }
 },
 "nbformat": 4,
 "nbformat_minor": 4
}
