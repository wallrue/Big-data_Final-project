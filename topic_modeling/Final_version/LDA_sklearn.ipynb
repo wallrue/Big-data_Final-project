{
 "cells": [
  {
   "cell_type": "code",
   "execution_count": 46,
   "metadata": {
    "id": "u9WJ-nX9vHeO"
   },
   "outputs": [],
   "source": [
    "# import the basic packages\n",
    "import pandas as pd\n",
    "import numpy as np\n",
    "import pickle\n",
    "\n",
    "import re\n",
    "import stopwordsiso\n",
    "from stopwordsiso import stopwords\n",
    "import jieba\n",
    "import opencc\n",
    "from opencc import OpenCC\n",
    "\n",
    "import stopwordsiso\n",
    "from stopwordsiso import stopwords\n",
    "stopwords([\"zh\"])  # Chinese\n",
    "from collections import Counter\n",
    "import re\n",
    "\n",
    "from sklearn.decomposition import LatentDirichletAllocation, TruncatedSVD\n",
    "from sklearn.feature_extraction.text import CountVectorizer, TfidfVectorizer\n",
    "from sklearn.model_selection import GridSearchCV\n",
    "from pprint import pprint\n"
   ]
  },
  {
   "cell_type": "markdown",
   "metadata": {
    "tags": []
   },
   "source": [
    "# 1. Import data and preprocessing the raw data"
   ]
  },
  {
   "cell_type": "code",
   "execution_count": 21,
   "metadata": {
    "id": "mVzFtGYGvHeR",
    "outputId": "36a1ef91-8fd4-4e6a-c544-bce8ce36da00",
    "scrolled": true,
    "tags": []
   },
   "outputs": [
    {
     "data": {
      "text/html": [
       "<div>\n",
       "<style scoped>\n",
       "    .dataframe tbody tr th:only-of-type {\n",
       "        vertical-align: middle;\n",
       "    }\n",
       "\n",
       "    .dataframe tbody tr th {\n",
       "        vertical-align: top;\n",
       "    }\n",
       "\n",
       "    .dataframe thead th {\n",
       "        text-align: right;\n",
       "    }\n",
       "</style>\n",
       "<table border=\"1\" class=\"dataframe\">\n",
       "  <thead>\n",
       "    <tr style=\"text-align: right;\">\n",
       "      <th></th>\n",
       "      <th>Date</th>\n",
       "      <th>Subject</th>\n",
       "      <th>From</th>\n",
       "      <th>From Email</th>\n",
       "      <th>To</th>\n",
       "      <th>Cc</th>\n",
       "      <th>Bcc</th>\n",
       "      <th>Body</th>\n",
       "    </tr>\n",
       "    <tr>\n",
       "      <th>id</th>\n",
       "      <th></th>\n",
       "      <th></th>\n",
       "      <th></th>\n",
       "      <th></th>\n",
       "      <th></th>\n",
       "      <th></th>\n",
       "      <th></th>\n",
       "      <th></th>\n",
       "    </tr>\n",
       "  </thead>\n",
       "  <tbody>\n",
       "    <tr>\n",
       "      <th>0</th>\n",
       "      <td>9/5/2017 5:51</td>\n",
       "      <td>(中日)使用者發出的信件取回問題-接續問題</td>\n",
       "      <td>Ciou-Liang</td>\n",
       "      <td>kevin@patech.com.tw</td>\n",
       "      <td>service@mailcloud.com.tw</td>\n",
       "      <td>NaN</td>\n",
       "      <td>NaN</td>\n",
       "      <td>Dear 網擎：\\r\\n     附件所示   郵件使用者     alex.chen@cr...</td>\n",
       "    </tr>\n",
       "    <tr>\n",
       "      <th>1</th>\n",
       "      <td>﻿02/27/2018 05:28:12</td>\n",
       "      <td>(仍然無法註冊) Re: M2k - danno149131 - 註冊帳號顯示錯誤</td>\n",
       "      <td>Mail2000 客服中心</td>\n",
       "      <td>m2k_adm@mail2000.com.tw</td>\n",
       "      <td>cloud_se@openfind.com.tw</td>\n",
       "      <td>m2k_service &lt;m2k_service@mail2000.com.tw&gt;</td>\n",
       "      <td>NaN</td>\n",
       "      <td>您好，使用者反應重新註冊帳號，將訂單送出時，系統會顯示\"認證失敗，請重新確認您所輸入的帳號密...</td>\n",
       "    </tr>\n",
       "    <tr>\n",
       "      <th>2</th>\n",
       "      <td>﻿04/18/2018 02:55:09</td>\n",
       "      <td>(希望今天能收到回覆) P-Marker 業務問題 - 潛在客戶：國民健康署</td>\n",
       "      <td>Mail2000 客服中心</td>\n",
       "      <td>m2k_adm@mail2000.com.tw</td>\n",
       "      <td>產品業務 &lt;sales@openfind.com.tw&gt;</td>\n",
       "      <td>m2k_service &lt;m2k_service@mail2000.com.tw&gt;</td>\n",
       "      <td>NaN</td>\n",
       "      <td>您好，國民健康署張淇鈞 小姐02-2522 0889rubychang@hpa.gov.tw...</td>\n",
       "    </tr>\n",
       "    <tr>\n",
       "      <th>3</th>\n",
       "      <td>﻿05/05/2016 08:45:46</td>\n",
       "      <td>(很急) Fw: (急) MailGates 軟體 - 嘉聯益科技 - 稽核條件沒有正常執行</td>\n",
       "      <td>Mail2000 客服中心</td>\n",
       "      <td>m2k_adm@mail2000.com.tw</td>\n",
       "      <td>網擎資訊技術服務信箱 &lt;m2k_noc@openfind.com.tw&gt;</td>\n",
       "      <td>m2k_service &lt;m2k_service@mail2000.com.tw&gt;</td>\n",
       "      <td>NaN</td>\n",
       "      <td>您好，客戶來電表示還沒收到回覆，今天上午也有寄信到m2k_noc，麻煩您幫忙盡快連繫，謝謝。...</td>\n",
       "    </tr>\n",
       "    <tr>\n",
       "      <th>4</th>\n",
       "      <td>﻿12/15/2016 01:54:47</td>\n",
       "      <td>(很急) Fw: Mail2000 軟體 - 德律科技 - 管理者帳號疑似被入侵</td>\n",
       "      <td>Mail2000 客服中心</td>\n",
       "      <td>m2k_adm@mail2000.com.tw</td>\n",
       "      <td>網擎資訊技術服務信箱 &lt;m2k_noc@openfind.com.tw&gt;</td>\n",
       "      <td>m2k_service &lt;m2k_service@mail2000.com.tw&gt;</td>\n",
       "      <td>NaN</td>\n",
       "      <td>您好，德律陳先生0933 818 259問題：客戶提到管理者帳號被登入，想確認系統設定是否有...</td>\n",
       "    </tr>\n",
       "  </tbody>\n",
       "</table>\n",
       "</div>"
      ],
      "text/plain": [
       "                    Date                                         Subject  \\\n",
       "id                                                                         \n",
       "0          9/5/2017 5:51                           (中日)使用者發出的信件取回問題-接續問題   \n",
       "1   ﻿02/27/2018 05:28:12       (仍然無法註冊) Re: M2k - danno149131 - 註冊帳號顯示錯誤   \n",
       "2   ﻿04/18/2018 02:55:09          (希望今天能收到回覆) P-Marker 業務問題 - 潛在客戶：國民健康署   \n",
       "3   ﻿05/05/2016 08:45:46  (很急) Fw: (急) MailGates 軟體 - 嘉聯益科技 - 稽核條件沒有正常執行   \n",
       "4   ﻿12/15/2016 01:54:47        (很急) Fw: Mail2000 軟體 - 德律科技 - 管理者帳號疑似被入侵   \n",
       "\n",
       "             From               From Email  \\\n",
       "id                                           \n",
       "0      Ciou-Liang      kevin@patech.com.tw   \n",
       "1   Mail2000 客服中心  m2k_adm@mail2000.com.tw   \n",
       "2   Mail2000 客服中心  m2k_adm@mail2000.com.tw   \n",
       "3   Mail2000 客服中心  m2k_adm@mail2000.com.tw   \n",
       "4   Mail2000 客服中心  m2k_adm@mail2000.com.tw   \n",
       "\n",
       "                                      To  \\\n",
       "id                                         \n",
       "0               service@mailcloud.com.tw   \n",
       "1               cloud_se@openfind.com.tw   \n",
       "2           產品業務 <sales@openfind.com.tw>   \n",
       "3   網擎資訊技術服務信箱 <m2k_noc@openfind.com.tw>   \n",
       "4   網擎資訊技術服務信箱 <m2k_noc@openfind.com.tw>   \n",
       "\n",
       "                                           Cc  Bcc  \\\n",
       "id                                                   \n",
       "0                                         NaN  NaN   \n",
       "1   m2k_service <m2k_service@mail2000.com.tw>  NaN   \n",
       "2   m2k_service <m2k_service@mail2000.com.tw>  NaN   \n",
       "3   m2k_service <m2k_service@mail2000.com.tw>  NaN   \n",
       "4   m2k_service <m2k_service@mail2000.com.tw>  NaN   \n",
       "\n",
       "                                                 Body  \n",
       "id                                                     \n",
       "0   Dear 網擎：\\r\\n     附件所示   郵件使用者     alex.chen@cr...  \n",
       "1   您好，使用者反應重新註冊帳號，將訂單送出時，系統會顯示\"認證失敗，請重新確認您所輸入的帳號密...  \n",
       "2   您好，國民健康署張淇鈞 小姐02-2522 0889rubychang@hpa.gov.tw...  \n",
       "3   您好，客戶來電表示還沒收到回覆，今天上午也有寄信到m2k_noc，麻煩您幫忙盡快連繫，謝謝。...  \n",
       "4   您好，德律陳先生0933 818 259問題：客戶提到管理者帳號被登入，想確認系統設定是否有...  "
      ]
     },
     "execution_count": 21,
     "metadata": {},
     "output_type": "execute_result"
    }
   ],
   "source": [
    "\n",
    "df_ = pd.read_csv('csv-final.csv',encoding = 'UTF-16', sep='\\t')\n",
    "df_.index.names = ['id']\n",
    "df_.head()"
   ]
  },
  {
   "cell_type": "code",
   "execution_count": 23,
   "metadata": {},
   "outputs": [
    {
     "data": {
      "text/plain": [
       "(2526, 8)"
      ]
     },
     "execution_count": 23,
     "metadata": {},
     "output_type": "execute_result"
    }
   ],
   "source": [
    "df_.shape"
   ]
  },
  {
   "cell_type": "code",
   "execution_count": 26,
   "metadata": {},
   "outputs": [
    {
     "data": {
      "text/plain": [
       "Date             0\n",
       "Subject          0\n",
       "From            13\n",
       "From Email      83\n",
       "To              86\n",
       "Cc             296\n",
       "Bcc           2526\n",
       "Body             1\n",
       "dtype: int64"
      ]
     },
     "execution_count": 26,
     "metadata": {},
     "output_type": "execute_result"
    }
   ],
   "source": [
    "df_.isnull().sum()"
   ]
  },
  {
   "cell_type": "code",
   "execution_count": 27,
   "metadata": {},
   "outputs": [
    {
     "data": {
      "text/html": [
       "<div>\n",
       "<style scoped>\n",
       "    .dataframe tbody tr th:only-of-type {\n",
       "        vertical-align: middle;\n",
       "    }\n",
       "\n",
       "    .dataframe tbody tr th {\n",
       "        vertical-align: top;\n",
       "    }\n",
       "\n",
       "    .dataframe thead th {\n",
       "        text-align: right;\n",
       "    }\n",
       "</style>\n",
       "<table border=\"1\" class=\"dataframe\">\n",
       "  <thead>\n",
       "    <tr style=\"text-align: right;\">\n",
       "      <th></th>\n",
       "      <th>Date</th>\n",
       "      <th>Subject</th>\n",
       "      <th>Body</th>\n",
       "    </tr>\n",
       "    <tr>\n",
       "      <th>id</th>\n",
       "      <th></th>\n",
       "      <th></th>\n",
       "      <th></th>\n",
       "    </tr>\n",
       "  </thead>\n",
       "  <tbody>\n",
       "    <tr>\n",
       "      <th>0</th>\n",
       "      <td>9/5/2017 5:51</td>\n",
       "      <td>(中日)使用者發出的信件取回問題-接續問題</td>\n",
       "      <td>Dear 網擎：\\r\\n     附件所示   郵件使用者     alex.chen@cr...</td>\n",
       "    </tr>\n",
       "    <tr>\n",
       "      <th>1</th>\n",
       "      <td>﻿02/27/2018 05:28:12</td>\n",
       "      <td>(仍然無法註冊) Re: M2k - danno149131 - 註冊帳號顯示錯誤</td>\n",
       "      <td>您好，使用者反應重新註冊帳號，將訂單送出時，系統會顯示\"認證失敗，請重新確認您所輸入的帳號密...</td>\n",
       "    </tr>\n",
       "    <tr>\n",
       "      <th>2</th>\n",
       "      <td>﻿04/18/2018 02:55:09</td>\n",
       "      <td>(希望今天能收到回覆) P-Marker 業務問題 - 潛在客戶：國民健康署</td>\n",
       "      <td>您好，國民健康署張淇鈞 小姐02-2522 0889rubychang@hpa.gov.tw...</td>\n",
       "    </tr>\n",
       "    <tr>\n",
       "      <th>3</th>\n",
       "      <td>﻿05/05/2016 08:45:46</td>\n",
       "      <td>(很急) Fw: (急) MailGates 軟體 - 嘉聯益科技 - 稽核條件沒有正常執行</td>\n",
       "      <td>您好，客戶來電表示還沒收到回覆，今天上午也有寄信到m2k_noc，麻煩您幫忙盡快連繫，謝謝。...</td>\n",
       "    </tr>\n",
       "    <tr>\n",
       "      <th>4</th>\n",
       "      <td>﻿12/15/2016 01:54:47</td>\n",
       "      <td>(很急) Fw: Mail2000 軟體 - 德律科技 - 管理者帳號疑似被入侵</td>\n",
       "      <td>您好，德律陳先生0933 818 259問題：客戶提到管理者帳號被登入，想確認系統設定是否有...</td>\n",
       "    </tr>\n",
       "    <tr>\n",
       "      <th>...</th>\n",
       "      <td>...</td>\n",
       "      <td>...</td>\n",
       "      <td>...</td>\n",
       "    </tr>\n",
       "    <tr>\n",
       "      <th>2521</th>\n",
       "      <td>﻿12/11/2013 05:57:56</td>\n",
       "      <td>關於中日合成帳號問題</td>\n",
       "      <td>您好！\\r\\n我想使用中日合成的帳號進行個資盤點，雖然已經透過sinockl@mail.sj...</td>\n",
       "    </tr>\n",
       "    <tr>\n",
       "      <th>2522</th>\n",
       "      <td>﻿07/15/2013 07:54:45</td>\n",
       "      <td>關於陸委會 P-Marker 的授權設定</td>\n",
       "      <td>Dear SE,雖陸委會買的 P-Marker 私有雲正式授權為 300 台電腦不限次數，不...</td>\n",
       "    </tr>\n",
       "    <tr>\n",
       "      <th>2523</th>\n",
       "      <td>﻿06/03/2016 06:59:43</td>\n",
       "      <td>需要遠端連線 - M2k - kim2177185 - 使用Outlook無法收發信件(用M...</td>\n",
       "      <td>Dear MIS，帳號：kim2177185@mail2000.com.tw連絡人：蘇先生電...</td>\n",
       "    </tr>\n",
       "    <tr>\n",
       "      <th>2524</th>\n",
       "      <td>﻿11/24/2015 10:02:39</td>\n",
       "      <td>麻煩刪除此信箱(學生註冊錯誤)，讓該生可申請另一組，謝謝！</td>\n",
       "      <td>Dear 教育雲郵件網管人員：\\r\\n\\r\\n您好，我是高雄市永清國小的電腦教師(兼任網管)...</td>\n",
       "    </tr>\n",
       "    <tr>\n",
       "      <th>2525</th>\n",
       "      <td>﻿03/26/2013 11:18:06</td>\n",
       "      <td>鼎新電腦 P-Marker 已升為正式版並加 5 次</td>\n",
       "      <td>Dear Bryson,鼎新電腦 P-Marker 已升為正式版並加 5 次目前資料如下公司...</td>\n",
       "    </tr>\n",
       "  </tbody>\n",
       "</table>\n",
       "<p>2525 rows × 3 columns</p>\n",
       "</div>"
      ],
      "text/plain": [
       "                      Date                                            Subject  \\\n",
       "id                                                                              \n",
       "0            9/5/2017 5:51                              (中日)使用者發出的信件取回問題-接續問題   \n",
       "1     ﻿02/27/2018 05:28:12          (仍然無法註冊) Re: M2k - danno149131 - 註冊帳號顯示錯誤   \n",
       "2     ﻿04/18/2018 02:55:09             (希望今天能收到回覆) P-Marker 業務問題 - 潛在客戶：國民健康署   \n",
       "3     ﻿05/05/2016 08:45:46     (很急) Fw: (急) MailGates 軟體 - 嘉聯益科技 - 稽核條件沒有正常執行   \n",
       "4     ﻿12/15/2016 01:54:47           (很急) Fw: Mail2000 軟體 - 德律科技 - 管理者帳號疑似被入侵   \n",
       "...                    ...                                                ...   \n",
       "2521  ﻿12/11/2013 05:57:56                                         關於中日合成帳號問題   \n",
       "2522  ﻿07/15/2013 07:54:45                               關於陸委會 P-Marker 的授權設定   \n",
       "2523  ﻿06/03/2016 06:59:43  需要遠端連線 - M2k - kim2177185 - 使用Outlook無法收發信件(用M...   \n",
       "2524  ﻿11/24/2015 10:02:39                      麻煩刪除此信箱(學生註冊錯誤)，讓該生可申請另一組，謝謝！   \n",
       "2525  ﻿03/26/2013 11:18:06                         鼎新電腦 P-Marker 已升為正式版並加 5 次   \n",
       "\n",
       "                                                   Body  \n",
       "id                                                       \n",
       "0     Dear 網擎：\\r\\n     附件所示   郵件使用者     alex.chen@cr...  \n",
       "1     您好，使用者反應重新註冊帳號，將訂單送出時，系統會顯示\"認證失敗，請重新確認您所輸入的帳號密...  \n",
       "2     您好，國民健康署張淇鈞 小姐02-2522 0889rubychang@hpa.gov.tw...  \n",
       "3     您好，客戶來電表示還沒收到回覆，今天上午也有寄信到m2k_noc，麻煩您幫忙盡快連繫，謝謝。...  \n",
       "4     您好，德律陳先生0933 818 259問題：客戶提到管理者帳號被登入，想確認系統設定是否有...  \n",
       "...                                                 ...  \n",
       "2521  您好！\\r\\n我想使用中日合成的帳號進行個資盤點，雖然已經透過sinockl@mail.sj...  \n",
       "2522  Dear SE,雖陸委會買的 P-Marker 私有雲正式授權為 300 台電腦不限次數，不...  \n",
       "2523  Dear MIS，帳號：kim2177185@mail2000.com.tw連絡人：蘇先生電...  \n",
       "2524  Dear 教育雲郵件網管人員：\\r\\n\\r\\n您好，我是高雄市永清國小的電腦教師(兼任網管)...  \n",
       "2525  Dear Bryson,鼎新電腦 P-Marker 已升為正式版並加 5 次目前資料如下公司...  \n",
       "\n",
       "[2525 rows x 3 columns]"
      ]
     },
     "execution_count": 27,
     "metadata": {},
     "output_type": "execute_result"
    }
   ],
   "source": [
    "df1 = df_.drop(columns = ['From','From Email', 'To', 'Cc','Bcc'], axis = 0)\n",
    "df = df1.dropna()\n",
    "df"
   ]
  },
  {
   "cell_type": "code",
   "execution_count": 28,
   "metadata": {
    "id": "Wajc0oA1vHeQ",
    "tags": []
   },
   "outputs": [],
   "source": [
    "# Convert list Simple Chinese stopword to Traditional stopword \n",
    "stop_words = list(stopwords([\"zh\"]))\n",
    "stopa = []\n",
    "for i in stop_words:\n",
    "    cc = OpenCC('s2t')\n",
    "    texta = cc.convert(i)\n",
    "    stopa.append(texta)"
   ]
  },
  {
   "cell_type": "code",
   "execution_count": 29,
   "metadata": {
    "tags": []
   },
   "outputs": [],
   "source": [
    "def preprocessingTextFull(text, sep = ' '):\n",
    "# regex\n",
    "    text = text.lower()\n",
    "    text = re.sub(r'&lt;', '', text) #remove '&lt;' tag\n",
    "    text = re.sub(r'<.*?>', '', text) #remove html\n",
    "    text = re.sub(r'[^\\w\\s]', '', text) #remove punctiation\n",
    "    text = re.sub('[^\\u4e00-\\u9fa5]+', '', text) # remove ASCII strings\n",
    "    # remove stopword\n",
    "    more_s = ['幫','忙', '請','謝', '謝', '您','好','姓','名', '_','喔','想','感','問','題','没','沒','為',\n",
    "             \"客\",\"服\",\"信\",\"箱\",\"電\",\"子\",\"目\",\"前\",\"公\",\"司\",\"服\",\"務\",\"郵\",\"件\",\"心\", \"擎\",\"先\",\n",
    "              \"生\",\"軟\",\"體\",\"謝\",\"教\",\"育\",\"教\",\"育\",\"雲\",\"科\",\"技\",\"國\",\"鼎\",\"新\",\"高\",\"雄\",\"市\",\n",
    "              \"民\",\"政\",\"局\",\"台\",\"南\",\"糖\",\"網\",\"擎\",\"急\",\"安\",\"泰\",\"兆\",\"豐\",\"可\",\"口\",\"可\",\"樂\",\"口\",\"樂\",\"濟\",\"部\",\"飯\",\"店\",\"潛\",\"客\",\"戶\",\n",
    "             \"邱\",\"良\",\"姐\",\"咖\",\"啡\", '附',\n",
    "              '歡','迎','次','寶',\"瘦\", \"仍\",\"然\",'彰','化', \"工\",\"業\",'企','業', '聯','絡','工','提','供','孟', '秋', '東', '際', '睿', '明']\n",
    "\n",
    "    stop = stopa  + more_s\n",
    "    text = \"\".join([word for word in text if word not in stop]) #remove stopwords\n",
    "    \n",
    "    for c in ['\\r', '\\n', '\\t'] :\n",
    "        text = re.sub(c, ' ', text) #replace newline and tab with tabs\\\n",
    "        text = re.sub('\\s+', ' ', text) #replace multiple spaces with one space\n",
    "        \n",
    "    text_cut = sep.join(jieba.cut(text, cut_all=False))\n",
    "    \n",
    "    return text_cut\n"
   ]
  },
  {
   "cell_type": "code",
   "execution_count": 32,
   "metadata": {
    "id": "kk58DiBcvHeR",
    "outputId": "444546ed-be13-4bcd-ed8a-0616bc71695c",
    "scrolled": true,
    "tags": []
   },
   "outputs": [
    {
     "name": "stderr",
     "output_type": "stream",
     "text": [
      "C:\\Users\\USER\\AppData\\Local\\Temp\\ipykernel_9844\\3126485061.py:1: SettingWithCopyWarning: \n",
      "A value is trying to be set on a copy of a slice from a DataFrame.\n",
      "Try using .loc[row_indexer,col_indexer] = value instead\n",
      "\n",
      "See the caveats in the documentation: https://pandas.pydata.org/pandas-docs/stable/user_guide/indexing.html#returning-a-view-versus-a-copy\n",
      "  df['merged'] = df['Body']+df['Subject']\n",
      "C:\\Users\\USER\\AppData\\Local\\Temp\\ipykernel_9844\\3126485061.py:2: SettingWithCopyWarning: \n",
      "A value is trying to be set on a copy of a slice from a DataFrame.\n",
      "Try using .loc[row_indexer,col_indexer] = value instead\n",
      "\n",
      "See the caveats in the documentation: https://pandas.pydata.org/pandas-docs/stable/user_guide/indexing.html#returning-a-view-versus-a-copy\n",
      "  df['merged'] = df['merged'].apply(preprocessingTextFull) # mergerd and preprocessing\n"
     ]
    }
   ],
   "source": [
    "df['merged'] = df['Body']+df['Subject']\n",
    "df['merged'] = df['merged'].apply(preprocessingTextFull) # mergerd and preprocessing"
   ]
  },
  {
   "cell_type": "code",
   "execution_count": 33,
   "metadata": {},
   "outputs": [
    {
     "data": {
      "text/plain": [
       "(2525, 4)"
      ]
     },
     "execution_count": 33,
     "metadata": {},
     "output_type": "execute_result"
    }
   ],
   "source": [
    "df.shape"
   ]
  },
  {
   "cell_type": "code",
   "execution_count": 34,
   "metadata": {},
   "outputs": [],
   "source": [
    "df = df[:]\n",
    "data = df.merged.tolist() # preproprocessed\n",
    "data_list = list(data)\n",
    "data_words = [i.split() for i in data_list]"
   ]
  },
  {
   "cell_type": "code",
   "execution_count": 35,
   "metadata": {},
   "outputs": [
    {
     "data": {
      "text/plain": [
       "(2525, 4)"
      ]
     },
     "execution_count": 35,
     "metadata": {},
     "output_type": "execute_result"
    }
   ],
   "source": [
    "df.shape"
   ]
  },
  {
   "cell_type": "code",
   "execution_count": 36,
   "metadata": {},
   "outputs": [],
   "source": [
    "# clean with jieba\n",
    "\n",
    "import jieba.analyse as analyse\n",
    "import jieba.posseg as posseg\n",
    "\n",
    "def postag(text):\n",
    "    pos = ['n', 'a', 'v', 'd'] #'nv', 'vd', 'vn', 'vx', 'vi'\n",
    "    text_out = []\n",
    "    for word, flag in posseg.cut(text):\n",
    "        if flag in pos:\n",
    "            text_out.append(word)\n",
    "    return text_out"
   ]
  },
  {
   "cell_type": "code",
   "execution_count": 37,
   "metadata": {},
   "outputs": [],
   "source": [
    "pos_text = df['merged'].apply(postag)"
   ]
  },
  {
   "cell_type": "code",
   "execution_count": 42,
   "metadata": {},
   "outputs": [
    {
     "name": "stderr",
     "output_type": "stream",
     "text": [
      "C:\\Users\\USER\\AppData\\Local\\Temp\\ipykernel_9844\\4094055878.py:1: SettingWithCopyWarning: \n",
      "A value is trying to be set on a copy of a slice from a DataFrame.\n",
      "Try using .loc[row_indexer,col_indexer] = value instead\n",
      "\n",
      "See the caveats in the documentation: https://pandas.pydata.org/pandas-docs/stable/user_guide/indexing.html#returning-a-view-versus-a-copy\n",
      "  df['clean_text'] = pos_text\n",
      "C:\\Users\\USER\\AppData\\Local\\Temp\\ipykernel_9844\\4094055878.py:2: SettingWithCopyWarning: \n",
      "A value is trying to be set on a copy of a slice from a DataFrame.\n",
      "Try using .loc[row_indexer,col_indexer] = value instead\n",
      "\n",
      "See the caveats in the documentation: https://pandas.pydata.org/pandas-docs/stable/user_guide/indexing.html#returning-a-view-versus-a-copy\n",
      "  df['clean_text'] = df['clean_text'].apply(lambda x: ' '.join(map(str, x)))\n"
     ]
    }
   ],
   "source": [
    "df['clean_text'] = pos_text\n",
    "df['clean_text'] = df['clean_text'].apply(lambda x: ' '.join(map(str, x)))"
   ]
  },
  {
   "cell_type": "code",
   "execution_count": 43,
   "metadata": {},
   "outputs": [
    {
     "name": "stdout",
     "output_type": "stream",
     "text": [
      "<class 'pandas.core.frame.DataFrame'>\n",
      "Int64Index: 2525 entries, 0 to 2525\n",
      "Data columns (total 5 columns):\n",
      " #   Column      Non-Null Count  Dtype \n",
      "---  ------      --------------  ----- \n",
      " 0   Date        2525 non-null   object\n",
      " 1   Subject     2525 non-null   object\n",
      " 2   Body        2525 non-null   object\n",
      " 3   merged      2525 non-null   object\n",
      " 4   clean_text  2525 non-null   object\n",
      "dtypes: object(5)\n",
      "memory usage: 118.4+ KB\n"
     ]
    }
   ],
   "source": [
    "df.info()"
   ]
  },
  {
   "cell_type": "code",
   "execution_count": 44,
   "metadata": {},
   "outputs": [
    {
     "data": {
      "text/html": [
       "<div>\n",
       "<style scoped>\n",
       "    .dataframe tbody tr th:only-of-type {\n",
       "        vertical-align: middle;\n",
       "    }\n",
       "\n",
       "    .dataframe tbody tr th {\n",
       "        vertical-align: top;\n",
       "    }\n",
       "\n",
       "    .dataframe thead th {\n",
       "        text-align: right;\n",
       "    }\n",
       "</style>\n",
       "<table border=\"1\" class=\"dataframe\">\n",
       "  <thead>\n",
       "    <tr style=\"text-align: right;\">\n",
       "      <th></th>\n",
       "      <th>Date</th>\n",
       "      <th>Subject</th>\n",
       "      <th>Body</th>\n",
       "      <th>merged</th>\n",
       "      <th>clean_text</th>\n",
       "    </tr>\n",
       "    <tr>\n",
       "      <th>id</th>\n",
       "      <th></th>\n",
       "      <th></th>\n",
       "      <th></th>\n",
       "      <th></th>\n",
       "      <th></th>\n",
       "    </tr>\n",
       "  </thead>\n",
       "  <tbody>\n",
       "    <tr>\n",
       "      <th>0</th>\n",
       "      <td>9/5/2017 5:51</td>\n",
       "      <td>(中日)使用者發出的信件取回問題-接續問題</td>\n",
       "      <td>Dear 網擎：\\r\\n     附件所示   郵件使用者     alex.chen@cr...</td>\n",
       "      <td>示間 寄出 寄備 份 找 取回 特種 紙廠 股份 限發出 取回 接續</td>\n",
       "      <td>示間 寄出 寄備 找 取回 特種 紙廠 股份 限 發出 取回 接續</td>\n",
       "    </tr>\n",
       "    <tr>\n",
       "      <th>1</th>\n",
       "      <td>﻿02/27/2018 05:28:12</td>\n",
       "      <td>(仍然無法註冊) Re: M2k - danno149131 - 註冊帳號顯示錯誤</td>\n",
       "      <td>您好，使用者反應重新註冊帳號，將訂單送出時，系統會顯示\"認證失敗，請重新確認您所輸入的帳號密...</td>\n",
       "      <td>反應 重 註 冊 帳 號 訂 單 送 出 系 統 顯 示 認 證 失 敗 重 確 認 輸 入...</td>\n",
       "      <td>重 送 出 系 示 重 入 密 密 重 透 重 取消 訂單 確定 遇 相 情形 詢敬 享 減...</td>\n",
       "    </tr>\n",
       "    <tr>\n",
       "      <th>2</th>\n",
       "      <td>﻿04/18/2018 02:55:09</td>\n",
       "      <td>(希望今天能收到回覆) P-Marker 業務問題 - 潛在客戶：國民健康署</td>\n",
       "      <td>您好，國民健康署張淇鈞 小姐02-2522 0889rubychang@hpa.gov.tw...</td>\n",
       "      <td>健康 署 張淇鈞 需資盤 詢功 價格 張希天 收回 覆麻 煩 繫 愛 洽 詢 敬 享 減 肥...</td>\n",
       "      <td>健康 需資盤 詢功 價格 收回 覆麻 敬 享 肥 享 示 存 送 享 空 接 著 具 情 真...</td>\n",
       "    </tr>\n",
       "    <tr>\n",
       "      <th>3</th>\n",
       "      <td>﻿05/05/2016 08:45:46</td>\n",
       "      <td>(很急) Fw: (急) MailGates 軟體 - 嘉聯益科技 - 稽核條件沒有正常執行</td>\n",
       "      <td>您好，客戶來電表示還沒收到回覆，今天上午也有寄信到m2k_noc，麻煩您幫忙盡快連繫，謝謝。...</td>\n",
       "      <td>表示 收回 覆天午 寄麻煩 快 繫 愛 洽 詢 享 減 肥 檔 旁 享 圖 示 檔 存 贈 ...</td>\n",
       "      <td>表示 收回 寄 快 享 肥 享 示 存 送 享 空 接 著 具 情 敬 真 端 站 稽核 正...</td>\n",
       "    </tr>\n",
       "    <tr>\n",
       "      <th>4</th>\n",
       "      <td>﻿12/15/2016 01:54:47</td>\n",
       "      <td>(很急) Fw: Mail2000 軟體 - 德律科技 - 管理者帳號疑似被入侵</td>\n",
       "      <td>您好，德律陳先生0933 818 259問題：客戶提到管理者帳號被登入，想確認系統設定是否有...</td>\n",
       "      <td>德律陳理 帳號 登入確 認系統 設定 否動 麻煩 快 繫 愛 洽 詢 享 減 肥 檔 旁 享...</td>\n",
       "      <td>理 帳號 登入 確 認系 統 設定 否動 快 享 肥 享 示 存 送 享 空 接 著 具 情...</td>\n",
       "    </tr>\n",
       "  </tbody>\n",
       "</table>\n",
       "</div>"
      ],
      "text/plain": [
       "                    Date                                         Subject  \\\n",
       "id                                                                         \n",
       "0          9/5/2017 5:51                           (中日)使用者發出的信件取回問題-接續問題   \n",
       "1   ﻿02/27/2018 05:28:12       (仍然無法註冊) Re: M2k - danno149131 - 註冊帳號顯示錯誤   \n",
       "2   ﻿04/18/2018 02:55:09          (希望今天能收到回覆) P-Marker 業務問題 - 潛在客戶：國民健康署   \n",
       "3   ﻿05/05/2016 08:45:46  (很急) Fw: (急) MailGates 軟體 - 嘉聯益科技 - 稽核條件沒有正常執行   \n",
       "4   ﻿12/15/2016 01:54:47        (很急) Fw: Mail2000 軟體 - 德律科技 - 管理者帳號疑似被入侵   \n",
       "\n",
       "                                                 Body  \\\n",
       "id                                                      \n",
       "0   Dear 網擎：\\r\\n     附件所示   郵件使用者     alex.chen@cr...   \n",
       "1   您好，使用者反應重新註冊帳號，將訂單送出時，系統會顯示\"認證失敗，請重新確認您所輸入的帳號密...   \n",
       "2   您好，國民健康署張淇鈞 小姐02-2522 0889rubychang@hpa.gov.tw...   \n",
       "3   您好，客戶來電表示還沒收到回覆，今天上午也有寄信到m2k_noc，麻煩您幫忙盡快連繫，謝謝。...   \n",
       "4   您好，德律陳先生0933 818 259問題：客戶提到管理者帳號被登入，想確認系統設定是否有...   \n",
       "\n",
       "                                               merged  \\\n",
       "id                                                      \n",
       "0                  示間 寄出 寄備 份 找 取回 特種 紙廠 股份 限發出 取回 接續   \n",
       "1   反應 重 註 冊 帳 號 訂 單 送 出 系 統 顯 示 認 證 失 敗 重 確 認 輸 入...   \n",
       "2   健康 署 張淇鈞 需資盤 詢功 價格 張希天 收回 覆麻 煩 繫 愛 洽 詢 敬 享 減 肥...   \n",
       "3   表示 收回 覆天午 寄麻煩 快 繫 愛 洽 詢 享 減 肥 檔 旁 享 圖 示 檔 存 贈 ...   \n",
       "4   德律陳理 帳號 登入確 認系統 設定 否動 麻煩 快 繫 愛 洽 詢 享 減 肥 檔 旁 享...   \n",
       "\n",
       "                                           clean_text  \n",
       "id                                                     \n",
       "0                   示間 寄出 寄備 找 取回 特種 紙廠 股份 限 發出 取回 接續  \n",
       "1   重 送 出 系 示 重 入 密 密 重 透 重 取消 訂單 確定 遇 相 情形 詢敬 享 減...  \n",
       "2   健康 需資盤 詢功 價格 收回 覆麻 敬 享 肥 享 示 存 送 享 空 接 著 具 情 真...  \n",
       "3   表示 收回 寄 快 享 肥 享 示 存 送 享 空 接 著 具 情 敬 真 端 站 稽核 正...  \n",
       "4   理 帳號 登入 確 認系 統 設定 否動 快 享 肥 享 示 存 送 享 空 接 著 具 情...  "
      ]
     },
     "execution_count": 44,
     "metadata": {},
     "output_type": "execute_result"
    }
   ],
   "source": [
    "df.head()"
   ]
  },
  {
   "cell_type": "code",
   "execution_count": 45,
   "metadata": {},
   "outputs": [],
   "source": [
    "clean_text=df['clean_text'].tolist() # propcessed with pos"
   ]
  },
  {
   "cell_type": "markdown",
   "metadata": {},
   "source": [
    "# 2. Using Sklearn library to vectorize the input then feed to LDA "
   ]
  },
  {
   "cell_type": "markdown",
   "metadata": {
    "tags": []
   },
   "source": [
    "## 2.1 Topics with no applied jieba"
   ]
  },
  {
   "cell_type": "code",
   "execution_count": 99,
   "metadata": {},
   "outputs": [],
   "source": [
    "CountVec = CountVectorizer(max_df=0.95, min_df=2, max_features=50000)\n",
    "data_vectorized = CountVec.fit_transform(data) # fit input data\n",
    "lda_model_ = LatentDirichletAllocation(n_components=5,\n",
    "                                      max_iter=10, \n",
    "                                      learning_method='online',\n",
    "                                      learning_offset=70.,\n",
    "                                      learning_decay = .7,\n",
    "                                      random_state=0).fit(data_vectorized)"
   ]
  },
  {
   "cell_type": "code",
   "execution_count": 100,
   "metadata": {},
   "outputs": [
    {
     "data": {
      "text/plain": [
       "[array(['圖示', '享空間', '傳真端', '具選單', '旁享', '存贈', '接著', '減肥檔', '帳號', '專線'],\n",
       "       dtype='<U7'),\n",
       " array(['備份', '失敗', '檔案', '資料', '團隊', '記錄', '免費', '配合', '腦備', '天動備'],\n",
       "       dtype='<U7'),\n",
       " array(['檔案', '測試', '設定', '顯示', '結果', '報表', '確認', '回覆', '授權', '掃描'],\n",
       "       dtype='<U7'),\n",
       " array(['帳號', '校園', '登入', '資訊', '回覆', '系統', '園端', '檔案', '反應', '資盤'],\n",
       "       dtype='<U7'),\n",
       " array(['股份', '北路', '段號', '重慶', '資盤', '完成', '資訊', '回覆', '通知', '需求'],\n",
       "       dtype='<U7')]"
      ]
     },
     "execution_count": 100,
     "metadata": {},
     "output_type": "execute_result"
    }
   ],
   "source": [
    "# Show top n keywords for each topic\n",
    "def show_topics(vectorizer, lda_model, n_words=10):\n",
    "    keywords = np.array(vectorizer.get_feature_names())\n",
    "    topic_keywords = []\n",
    "    for topic_weights in lda_model.components_:\n",
    "        top_keyword_locs = (-topic_weights).argsort()[:n_words]\n",
    "        topic_keywords.append(keywords.take(top_keyword_locs))\n",
    "    return topic_keywords\n",
    "\n",
    "topic_keywords = show_topics(CountVec, lda_model_, n_words=10)        \n",
    "topic_keywords"
   ]
  },
  {
   "cell_type": "code",
   "execution_count": 101,
   "metadata": {
    "tags": []
   },
   "outputs": [
    {
     "name": "stdout",
     "output_type": "stream",
     "text": [
      "Log Likelihood:  -1243726.2788487517\n",
      "Perplexity:  1313.0677321791445\n",
      "{'batch_size': 128,\n",
      " 'doc_topic_prior': None,\n",
      " 'evaluate_every': -1,\n",
      " 'learning_decay': 0.7,\n",
      " 'learning_method': 'online',\n",
      " 'learning_offset': 70.0,\n",
      " 'max_doc_update_iter': 100,\n",
      " 'max_iter': 10,\n",
      " 'mean_change_tol': 0.001,\n",
      " 'n_components': 5,\n",
      " 'n_jobs': None,\n",
      " 'perp_tol': 0.1,\n",
      " 'random_state': 0,\n",
      " 'topic_word_prior': None,\n",
      " 'total_samples': 1000000.0,\n",
      " 'verbose': 0}\n"
     ]
    }
   ],
   "source": [
    "# Log Likelyhood: Higher the better\n",
    "print(\"Log Likelihood: \", lda_model_.score(data_vectorized))\n",
    "\n",
    "# Perplexity: Lower the better. Perplexity = exp(-1. * log-likelihood per word)\n",
    "print(\"Perplexity: \", lda_model_.perplexity(data_vectorized))\n",
    "\n",
    "# See model parameters\n",
    "pprint(lda_model_.get_params())"
   ]
  },
  {
   "cell_type": "markdown",
   "metadata": {},
   "source": [
    "## 2.2 Topics with applied jieba"
   ]
  },
  {
   "cell_type": "code",
   "execution_count": 105,
   "metadata": {},
   "outputs": [],
   "source": [
    "data_vectorized2 = CountVec.fit_transform(clean_text) # fit input data\n",
    "lda_model = LatentDirichletAllocation(n_components=5,\n",
    "                                      max_iter=10, \n",
    "                                      learning_method='online',\n",
    "                                      learning_offset=70.,\n",
    "                                      learning_decay = .7,\n",
    "                                      random_state=0).fit(data_vectorized2)"
   ]
  },
  {
   "cell_type": "code",
   "execution_count": 106,
   "metadata": {},
   "outputs": [
    {
     "data": {
      "text/plain": [
       "[array(['檔案', '設定', '結果', '報表', '掃描', '顯示', '資盤', '建議', '支援', '回覆'],\n",
       "       dtype='<U5'),\n",
       " array(['寄出', '雙重', '紀錄', '試仁', '收法', '增域', '廣告', '簡訊', '增簿', '資通'],\n",
       "       dtype='<U5'),\n",
       " array(['回覆', '支援', '資訊', '專線', '股份', '帳號', '通訊錄', '行事', '手機', '辦室'],\n",
       "       dtype='<U5'),\n",
       " array(['資訊', '登入', '帳號', '校園', '系統', '協助', '資料', '資盤', '回覆', '園端'],\n",
       "       dtype='<U5'),\n",
       " array(['備份', '失敗', '資料', '檔案', '團隊', '記錄', '股份', '執行', '手杯', '知著'],\n",
       "       dtype='<U5')]"
      ]
     },
     "execution_count": 106,
     "metadata": {},
     "output_type": "execute_result"
    }
   ],
   "source": [
    "# Show top n keywords for each topic\n",
    "topic_keywords = show_topics(CountVec, lda_model, n_words=10)        \n",
    "topic_keywords"
   ]
  },
  {
   "cell_type": "code",
   "execution_count": 107,
   "metadata": {
    "tags": []
   },
   "outputs": [
    {
     "name": "stdout",
     "output_type": "stream",
     "text": [
      "Log Likelihood:  -923839.3294205619\n",
      "Perplexity:  720.2730906516366\n",
      "{'batch_size': 128,\n",
      " 'doc_topic_prior': None,\n",
      " 'evaluate_every': -1,\n",
      " 'learning_decay': 0.7,\n",
      " 'learning_method': 'online',\n",
      " 'learning_offset': 70.0,\n",
      " 'max_doc_update_iter': 100,\n",
      " 'max_iter': 10,\n",
      " 'mean_change_tol': 0.001,\n",
      " 'n_components': 5,\n",
      " 'n_jobs': None,\n",
      " 'perp_tol': 0.1,\n",
      " 'random_state': 0,\n",
      " 'topic_word_prior': None,\n",
      " 'total_samples': 1000000.0,\n",
      " 'verbose': 0}\n"
     ]
    }
   ],
   "source": [
    "# Log Likelyhood: Higher the better\n",
    "print(\"Log Likelihood: \", lda_model.score(data_vectorized2))\n",
    "\n",
    "# Perplexity: Lower the better. Perplexity = exp(-1. * log-likelihood per word)\n",
    "print(\"Perplexity: \", lda_model.perplexity(data_vectorized2))\n",
    "\n",
    "# See model parameters\n",
    "pprint(lda_model.get_params())"
   ]
  },
  {
   "cell_type": "markdown",
   "metadata": {},
   "source": [
    "# 2.3 Using GridSearchCV to find the best lda model ~ topics"
   ]
  },
  {
   "cell_type": "code",
   "execution_count": 108,
   "metadata": {},
   "outputs": [],
   "source": [
    "# Beware it will try *all* of the combinations, so it'll take ages\n",
    "search_params = {'n_components': range(4,10)}\n",
    "\n",
    "# Set up LDA with the options we'll keep static\n",
    "model = LatentDirichletAllocation(max_iter=10, \n",
    "                                  learning_method='online',\n",
    "                                  learning_offset=70.,\n",
    "                                  random_state=0)\n",
    "\n",
    "# Try all of the options\n",
    "gridsearch = GridSearchCV(model,\n",
    "                          param_grid=search_params)\n",
    "gridsearch.fit(data_vectorized2)\n",
    "\n",
    "## Save the best model\n",
    "best_lda = gridsearch.best_estimator_"
   ]
  },
  {
   "cell_type": "code",
   "execution_count": 109,
   "metadata": {},
   "outputs": [
    {
     "name": "stdout",
     "output_type": "stream",
     "text": [
      "Best Model's Params:  {'n_components': 4}\n"
     ]
    }
   ],
   "source": [
    "print(\"Best Model's Params: \", gridsearch.best_params_)"
   ]
  },
  {
   "cell_type": "markdown",
   "metadata": {},
   "source": [
    "# 2.4 Run again with best model 'learning_decay': 0.7, 'n_components': 4"
   ]
  },
  {
   "cell_type": "code",
   "execution_count": 110,
   "metadata": {},
   "outputs": [],
   "source": [
    "lda_model = LatentDirichletAllocation(n_components=4,\n",
    "                                      max_iter=10, \n",
    "                                      learning_method='online',\n",
    "                                      learning_offset=70.,\n",
    "                                      learning_decay = .7,\n",
    "                                      random_state=0).fit(data_vectorized2)"
   ]
  },
  {
   "cell_type": "code",
   "execution_count": 111,
   "metadata": {},
   "outputs": [
    {
     "name": "stderr",
     "output_type": "stream",
     "text": [
      "C:\\Users\\USER\\anaconda3\\envs\\pytorch\\lib\\site-packages\\sklearn\\utils\\deprecation.py:87: FutureWarning: Function get_feature_names is deprecated; get_feature_names is deprecated in 1.0 and will be removed in 1.2. Please use get_feature_names_out instead.\n",
      "  warnings.warn(msg, category=FutureWarning)\n"
     ]
    },
    {
     "data": {
      "text/plain": [
       "[array(['檔案', '資盤', '掃描', '完成', '顯示', '執行', '結果', '報表', '程式', '資料'],\n",
       "       dtype='<U5'),\n",
       " array(['資料', '方式', '寄出', '引述', '需求', '增域', '增簿', '紀錄', '建議', '建章'],\n",
       "       dtype='<U5'),\n",
       " array(['資盤', '股份', '產品', '資訊', '稽核', '協助', '系統', '回覆', '需求', '報價'],\n",
       "       dtype='<U5'),\n",
       " array(['登入', '資訊', '帳號', '校園', '備份', '系統', '資料', '回覆', '檔案', '園端'],\n",
       "       dtype='<U5')]"
      ]
     },
     "execution_count": 111,
     "metadata": {},
     "output_type": "execute_result"
    }
   ],
   "source": [
    "# Show top n keywords for each topic\n",
    "topic_keywords = show_topics(vectorizer=CountVec, lda_model=lda_model, n_words=10)        \n",
    "topic_keywords"
   ]
  },
  {
   "cell_type": "code",
   "execution_count": 112,
   "metadata": {},
   "outputs": [
    {
     "name": "stdout",
     "output_type": "stream",
     "text": [
      "Log Likelihood:  -920458.4337083623\n",
      "Perplexity:  703.1368386188625\n",
      "{'batch_size': 128,\n",
      " 'doc_topic_prior': None,\n",
      " 'evaluate_every': -1,\n",
      " 'learning_decay': 0.7,\n",
      " 'learning_method': 'online',\n",
      " 'learning_offset': 70.0,\n",
      " 'max_doc_update_iter': 100,\n",
      " 'max_iter': 10,\n",
      " 'mean_change_tol': 0.001,\n",
      " 'n_components': 4,\n",
      " 'n_jobs': None,\n",
      " 'perp_tol': 0.1,\n",
      " 'random_state': 0,\n",
      " 'topic_word_prior': None,\n",
      " 'total_samples': 1000000.0,\n",
      " 'verbose': 0}\n"
     ]
    }
   ],
   "source": [
    "# Log Likelyhood: Higher the better\n",
    "print(\"Log Likelihood: \", lda_model.score(data_vectorized2))\n",
    "\n",
    "# Perplexity: Lower the better. Perplexity = exp(-1. * log-likelihood per word)\n",
    "print(\"Perplexity: \", lda_model.perplexity(data_vectorized2))\n",
    "\n",
    "# See model parameters\n",
    "pprint(lda_model.get_params())"
   ]
  },
  {
   "cell_type": "markdown",
   "metadata": {},
   "source": [
    "## 3.  Dominant topic in each email and labeling"
   ]
  },
  {
   "cell_type": "code",
   "execution_count": 113,
   "metadata": {},
   "outputs": [
    {
     "data": {
      "text/plain": [
       "[array(['檔案', '資盤', '掃描', '完成', '顯示', '執行', '結果', '報表', '程式', '資料'],\n",
       "       dtype='<U5'),\n",
       " array(['資料', '方式', '寄出', '引述', '需求', '增域', '增簿', '紀錄', '建議', '建章'],\n",
       "       dtype='<U5'),\n",
       " array(['資盤', '股份', '產品', '資訊', '稽核', '協助', '系統', '回覆', '需求', '報價'],\n",
       "       dtype='<U5'),\n",
       " array(['登入', '資訊', '帳號', '校園', '備份', '系統', '資料', '回覆', '檔案', '園端'],\n",
       "       dtype='<U5')]"
      ]
     },
     "execution_count": 113,
     "metadata": {},
     "output_type": "execute_result"
    }
   ],
   "source": [
    "topic_keywords # topics"
   ]
  },
  {
   "cell_type": "code",
   "execution_count": 114,
   "metadata": {},
   "outputs": [],
   "source": [
    "topic_list = [] # convert array to list\n",
    "for i in topic_keywords:\n",
    "    i = i.tolist()\n",
    "    topic_list.append(i)"
   ]
  },
  {
   "cell_type": "code",
   "execution_count": 128,
   "metadata": {},
   "outputs": [
    {
     "data": {
      "text/html": [
       "<style type=\"text/css\">\n",
       "#T_86831_row0_col0, #T_86831_row0_col2, #T_86831_row0_col3, #T_86831_row1_col0, #T_86831_row1_col1, #T_86831_row1_col2, #T_86831_row2_col1, #T_86831_row2_col2, #T_86831_row2_col3, #T_86831_row2_col4, #T_86831_row3_col1, #T_86831_row4_col0, #T_86831_row5_col1, #T_86831_row5_col3, #T_86831_row5_col4, #T_86831_row6_col1, #T_86831_row6_col2, #T_86831_row6_col3, #T_86831_row6_col4, #T_86831_row7_col0, #T_86831_row7_col1, #T_86831_row7_col3, #T_86831_row8_col1, #T_86831_row8_col2, #T_86831_row8_col3, #T_86831_row8_col4, #T_86831_row9_col1, #T_86831_row9_col2, #T_86831_row9_col3, #T_86831_row9_col4, #T_86831_row10_col4, #T_86831_row11_col0, #T_86831_row11_col1, #T_86831_row12_col0, #T_86831_row12_col1, #T_86831_row12_col3, #T_86831_row13_col0, #T_86831_row13_col1, #T_86831_row13_col3, #T_86831_row14_col0, #T_86831_row14_col2 {\n",
       "  color: black;\n",
       "  font-weight: 400;\n",
       "}\n",
       "#T_86831_row0_col1, #T_86831_row0_col4, #T_86831_row1_col3, #T_86831_row1_col4, #T_86831_row2_col0, #T_86831_row3_col0, #T_86831_row3_col2, #T_86831_row3_col3, #T_86831_row3_col4, #T_86831_row4_col1, #T_86831_row4_col2, #T_86831_row4_col3, #T_86831_row4_col4, #T_86831_row5_col0, #T_86831_row5_col2, #T_86831_row6_col0, #T_86831_row7_col2, #T_86831_row7_col4, #T_86831_row8_col0, #T_86831_row9_col0, #T_86831_row10_col0, #T_86831_row10_col1, #T_86831_row10_col2, #T_86831_row10_col3, #T_86831_row11_col2, #T_86831_row11_col3, #T_86831_row11_col4, #T_86831_row12_col2, #T_86831_row12_col4, #T_86831_row13_col2, #T_86831_row13_col4, #T_86831_row14_col1, #T_86831_row14_col3, #T_86831_row14_col4 {\n",
       "  color: green;\n",
       "  font-weight: 700;\n",
       "}\n",
       "</style>\n",
       "<table id=\"T_86831\">\n",
       "  <thead>\n",
       "    <tr>\n",
       "      <th class=\"blank level0\" >&nbsp;</th>\n",
       "      <th id=\"T_86831_level0_col0\" class=\"col_heading level0 col0\" >Topic(0, ['檔案', '資盤', '掃描', '完成', '顯示', '執行', '結果', '報表', '程式', '資料'])</th>\n",
       "      <th id=\"T_86831_level0_col1\" class=\"col_heading level0 col1\" >Topic(1, ['資料', '方式', '寄出', '引述', '需求', '增域', '增簿', '紀錄', '建議', '建章'])</th>\n",
       "      <th id=\"T_86831_level0_col2\" class=\"col_heading level0 col2\" >Topic(2, ['資盤', '股份', '產品', '資訊', '稽核', '協助', '系統', '回覆', '需求', '報價'])</th>\n",
       "      <th id=\"T_86831_level0_col3\" class=\"col_heading level0 col3\" >Topic(3, ['登入', '資訊', '帳號', '校園', '備份', '系統', '資料', '回覆', '檔案', '園端'])</th>\n",
       "      <th id=\"T_86831_level0_col4\" class=\"col_heading level0 col4\" >Label</th>\n",
       "    </tr>\n",
       "  </thead>\n",
       "  <tbody>\n",
       "    <tr>\n",
       "      <th id=\"T_86831_level0_row0\" class=\"row_heading level0 row0\" >0</th>\n",
       "      <td id=\"T_86831_row0_col0\" class=\"data row0 col0\" >0.030000</td>\n",
       "      <td id=\"T_86831_row0_col1\" class=\"data row0 col1\" >0.860000</td>\n",
       "      <td id=\"T_86831_row0_col2\" class=\"data row0 col2\" >0.080000</td>\n",
       "      <td id=\"T_86831_row0_col3\" class=\"data row0 col3\" >0.030000</td>\n",
       "      <td id=\"T_86831_row0_col4\" class=\"data row0 col4\" >1</td>\n",
       "    </tr>\n",
       "    <tr>\n",
       "      <th id=\"T_86831_level0_row1\" class=\"row_heading level0 row1\" >1</th>\n",
       "      <td id=\"T_86831_row1_col0\" class=\"data row1 col0\" >0.010000</td>\n",
       "      <td id=\"T_86831_row1_col1\" class=\"data row1 col1\" >0.010000</td>\n",
       "      <td id=\"T_86831_row1_col2\" class=\"data row1 col2\" >0.010000</td>\n",
       "      <td id=\"T_86831_row1_col3\" class=\"data row1 col3\" >0.970000</td>\n",
       "      <td id=\"T_86831_row1_col4\" class=\"data row1 col4\" >3</td>\n",
       "    </tr>\n",
       "    <tr>\n",
       "      <th id=\"T_86831_level0_row2\" class=\"row_heading level0 row2\" >2</th>\n",
       "      <td id=\"T_86831_row2_col0\" class=\"data row2 col0\" >0.910000</td>\n",
       "      <td id=\"T_86831_row2_col1\" class=\"data row2 col1\" >0.030000</td>\n",
       "      <td id=\"T_86831_row2_col2\" class=\"data row2 col2\" >0.030000</td>\n",
       "      <td id=\"T_86831_row2_col3\" class=\"data row2 col3\" >0.030000</td>\n",
       "      <td id=\"T_86831_row2_col4\" class=\"data row2 col4\" >0</td>\n",
       "    </tr>\n",
       "    <tr>\n",
       "      <th id=\"T_86831_level0_row3\" class=\"row_heading level0 row3\" >3</th>\n",
       "      <td id=\"T_86831_row3_col0\" class=\"data row3 col0\" >0.190000</td>\n",
       "      <td id=\"T_86831_row3_col1\" class=\"data row3 col1\" >0.020000</td>\n",
       "      <td id=\"T_86831_row3_col2\" class=\"data row3 col2\" >0.380000</td>\n",
       "      <td id=\"T_86831_row3_col3\" class=\"data row3 col3\" >0.410000</td>\n",
       "      <td id=\"T_86831_row3_col4\" class=\"data row3 col4\" >3</td>\n",
       "    </tr>\n",
       "    <tr>\n",
       "      <th id=\"T_86831_level0_row4\" class=\"row_heading level0 row4\" >4</th>\n",
       "      <td id=\"T_86831_row4_col0\" class=\"data row4 col0\" >0.010000</td>\n",
       "      <td id=\"T_86831_row4_col1\" class=\"data row4 col1\" >0.130000</td>\n",
       "      <td id=\"T_86831_row4_col2\" class=\"data row4 col2\" >0.130000</td>\n",
       "      <td id=\"T_86831_row4_col3\" class=\"data row4 col3\" >0.740000</td>\n",
       "      <td id=\"T_86831_row4_col4\" class=\"data row4 col4\" >3</td>\n",
       "    </tr>\n",
       "    <tr>\n",
       "      <th id=\"T_86831_level0_row5\" class=\"row_heading level0 row5\" >5</th>\n",
       "      <td id=\"T_86831_row5_col0\" class=\"data row5 col0\" >0.600000</td>\n",
       "      <td id=\"T_86831_row5_col1\" class=\"data row5 col1\" >0.030000</td>\n",
       "      <td id=\"T_86831_row5_col2\" class=\"data row5 col2\" >0.350000</td>\n",
       "      <td id=\"T_86831_row5_col3\" class=\"data row5 col3\" >0.030000</td>\n",
       "      <td id=\"T_86831_row5_col4\" class=\"data row5 col4\" >0</td>\n",
       "    </tr>\n",
       "    <tr>\n",
       "      <th id=\"T_86831_level0_row6\" class=\"row_heading level0 row6\" >6</th>\n",
       "      <td id=\"T_86831_row6_col0\" class=\"data row6 col0\" >0.910000</td>\n",
       "      <td id=\"T_86831_row6_col1\" class=\"data row6 col1\" >0.030000</td>\n",
       "      <td id=\"T_86831_row6_col2\" class=\"data row6 col2\" >0.030000</td>\n",
       "      <td id=\"T_86831_row6_col3\" class=\"data row6 col3\" >0.030000</td>\n",
       "      <td id=\"T_86831_row6_col4\" class=\"data row6 col4\" >0</td>\n",
       "    </tr>\n",
       "    <tr>\n",
       "      <th id=\"T_86831_level0_row7\" class=\"row_heading level0 row7\" >7</th>\n",
       "      <td id=\"T_86831_row7_col0\" class=\"data row7 col0\" >0.010000</td>\n",
       "      <td id=\"T_86831_row7_col1\" class=\"data row7 col1\" >0.010000</td>\n",
       "      <td id=\"T_86831_row7_col2\" class=\"data row7 col2\" >0.980000</td>\n",
       "      <td id=\"T_86831_row7_col3\" class=\"data row7 col3\" >0.010000</td>\n",
       "      <td id=\"T_86831_row7_col4\" class=\"data row7 col4\" >2</td>\n",
       "    </tr>\n",
       "    <tr>\n",
       "      <th id=\"T_86831_level0_row8\" class=\"row_heading level0 row8\" >8</th>\n",
       "      <td id=\"T_86831_row8_col0\" class=\"data row8 col0\" >0.850000</td>\n",
       "      <td id=\"T_86831_row8_col1\" class=\"data row8 col1\" >0.050000</td>\n",
       "      <td id=\"T_86831_row8_col2\" class=\"data row8 col2\" >0.050000</td>\n",
       "      <td id=\"T_86831_row8_col3\" class=\"data row8 col3\" >0.050000</td>\n",
       "      <td id=\"T_86831_row8_col4\" class=\"data row8 col4\" >0</td>\n",
       "    </tr>\n",
       "    <tr>\n",
       "      <th id=\"T_86831_level0_row9\" class=\"row_heading level0 row9\" >9</th>\n",
       "      <td id=\"T_86831_row9_col0\" class=\"data row9 col0\" >0.740000</td>\n",
       "      <td id=\"T_86831_row9_col1\" class=\"data row9 col1\" >0.080000</td>\n",
       "      <td id=\"T_86831_row9_col2\" class=\"data row9 col2\" >0.090000</td>\n",
       "      <td id=\"T_86831_row9_col3\" class=\"data row9 col3\" >0.080000</td>\n",
       "      <td id=\"T_86831_row9_col4\" class=\"data row9 col4\" >0</td>\n",
       "    </tr>\n",
       "    <tr>\n",
       "      <th id=\"T_86831_level0_row10\" class=\"row_heading level0 row10\" >10</th>\n",
       "      <td id=\"T_86831_row10_col0\" class=\"data row10 col0\" >0.250000</td>\n",
       "      <td id=\"T_86831_row10_col1\" class=\"data row10 col1\" >0.250000</td>\n",
       "      <td id=\"T_86831_row10_col2\" class=\"data row10 col2\" >0.250000</td>\n",
       "      <td id=\"T_86831_row10_col3\" class=\"data row10 col3\" >0.250000</td>\n",
       "      <td id=\"T_86831_row10_col4\" class=\"data row10 col4\" >0</td>\n",
       "    </tr>\n",
       "    <tr>\n",
       "      <th id=\"T_86831_level0_row11\" class=\"row_heading level0 row11\" >11</th>\n",
       "      <td id=\"T_86831_row11_col0\" class=\"data row11 col0\" >0.010000</td>\n",
       "      <td id=\"T_86831_row11_col1\" class=\"data row11 col1\" >0.010000</td>\n",
       "      <td id=\"T_86831_row11_col2\" class=\"data row11 col2\" >0.630000</td>\n",
       "      <td id=\"T_86831_row11_col3\" class=\"data row11 col3\" >0.360000</td>\n",
       "      <td id=\"T_86831_row11_col4\" class=\"data row11 col4\" >2</td>\n",
       "    </tr>\n",
       "    <tr>\n",
       "      <th id=\"T_86831_level0_row12\" class=\"row_heading level0 row12\" >12</th>\n",
       "      <td id=\"T_86831_row12_col0\" class=\"data row12 col0\" >0.030000</td>\n",
       "      <td id=\"T_86831_row12_col1\" class=\"data row12 col1\" >0.030000</td>\n",
       "      <td id=\"T_86831_row12_col2\" class=\"data row12 col2\" >0.920000</td>\n",
       "      <td id=\"T_86831_row12_col3\" class=\"data row12 col3\" >0.030000</td>\n",
       "      <td id=\"T_86831_row12_col4\" class=\"data row12 col4\" >2</td>\n",
       "    </tr>\n",
       "    <tr>\n",
       "      <th id=\"T_86831_level0_row13\" class=\"row_heading level0 row13\" >13</th>\n",
       "      <td id=\"T_86831_row13_col0\" class=\"data row13 col0\" >0.010000</td>\n",
       "      <td id=\"T_86831_row13_col1\" class=\"data row13 col1\" >0.010000</td>\n",
       "      <td id=\"T_86831_row13_col2\" class=\"data row13 col2\" >0.960000</td>\n",
       "      <td id=\"T_86831_row13_col3\" class=\"data row13 col3\" >0.010000</td>\n",
       "      <td id=\"T_86831_row13_col4\" class=\"data row13 col4\" >2</td>\n",
       "    </tr>\n",
       "    <tr>\n",
       "      <th id=\"T_86831_level0_row14\" class=\"row_heading level0 row14\" >14</th>\n",
       "      <td id=\"T_86831_row14_col0\" class=\"data row14 col0\" >0.030000</td>\n",
       "      <td id=\"T_86831_row14_col1\" class=\"data row14 col1\" >0.580000</td>\n",
       "      <td id=\"T_86831_row14_col2\" class=\"data row14 col2\" >0.030000</td>\n",
       "      <td id=\"T_86831_row14_col3\" class=\"data row14 col3\" >0.360000</td>\n",
       "      <td id=\"T_86831_row14_col4\" class=\"data row14 col4\" >1</td>\n",
       "    </tr>\n",
       "  </tbody>\n",
       "</table>\n"
      ],
      "text/plain": [
       "<pandas.io.formats.style.Styler at 0x21d6a202340>"
      ]
     },
     "execution_count": 128,
     "metadata": {},
     "output_type": "execute_result"
    }
   ],
   "source": [
    "# Create Document - Topic Matrix\n",
    "data_vectorized = data_vectorized2.toarray()\n",
    "doc_topic_matrix = lda_model.fit_transform(data_vectorized2)\n",
    "\n",
    "topicnames = [\"Topic\" + str(i) for i in enumerate(topic_list)] #\n",
    "# Make the pandas dataframe\n",
    "df_document_topic = pd.DataFrame(np.round(doc_topic_matrix, 2), columns=topicnames)\n",
    "\n",
    "# Get dominant topic for each document\n",
    "dominant_topic = np.argmax(df_document_topic.values, axis=1)\n",
    "\n",
    "df_document_topic['Label'] = dominant_topic\n",
    "\n",
    "# Styling\n",
    "def color_green(val):\n",
    "    color = 'green' if val > .1 else 'black'\n",
    "    return 'color: {col}'.format(col=color)\n",
    "\n",
    "def make_bold(val):\n",
    "    weight = 700 if val > .1 else 400\n",
    "    return 'font-weight: {weight}'.format(weight=weight)\n",
    "\n",
    "# Apply Style\n",
    "df_document_topics = df_document_topic.head(15).style.applymap(color_green).applymap(make_bold)\n",
    "df_document_topics"
   ]
  },
  {
   "cell_type": "code",
   "execution_count": 129,
   "metadata": {},
   "outputs": [],
   "source": [
    "dominant_topic = dominant_topic.tolist()\n",
    "for i, n in enumerate(dominant_topic):\n",
    "    if n == 0:\n",
    "        dominant_topic[i] = topic_list[0]\n",
    "    elif n == 1:\n",
    "        dominant_topic[i] = topic_list[1]\n",
    "    elif n == 2:\n",
    "        dominant_topic[i] = topic_list[2]\n",
    "    else:\n",
    "        dominant_topic[i] = topic_list[3]\n"
   ]
  },
  {
   "cell_type": "code",
   "execution_count": 130,
   "metadata": {},
   "outputs": [
    {
     "name": "stderr",
     "output_type": "stream",
     "text": [
      "C:\\Users\\USER\\AppData\\Local\\Temp\\ipykernel_9844\\417198572.py:1: SettingWithCopyWarning: \n",
      "A value is trying to be set on a copy of a slice from a DataFrame.\n",
      "Try using .loc[row_indexer,col_indexer] = value instead\n",
      "\n",
      "See the caveats in the documentation: https://pandas.pydata.org/pandas-docs/stable/user_guide/indexing.html#returning-a-view-versus-a-copy\n",
      "  df['label'] = dominant_topic\n"
     ]
    }
   ],
   "source": [
    "df['label'] = dominant_topic"
   ]
  },
  {
   "cell_type": "code",
   "execution_count": 131,
   "metadata": {},
   "outputs": [
    {
     "data": {
      "text/html": [
       "<div>\n",
       "<style scoped>\n",
       "    .dataframe tbody tr th:only-of-type {\n",
       "        vertical-align: middle;\n",
       "    }\n",
       "\n",
       "    .dataframe tbody tr th {\n",
       "        vertical-align: top;\n",
       "    }\n",
       "\n",
       "    .dataframe thead th {\n",
       "        text-align: right;\n",
       "    }\n",
       "</style>\n",
       "<table border=\"1\" class=\"dataframe\">\n",
       "  <thead>\n",
       "    <tr style=\"text-align: right;\">\n",
       "      <th></th>\n",
       "      <th>Date</th>\n",
       "      <th>Subject</th>\n",
       "      <th>Body</th>\n",
       "      <th>merged</th>\n",
       "      <th>clean_text</th>\n",
       "      <th>label</th>\n",
       "    </tr>\n",
       "    <tr>\n",
       "      <th>id</th>\n",
       "      <th></th>\n",
       "      <th></th>\n",
       "      <th></th>\n",
       "      <th></th>\n",
       "      <th></th>\n",
       "      <th></th>\n",
       "    </tr>\n",
       "  </thead>\n",
       "  <tbody>\n",
       "    <tr>\n",
       "      <th>0</th>\n",
       "      <td>9/5/2017 5:51</td>\n",
       "      <td>(中日)使用者發出的信件取回問題-接續問題</td>\n",
       "      <td>Dear 網擎：\\r\\n     附件所示   郵件使用者     alex.chen@cr...</td>\n",
       "      <td>示間 寄出 寄備 份 找 取回 特種 紙廠 股份 限發出 取回 接續</td>\n",
       "      <td>示間 寄出 寄備 找 取回 特種 紙廠 股份 限 發出 取回 接續</td>\n",
       "      <td>[資料, 方式, 寄出, 引述, 需求, 增域, 增簿, 紀錄, 建議, 建章]</td>\n",
       "    </tr>\n",
       "    <tr>\n",
       "      <th>1</th>\n",
       "      <td>﻿02/27/2018 05:28:12</td>\n",
       "      <td>(仍然無法註冊) Re: M2k - danno149131 - 註冊帳號顯示錯誤</td>\n",
       "      <td>您好，使用者反應重新註冊帳號，將訂單送出時，系統會顯示\"認證失敗，請重新確認您所輸入的帳號密...</td>\n",
       "      <td>反應 重 註 冊 帳 號 訂 單 送 出 系 統 顯 示 認 證 失 敗 重 確 認 輸 入...</td>\n",
       "      <td>重 送 出 系 示 重 入 密 密 重 透 重 取消 訂單 確定 遇 相 情形 詢敬 享 減...</td>\n",
       "      <td>[登入, 資訊, 帳號, 校園, 備份, 系統, 資料, 回覆, 檔案, 園端]</td>\n",
       "    </tr>\n",
       "    <tr>\n",
       "      <th>2</th>\n",
       "      <td>﻿04/18/2018 02:55:09</td>\n",
       "      <td>(希望今天能收到回覆) P-Marker 業務問題 - 潛在客戶：國民健康署</td>\n",
       "      <td>您好，國民健康署張淇鈞 小姐02-2522 0889rubychang@hpa.gov.tw...</td>\n",
       "      <td>健康 署 張淇鈞 需資盤 詢功 價格 張希天 收回 覆麻 煩 繫 愛 洽 詢 敬 享 減 肥...</td>\n",
       "      <td>健康 需資盤 詢功 價格 收回 覆麻 敬 享 肥 享 示 存 送 享 空 接 著 具 情 真...</td>\n",
       "      <td>[檔案, 資盤, 掃描, 完成, 顯示, 執行, 結果, 報表, 程式, 資料]</td>\n",
       "    </tr>\n",
       "    <tr>\n",
       "      <th>3</th>\n",
       "      <td>﻿05/05/2016 08:45:46</td>\n",
       "      <td>(很急) Fw: (急) MailGates 軟體 - 嘉聯益科技 - 稽核條件沒有正常執行</td>\n",
       "      <td>您好，客戶來電表示還沒收到回覆，今天上午也有寄信到m2k_noc，麻煩您幫忙盡快連繫，謝謝。...</td>\n",
       "      <td>表示 收回 覆天午 寄麻煩 快 繫 愛 洽 詢 享 減 肥 檔 旁 享 圖 示 檔 存 贈 ...</td>\n",
       "      <td>表示 收回 寄 快 享 肥 享 示 存 送 享 空 接 著 具 情 敬 真 端 站 稽核 正...</td>\n",
       "      <td>[登入, 資訊, 帳號, 校園, 備份, 系統, 資料, 回覆, 檔案, 園端]</td>\n",
       "    </tr>\n",
       "    <tr>\n",
       "      <th>4</th>\n",
       "      <td>﻿12/15/2016 01:54:47</td>\n",
       "      <td>(很急) Fw: Mail2000 軟體 - 德律科技 - 管理者帳號疑似被入侵</td>\n",
       "      <td>您好，德律陳先生0933 818 259問題：客戶提到管理者帳號被登入，想確認系統設定是否有...</td>\n",
       "      <td>德律陳理 帳號 登入確 認系統 設定 否動 麻煩 快 繫 愛 洽 詢 享 減 肥 檔 旁 享...</td>\n",
       "      <td>理 帳號 登入 確 認系 統 設定 否動 快 享 肥 享 示 存 送 享 空 接 著 具 情...</td>\n",
       "      <td>[登入, 資訊, 帳號, 校園, 備份, 系統, 資料, 回覆, 檔案, 園端]</td>\n",
       "    </tr>\n",
       "    <tr>\n",
       "      <th>...</th>\n",
       "      <td>...</td>\n",
       "      <td>...</td>\n",
       "      <td>...</td>\n",
       "      <td>...</td>\n",
       "      <td>...</td>\n",
       "      <td>...</td>\n",
       "    </tr>\n",
       "    <tr>\n",
       "      <th>2521</th>\n",
       "      <td>﻿12/11/2013 05:57:56</td>\n",
       "      <td>關於中日合成帳號問題</td>\n",
       "      <td>您好！\\r\\n我想使用中日合成的帳號進行個資盤點，雖然已經透過sinockl@mail.sj...</td>\n",
       "      <td>合成 帳號 進行 資盤 透 重換 密碼 忘 記帳 號法 告訴 初 登入 帳號 坤 龍 合成 ...</td>\n",
       "      <td>合成 帳號 進行 資盤 透 重換 密碼 忘 記帳 號法 告訴 登入 帳號 合成 股份 限計 ...</td>\n",
       "      <td>[資盤, 股份, 產品, 資訊, 稽核, 協助, 系統, 回覆, 需求, 報價]</td>\n",
       "    </tr>\n",
       "    <tr>\n",
       "      <th>2522</th>\n",
       "      <td>﻿07/15/2013 07:54:45</td>\n",
       "      <td>關於陸委會 P-Marker 的授權設定</td>\n",
       "      <td>Dear SE,雖陸委會買的 P-Marker 私有雲正式授權為 300 台電腦不限次數，不...</td>\n",
       "      <td>陸委買 私 正式 授權 腦限數 告知 直接 授權 天午 陸委 負責版 修改 數期 資訊備 忘...</td>\n",
       "      <td>買 授權 腦限數 告知 授權 負責版 修改 數期 資訊備 忘關 陸委授 權 設定</td>\n",
       "      <td>[登入, 資訊, 帳號, 校園, 備份, 系統, 資料, 回覆, 檔案, 園端]</td>\n",
       "    </tr>\n",
       "    <tr>\n",
       "      <th>2523</th>\n",
       "      <td>﻿06/03/2016 06:59:43</td>\n",
       "      <td>需要遠端連線 - M2k - kim2177185 - 使用Outlook無法收發信件(用M...</td>\n",
       "      <td>Dear MIS，帳號：kim2177185@mail2000.com.tw連絡人：蘇先生電...</td>\n",
       "      <td>帳號 蘇話腦 確定 版帳 類型 反應 法收 發錯 誤訊息 裝遠 端線 需遠端 線確 認麻煩 ...</td>\n",
       "      <td>帳號 話 腦 確定 版 類型 收 發錯 誤訊息 端線 需遠端 線 確 認 詢享 減肥 檔 享...</td>\n",
       "      <td>[登入, 資訊, 帳號, 校園, 備份, 系統, 資料, 回覆, 檔案, 園端]</td>\n",
       "    </tr>\n",
       "    <tr>\n",
       "      <th>2524</th>\n",
       "      <td>﻿11/24/2015 10:02:39</td>\n",
       "      <td>麻煩刪除此信箱(學生註冊錯誤)，讓該生可申請另一組，謝謝！</td>\n",
       "      <td>Dear 教育雲郵件網管人員：\\r\\n\\r\\n您好，我是高雄市永清國小的電腦教師(兼任網管)...</td>\n",
       "      <td>員 永清 腦師 兼 擁學腦 師理 敝 校學帳 職責 封容腦 師代填 寫腦 課程 進行 學學啟...</td>\n",
       "      <td>腦師 兼 擁學 腦 師理 校學 職責 師代 填 寫 腦 課程 進行 學學 啟 鄰座 學 填入...</td>\n",
       "      <td>[資料, 方式, 寄出, 引述, 需求, 增域, 增簿, 紀錄, 建議, 建章]</td>\n",
       "    </tr>\n",
       "    <tr>\n",
       "      <th>2525</th>\n",
       "      <td>﻿03/26/2013 11:18:06</td>\n",
       "      <td>鼎新電腦 P-Marker 已升為正式版並加 5 次</td>\n",
       "      <td>Dear Bryson,鼎新電腦 P-Marker 已升為正式版並加 5 次目前資料如下公司...</td>\n",
       "      <td>腦升 正式版 加資料 腦統 編號 話 范肇鈞理 帳號 理理 建立 期期 剩餘數 掃描 完成 ...</td>\n",
       "      <td>腦升 正式版 加資料 腦統 編號 理 帳號 理理 建立 掃描 完成 數腦 升 正式版 加</td>\n",
       "      <td>[資盤, 股份, 產品, 資訊, 稽核, 協助, 系統, 回覆, 需求, 報價]</td>\n",
       "    </tr>\n",
       "  </tbody>\n",
       "</table>\n",
       "<p>2525 rows × 6 columns</p>\n",
       "</div>"
      ],
      "text/plain": [
       "                      Date                                            Subject  \\\n",
       "id                                                                              \n",
       "0            9/5/2017 5:51                              (中日)使用者發出的信件取回問題-接續問題   \n",
       "1     ﻿02/27/2018 05:28:12          (仍然無法註冊) Re: M2k - danno149131 - 註冊帳號顯示錯誤   \n",
       "2     ﻿04/18/2018 02:55:09             (希望今天能收到回覆) P-Marker 業務問題 - 潛在客戶：國民健康署   \n",
       "3     ﻿05/05/2016 08:45:46     (很急) Fw: (急) MailGates 軟體 - 嘉聯益科技 - 稽核條件沒有正常執行   \n",
       "4     ﻿12/15/2016 01:54:47           (很急) Fw: Mail2000 軟體 - 德律科技 - 管理者帳號疑似被入侵   \n",
       "...                    ...                                                ...   \n",
       "2521  ﻿12/11/2013 05:57:56                                         關於中日合成帳號問題   \n",
       "2522  ﻿07/15/2013 07:54:45                               關於陸委會 P-Marker 的授權設定   \n",
       "2523  ﻿06/03/2016 06:59:43  需要遠端連線 - M2k - kim2177185 - 使用Outlook無法收發信件(用M...   \n",
       "2524  ﻿11/24/2015 10:02:39                      麻煩刪除此信箱(學生註冊錯誤)，讓該生可申請另一組，謝謝！   \n",
       "2525  ﻿03/26/2013 11:18:06                         鼎新電腦 P-Marker 已升為正式版並加 5 次   \n",
       "\n",
       "                                                   Body  \\\n",
       "id                                                        \n",
       "0     Dear 網擎：\\r\\n     附件所示   郵件使用者     alex.chen@cr...   \n",
       "1     您好，使用者反應重新註冊帳號，將訂單送出時，系統會顯示\"認證失敗，請重新確認您所輸入的帳號密...   \n",
       "2     您好，國民健康署張淇鈞 小姐02-2522 0889rubychang@hpa.gov.tw...   \n",
       "3     您好，客戶來電表示還沒收到回覆，今天上午也有寄信到m2k_noc，麻煩您幫忙盡快連繫，謝謝。...   \n",
       "4     您好，德律陳先生0933 818 259問題：客戶提到管理者帳號被登入，想確認系統設定是否有...   \n",
       "...                                                 ...   \n",
       "2521  您好！\\r\\n我想使用中日合成的帳號進行個資盤點，雖然已經透過sinockl@mail.sj...   \n",
       "2522  Dear SE,雖陸委會買的 P-Marker 私有雲正式授權為 300 台電腦不限次數，不...   \n",
       "2523  Dear MIS，帳號：kim2177185@mail2000.com.tw連絡人：蘇先生電...   \n",
       "2524  Dear 教育雲郵件網管人員：\\r\\n\\r\\n您好，我是高雄市永清國小的電腦教師(兼任網管)...   \n",
       "2525  Dear Bryson,鼎新電腦 P-Marker 已升為正式版並加 5 次目前資料如下公司...   \n",
       "\n",
       "                                                 merged  \\\n",
       "id                                                        \n",
       "0                    示間 寄出 寄備 份 找 取回 特種 紙廠 股份 限發出 取回 接續   \n",
       "1     反應 重 註 冊 帳 號 訂 單 送 出 系 統 顯 示 認 證 失 敗 重 確 認 輸 入...   \n",
       "2     健康 署 張淇鈞 需資盤 詢功 價格 張希天 收回 覆麻 煩 繫 愛 洽 詢 敬 享 減 肥...   \n",
       "3     表示 收回 覆天午 寄麻煩 快 繫 愛 洽 詢 享 減 肥 檔 旁 享 圖 示 檔 存 贈 ...   \n",
       "4     德律陳理 帳號 登入確 認系統 設定 否動 麻煩 快 繫 愛 洽 詢 享 減 肥 檔 旁 享...   \n",
       "...                                                 ...   \n",
       "2521  合成 帳號 進行 資盤 透 重換 密碼 忘 記帳 號法 告訴 初 登入 帳號 坤 龍 合成 ...   \n",
       "2522  陸委買 私 正式 授權 腦限數 告知 直接 授權 天午 陸委 負責版 修改 數期 資訊備 忘...   \n",
       "2523  帳號 蘇話腦 確定 版帳 類型 反應 法收 發錯 誤訊息 裝遠 端線 需遠端 線確 認麻煩 ...   \n",
       "2524  員 永清 腦師 兼 擁學腦 師理 敝 校學帳 職責 封容腦 師代填 寫腦 課程 進行 學學啟...   \n",
       "2525  腦升 正式版 加資料 腦統 編號 話 范肇鈞理 帳號 理理 建立 期期 剩餘數 掃描 完成 ...   \n",
       "\n",
       "                                             clean_text  \\\n",
       "id                                                        \n",
       "0                     示間 寄出 寄備 找 取回 特種 紙廠 股份 限 發出 取回 接續   \n",
       "1     重 送 出 系 示 重 入 密 密 重 透 重 取消 訂單 確定 遇 相 情形 詢敬 享 減...   \n",
       "2     健康 需資盤 詢功 價格 收回 覆麻 敬 享 肥 享 示 存 送 享 空 接 著 具 情 真...   \n",
       "3     表示 收回 寄 快 享 肥 享 示 存 送 享 空 接 著 具 情 敬 真 端 站 稽核 正...   \n",
       "4     理 帳號 登入 確 認系 統 設定 否動 快 享 肥 享 示 存 送 享 空 接 著 具 情...   \n",
       "...                                                 ...   \n",
       "2521  合成 帳號 進行 資盤 透 重換 密碼 忘 記帳 號法 告訴 登入 帳號 合成 股份 限計 ...   \n",
       "2522           買 授權 腦限數 告知 授權 負責版 修改 數期 資訊備 忘關 陸委授 權 設定   \n",
       "2523  帳號 話 腦 確定 版 類型 收 發錯 誤訊息 端線 需遠端 線 確 認 詢享 減肥 檔 享...   \n",
       "2524  腦師 兼 擁學 腦 師理 校學 職責 師代 填 寫 腦 課程 進行 學學 啟 鄰座 學 填入...   \n",
       "2525       腦升 正式版 加資料 腦統 編號 理 帳號 理理 建立 掃描 完成 數腦 升 正式版 加   \n",
       "\n",
       "                                         label  \n",
       "id                                              \n",
       "0     [資料, 方式, 寄出, 引述, 需求, 增域, 增簿, 紀錄, 建議, 建章]  \n",
       "1     [登入, 資訊, 帳號, 校園, 備份, 系統, 資料, 回覆, 檔案, 園端]  \n",
       "2     [檔案, 資盤, 掃描, 完成, 顯示, 執行, 結果, 報表, 程式, 資料]  \n",
       "3     [登入, 資訊, 帳號, 校園, 備份, 系統, 資料, 回覆, 檔案, 園端]  \n",
       "4     [登入, 資訊, 帳號, 校園, 備份, 系統, 資料, 回覆, 檔案, 園端]  \n",
       "...                                        ...  \n",
       "2521  [資盤, 股份, 產品, 資訊, 稽核, 協助, 系統, 回覆, 需求, 報價]  \n",
       "2522  [登入, 資訊, 帳號, 校園, 備份, 系統, 資料, 回覆, 檔案, 園端]  \n",
       "2523  [登入, 資訊, 帳號, 校園, 備份, 系統, 資料, 回覆, 檔案, 園端]  \n",
       "2524  [資料, 方式, 寄出, 引述, 需求, 增域, 增簿, 紀錄, 建議, 建章]  \n",
       "2525  [資盤, 股份, 產品, 資訊, 稽核, 協助, 系統, 回覆, 需求, 報價]  \n",
       "\n",
       "[2525 rows x 6 columns]"
      ]
     },
     "execution_count": 131,
     "metadata": {},
     "output_type": "execute_result"
    }
   ],
   "source": [
    "df"
   ]
  },
  {
   "cell_type": "code",
   "execution_count": 132,
   "metadata": {},
   "outputs": [],
   "source": [
    "df.to_csv('sklearn_emails_labeled.csv', encoding='UTF-16',sep='\\t') # export the labedled email to csv"
   ]
  },
  {
   "cell_type": "code",
   "execution_count": 133,
   "metadata": {},
   "outputs": [
    {
     "data": {
      "text/html": [
       "<div>\n",
       "<style scoped>\n",
       "    .dataframe tbody tr th:only-of-type {\n",
       "        vertical-align: middle;\n",
       "    }\n",
       "\n",
       "    .dataframe tbody tr th {\n",
       "        vertical-align: top;\n",
       "    }\n",
       "\n",
       "    .dataframe thead th {\n",
       "        text-align: right;\n",
       "    }\n",
       "</style>\n",
       "<table border=\"1\" class=\"dataframe\">\n",
       "  <thead>\n",
       "    <tr style=\"text-align: right;\">\n",
       "      <th></th>\n",
       "      <th>Topic Num</th>\n",
       "      <th>Num Documents</th>\n",
       "      <th>keyword</th>\n",
       "    </tr>\n",
       "  </thead>\n",
       "  <tbody>\n",
       "    <tr>\n",
       "      <th>0</th>\n",
       "      <td>[登入, 資訊, 帳號, 校園, 備份, 系統, 資料, 回覆, 檔案, 園端]</td>\n",
       "      <td>1359</td>\n",
       "      <td>[檔案, 資盤, 掃描, 完成, 顯示, 執行, 結果, 報表, 程式, 資料]</td>\n",
       "    </tr>\n",
       "    <tr>\n",
       "      <th>1</th>\n",
       "      <td>[資盤, 股份, 產品, 資訊, 稽核, 協助, 系統, 回覆, 需求, 報價]</td>\n",
       "      <td>654</td>\n",
       "      <td>[資料, 方式, 寄出, 引述, 需求, 增域, 增簿, 紀錄, 建議, 建章]</td>\n",
       "    </tr>\n",
       "    <tr>\n",
       "      <th>2</th>\n",
       "      <td>[檔案, 資盤, 掃描, 完成, 顯示, 執行, 結果, 報表, 程式, 資料]</td>\n",
       "      <td>363</td>\n",
       "      <td>[資盤, 股份, 產品, 資訊, 稽核, 協助, 系統, 回覆, 需求, 報價]</td>\n",
       "    </tr>\n",
       "    <tr>\n",
       "      <th>3</th>\n",
       "      <td>[資料, 方式, 寄出, 引述, 需求, 增域, 增簿, 紀錄, 建議, 建章]</td>\n",
       "      <td>149</td>\n",
       "      <td>[登入, 資訊, 帳號, 校園, 備份, 系統, 資料, 回覆, 檔案, 園端]</td>\n",
       "    </tr>\n",
       "  </tbody>\n",
       "</table>\n",
       "</div>"
      ],
      "text/plain": [
       "                                  Topic Num  Num Documents  \\\n",
       "0  [登入, 資訊, 帳號, 校園, 備份, 系統, 資料, 回覆, 檔案, 園端]           1359   \n",
       "1  [資盤, 股份, 產品, 資訊, 稽核, 協助, 系統, 回覆, 需求, 報價]            654   \n",
       "2  [檔案, 資盤, 掃描, 完成, 顯示, 執行, 結果, 報表, 程式, 資料]            363   \n",
       "3  [資料, 方式, 寄出, 引述, 需求, 增域, 增簿, 紀錄, 建議, 建章]            149   \n",
       "\n",
       "                                    keyword  \n",
       "0  [檔案, 資盤, 掃描, 完成, 顯示, 執行, 結果, 報表, 程式, 資料]  \n",
       "1  [資料, 方式, 寄出, 引述, 需求, 增域, 增簿, 紀錄, 建議, 建章]  \n",
       "2  [資盤, 股份, 產品, 資訊, 稽核, 協助, 系統, 回覆, 需求, 報價]  \n",
       "3  [登入, 資訊, 帳號, 校園, 備份, 系統, 資料, 回覆, 檔案, 園端]  "
      ]
     },
     "execution_count": 133,
     "metadata": {},
     "output_type": "execute_result"
    }
   ],
   "source": [
    "# Review topics distribution across documents\n",
    "df_topic_distribution = df['label'].value_counts().reset_index(name=\"Num Documents\")\n",
    "df_topic_distribution.columns = ['Topic Num', 'Num Documents']\n",
    "df_topic_distribution['keyword'] = topic_keywords\n",
    "df_topic_distribution"
   ]
  },
  {
   "cell_type": "code",
   "execution_count": 134,
   "metadata": {},
   "outputs": [
    {
     "name": "stderr",
     "output_type": "stream",
     "text": [
      "C:\\Users\\USER\\anaconda3\\envs\\pytorch\\lib\\site-packages\\sklearn\\utils\\deprecation.py:87: FutureWarning: Function get_feature_names is deprecated; get_feature_names is deprecated in 1.0 and will be removed in 1.2. Please use get_feature_names_out instead.\n",
      "  warnings.warn(msg, category=FutureWarning)\n",
      "C:\\Users\\USER\\anaconda3\\envs\\pytorch\\lib\\site-packages\\pyLDAvis\\_prepare.py:246: FutureWarning: In a future version of pandas all arguments of DataFrame.drop except for the argument 'labels' will be keyword-only.\n",
      "  default_term_info = default_term_info.sort_values(\n",
      "C:\\Users\\USER\\anaconda3\\envs\\pytorch\\lib\\site-packages\\sklearn\\manifold\\_t_sne.py:780: FutureWarning: The default initialization in TSNE will change from 'random' to 'pca' in 1.2.\n",
      "  warnings.warn(\n",
      "C:\\Users\\USER\\anaconda3\\envs\\pytorch\\lib\\site-packages\\sklearn\\manifold\\_t_sne.py:790: FutureWarning: The default learning rate in TSNE will change from 200.0 to 'auto' in 1.2.\n",
      "  warnings.warn(\n",
      "C:\\Users\\USER\\anaconda3\\envs\\pytorch\\lib\\site-packages\\sklearn\\manifold\\_t_sne.py:819: FutureWarning: 'square_distances' has been introduced in 0.24 to help phase out legacy squaring behavior. The 'legacy' setting will be removed in 1.1 (renaming of 0.26), and the default setting will be changed to True. In 1.3, 'square_distances' will be removed altogether, and distances will be squared by default. Set 'square_distances'=True to silence this warning.\n",
      "  warnings.warn(\n"
     ]
    },
    {
     "data": {
      "text/html": [
       "\n",
       "<link rel=\"stylesheet\" type=\"text/css\" href=\"https://cdn.jsdelivr.net/gh/bmabey/pyLDAvis@3.3.1/pyLDAvis/js/ldavis.v1.0.0.css\">\n",
       "\n",
       "\n",
       "<div id=\"ldavis_el984423235787097127703119645\"></div>\n",
       "<script type=\"text/javascript\">\n",
       "\n",
       "var ldavis_el984423235787097127703119645_data = {\"mdsDat\": {\"x\": [269.5624084472656, 1.782994270324707, 220.81143188476562, 50.533992767333984], \"y\": [-124.80339813232422, -295.0796813964844, -343.8321228027344, -76.05093383789062], \"topics\": [1, 2, 3, 4], \"cluster\": [1, 1, 1, 1], \"Freq\": [54.22003643194982, 25.977389421137108, 12.590665192723542, 7.21190895418952]}, \"tinfo\": {\"Term\": [\"\\u767b\\u5165\", \"\\u6a94\\u6848\", \"\\u8cc7\\u76e4\", \"\\u6821\\u5712\", \"\\u7522\\u54c1\", \"\\u7a3d\\u6838\", \"\\u6383\\u63cf\", \"\\u986f\\u793a\", \"\\u80a1\\u4efd\", \"\\u5831\\u50f9\", \"\\u65b9\\u5f0f\", \"\\u57f7\\u884c\", \"\\u5e33\\u865f\", \"\\u5712\\u7aef\", \"\\u9700\\u6c42\", \"\\u5b8c\\u6210\", \"\\u5bc4\\u51fa\", \"\\u904b\\u6a13\", \"\\u8cc7\\u6599\", \"\\u7372\\u5bb6\", \"\\u8cc7\\u8a0a\", \"\\u5931\\u6557\", \"\\u5831\\u8868\", \"\\u7d50\\u679c\", \"\\u5bc6\\u78bc\", \"\\u5b8f\\u58fd\", \"\\u7a0b\\u5f0f\", \"\\u932f\\u8aa4\", \"\\u77e5\\u9053\", \"\\u8cc7\\u6cd5\", \"\\u767b\\u5165\", \"\\u6821\\u5712\", \"\\u5712\\u7aef\", \"\\u932f\\u8aa4\", \"\\u7aef\\u6821\", \"\\u7ad9\\u7aef\", \"\\u9818\\u5c0e\", \"\\u7aef\\u76f8\", \"\\u95dc\\u7591\", \"\\u6c7a\\u9047\", \"\\u5716\\u793a\", \"\\u63a5\\u8457\", \"\\u522a\\u6a94\", \"\\u5177\\u9078\", \"\\u51fa\\u73fe\", \"\\u5b58\\u8d08\", \"\\u6e1b\\u80a5\", \"\\u8001\\u5e2b\", \"\\u5b78\\u6821\", \"\\u8a8d\\u8b49\", \"\\u5165\\u6cd5\", \"\\u8aa4\\u8a0a\\u606f\", \"\\u5718\\u968a\", \"\\u7406\\u6cd5\", \"\\u8a73\\u60c5\", \"\\u898b\\u656c\", \"\\u8a62\\u4eab\", \"\\u5929\\u52d5\\u5099\", \"\\u60c5\\u898b\", \"\\u622a\\u5716\", \"\\u5931\\u6557\", \"\\u6b63\\u5e38\", \"\\u8eab\\u4efd\", \"\\u5bc6\\u78bc\", \"\\u958b\\u555f\", \"\\u7a7a\\u9593\", \"\\u8a18\\u9304\", \"\\u5099\\u4efd\", \"\\u5e33\\u865f\", \"\\u6210\\u529f\", \"\\u8cc7\\u8a0a\", \"\\u50b3\\u771f\\u7aef\", \"\\u7cfb\\u7d71\", \"\\u8cc7\\u6599\", \"\\u56de\\u8986\", \"\\u5c08\\u7dda\", \"\\u6a94\\u6848\", \"\\u5354\\u52a9\", \"\\u8a2d\\u5b9a\", \"\\u54c1\\u724c\", \"\\u652f\\u63f4\", \"\\u7a3d\\u6838\", \"\\u5b8f\\u58fd\", \"\\u8cc7\\u6cd5\", \"\\u6df1\\u8015\", \"\\u904b\\u6a13\", \"\\u52d5\\u614b\", \"\\u614b\\u624b\", \"\\u638c\\u63e1\", \"\\u7372\\u5bb6\", \"\\u884c\\u4e8b\", \"\\u69ae\\u72c2\", \"\\u73fe\\u99ac\", \"\\u8a8d\\u8f09\", \"\\u8a8d\\u514d\", \"\\u5fc5\\u7406\", \"\\u65b7\\u7aef\", \"\\u5c08\\u5bb6\", \"\\u4e8b\\u7aef\", \"\\u6e9d\\u901a\", \"\\u8a2d\\u8cc7\\u8a0a\", \"\\u9700\\u64d4\", \"\\u7b56\\u7d20\", \"\\u5831\\u50f9\", \"\\u6b65\\u5b78\", \"\\u656c\\u884c\", \"\\u52d5\\u6b65\", \"\\u95dc\\u8cc7\\u76e4\", \"\\u8a66\\u4ec1\", \"\\u8208\\u7406\", \"\\u7522\\u54c1\", \"\\u8166\\u78ba\", \"\\u80a1\\u4efd\", \"\\u8cc7\\u76e4\", \"\\u9700\\u6c42\", \"\\u901a\\u8a0a\\u9304\", \"\\u8fa6\\u5ba4\", \"\\u77e5\\u9053\", \"\\u55ae\\u4f4d\", \"\\u6383\\u63cf\", \"\\u63a8\\u51fa\", \"\\u901a\\u77e5\", \"\\u652f\\u63f4\", \"\\u5354\\u52a9\", \"\\u8cc7\\u8a0a\", \"\\u56de\\u8986\", \"\\u7cfb\\u7d71\", \"\\u5b8c\\u6210\", \"\\u9032\\u884c\", \"\\u54c1\\u724c\", \"\\u5c08\\u7dda\", \"\\u5e33\\u865f\", \"\\u8cc7\\u6599\", \"\\u6a94\\u6848\", \"\\u63cf\\u7b46\", \"\\u6578\\u7591\", \"\\u908f\\u8f2f\", \"\\u5a92\\u7aef\", \"\\u8cac\\u8072\", \"\\u8a62\\u8853\", \"\\u56de\\u994b\", \"\\u589e\\u5931\\u6557\", \"\\u9700\\u6a94\", \"\\u8cc7\\u7e3d\\u6578\", \"\\u8cc7\\u53cd\\u679c\", \"\\u8d85\\u6578\", \"\\u6307\\u5831\", \"\\u6383\\u51fa\", \"\\u6574\\u4f8b\", \"\\u8a62\\u6383\", \"\\u7b46\\u624b\", \"\\u8166\\u7b46\", \"\\u78bc\\u7b46\", \"\\u8a71\\u865f\", \"\\u91cf\\u9650\", \"\\u78bc\\u5426\", \"\\u6a94\\u88dd\", \"\\u5ef6\\u8aa4\", \"\\u8513\\u5ef6\", \"\\u9650\\u95dc\", \"\\u95b1\\u6587\", \"\\u8cac\\u627f\", \"\\u5168\\u932f\", \"\\u627f\\u64d4\", \"\\u906e\\u853d\", \"\\u5426\\u8abf\", \"\\u51fa\\u7acb\", \"\\u522a\\u92b7\", \"\\u6848\\u884c\", \"\\u4e16\\u7dad\", \"\\u7b46\\u6578\", \"\\u901a\\u8a0a\\u4efd\", \"\\u7b46\\u8cc7\", \"\\u8cc7\\u6383\", \"\\u98a8\\u96aa\", \"\\u7406\\u8def\", \"\\u75c5\\u6bd2\", \"\\u6a94\\u6848\", \"\\u986f\\u793a\", \"\\u6536\\u52ff\", \"\\u7d50\\u679c\", \"\\u7522\\u54c1\\u8853\", \"\\u5b8c\\u6574\", \"\\u7b26\\u865f\", \"\\u6383\\u63cf\", \"\\u57f7\\u884c\", \"\\u5831\\u8868\", \"\\u8cc7\\u76e4\", \"\\u865f\\u78bc\", \"\\u8aa4\\u5224\", \"\\u7a0b\\u5f0f\", \"\\u5b8c\\u6210\", \"\\u9032\\u884c\", \"\\u610f\\u601d\", \"\\u6388\\u6b0a\", \"\\u78c1\\u789f\", \"\\u8cc7\\u6599\", \"\\u5354\\u52a9\", \"\\u8655\\u7406\", \"\\u5c08\\u7dda\", \"\\u8a2d\\u5b9a\", \"\\u56de\\u8986\", \"\\u78ba\\u8a8d\", \"\\u53cd\\u6620\", \"\\u652f\\u63f4\", \"\\u5efa\\u8b70\", \"\\u8cc7\\u6e90\", \"\\u9020\\u6210\", \"\\u72c0\\u6cc1\", \"\\u589e\\u57df\", \"\\u541f\\u5bb9\", \"\\u7d00\\u59ff\", \"\\u589e\\u7c3f\", \"\\u95dc\\u7a2e\", \"\\u8cb4\\u76f8\", \"\\u7d44\\u9304\", \"\\u9304\\u7fa4\", \"\\u7559\\u5b58\", \"\\u96b8\\u885b\", \"\\u8b8a\\u57df\", \"\\u7591\\u4f3c\", \"\\u4ea4\\u8ca8\", \"\\u7bc0\\u7701\", \"\\u8cb4\\u8655\", \"\\u820a\\u57df\", \"\\u5bb6\\u57df\", \"\\u5e78\\u5eb7\", \"\\u8166\\u547d\", \"\\u8a8d\\u8eab\", \"\\u76f4\\u5019\", \"\\u8377\\u5f71\", \"\\u884c\\u5ba4\", \"\\u6821\\u6cd5\", \"\\u71d5\\u8b70\", \"\\u6e21\\u671f\", \"\\u958b\\u8cc7\\u6599\\u5740\", \"\\u8a8d\\u91cf\", \"\\u8cc7\\u7a2e\", \"\\u52fe\\u9078\\u5740\", \"\\u88dd\\u6a5f\", \"\\u5efa\\u7ae0\", \"\\u8b66\\u544a\", \"\\u6392\\u7a0b\", \"\\u6a5f\\u5668\", \"\\u6536\\u53d6\", \"\\u5f15\\u8ff0\", \"\\u532f\\u51fa\", \"\\u8cc7\\u8a0a\\u5ba4\", \"\\u5bc4\\u51fa\", \"\\u9700\\u78ba\", \"\\u8f49\\u63db\", \"\\u958b\\u767c\", \"\\u9996\\u5e2d\", \"\\u7c21\\u8a0a\", \"\\u65b9\\u5f0f\", \"\\u9700\\u958b\", \"\\u7d00\\u9304\", \"\\u8cc7\\u6599\", \"\\u6574\\u7406\", \"\\u8cc7\\u901a\", \"\\u9700\\u6c42\", \"\\u4fee\\u6539\", \"\\u5efa\\u8b70\", \"\\u532f\\u5165\", \"\\u958b\\u59cb\", \"\\u78ba\\u8a8d\", \"\\u8a2d\\u5b9a\", \"\\u64cd\\u4f5c\", \"\\u7d50\\u679c\", \"\\u6307\\u5b9a\", \"\\u55ae\\u4f4d\"], \"Freq\": [2291.0, 1849.0, 1497.0, 1694.0, 710.0, 640.0, 787.0, 576.0, 880.0, 466.0, 706.0, 676.0, 2519.0, 908.0, 650.0, 1056.0, 271.0, 346.0, 1610.0, 328.0, 2992.0, 839.0, 550.0, 475.0, 837.0, 304.0, 629.0, 667.0, 615.0, 287.0, 2290.5978328847177, 1693.8767581962356, 907.7796640829497, 666.5951853058855, 500.33712431633097, 500.18868391331, 501.04178282200246, 486.89157888864463, 486.11678765506434, 486.11774186463396, 430.09324717268373, 392.09813923040946, 386.39044349121804, 371.3304104656246, 501.26953366736507, 368.83195719685835, 356.8764430484721, 325.35410241249014, 341.8176146636621, 428.16662921612607, 260.2711570489574, 273.3029591445046, 243.13984608187846, 222.22253660300723, 203.35369903228158, 198.91680731015225, 184.09970481232577, 184.91616677239233, 171.03817685728777, 160.3441404258275, 833.2238090906303, 519.4528068248915, 418.7064704219259, 816.4804503921448, 348.43452785179426, 668.4487181438126, 621.5838201516132, 1214.461529783529, 2150.3070796889333, 490.8511173914713, 2273.770306919205, 685.2268395117238, 1203.7764068340423, 1021.4091774255899, 970.2740422496222, 813.1669008939092, 937.0790140990862, 841.077325891573, 683.4770486672228, 517.2377729082846, 491.76287444603054, 638.8657508992153, 303.7479889919654, 286.6778408502815, 267.120295383138, 344.96005176673566, 276.1909555525255, 276.18479616707486, 279.050649909322, 327.19354531255834, 191.26037542840083, 269.39393963707477, 154.01594236886933, 154.0165197189503, 154.01586606634478, 156.98733614409255, 156.98407248746864, 160.35916863970604, 235.60390151961877, 184.68901892701913, 128.96985751670593, 174.78352691666987, 173.68194364729862, 463.43848837023694, 112.65535053957869, 108.88951164944889, 107.95602837551132, 115.38889475645803, 98.44229920818499, 82.56587681707832, 703.1239049956771, 154.43594990520032, 704.9810331418536, 994.3799465894208, 484.71180032661925, 190.82890393213447, 160.62385342119174, 434.04087354717285, 415.5292134132454, 414.3138113443165, 378.1394150343304, 369.08823764138276, 427.49493719968933, 527.2714503038039, 687.6300970468187, 494.2185176270706, 503.60478005054006, 372.05465397167984, 283.1364082218968, 319.11026264834686, 336.85877085517984, 368.24226849997075, 287.450398107885, 282.5715932130672, 83.5706009475406, 64.54808780069138, 53.717028997315, 46.86755230986489, 38.74388198720807, 39.41918758185561, 33.6856091527889, 51.339717336778335, 35.96345221566831, 25.594001052229398, 25.594768864505937, 25.593765661410067, 25.59307865086887, 26.39917325546973, 25.590632524954497, 25.58924852956382, 25.587320166969764, 25.587528789256556, 25.587421127154666, 25.58184141321593, 26.37434611303894, 26.366622803267347, 23.350493943758615, 22.749002313102263, 22.74834050549014, 22.747559624392018, 22.746522165688567, 22.746249473033853, 22.74343647994089, 22.743255025320256, 63.53588883803291, 28.642792290879843, 29.67877858452443, 29.594384438954542, 30.586241604416408, 34.32009671077011, 95.11552930254071, 37.378112416916984, 29.818875620796742, 59.24686893350983, 104.91009338899681, 65.80583257653682, 86.4218954570865, 615.3054943428863, 258.1058533675021, 38.51031547650636, 210.40667159909933, 137.78053794263502, 107.4327043922314, 57.001246762315155, 267.3418863784373, 236.4743907559166, 201.67710399298636, 371.9376565040149, 63.917732091374546, 56.056680474969205, 196.08558407653197, 258.81524982331547, 158.97764106278245, 83.79556326935982, 108.20156544769377, 82.046421584018, 180.49946006314633, 158.16552016646676, 112.70548944753531, 138.73230359215276, 123.40217670583436, 136.6332156932537, 107.47348106372418, 88.14489428037416, 110.40108695524232, 88.75017410438872, 81.36008551446236, 91.78932848131399, 84.43885529568394, 72.16615831633307, 38.55928149444147, 38.51027558607673, 62.96931490651632, 34.25588604979897, 34.249899610351946, 28.239617167473273, 29.005512158281824, 53.60924635687799, 24.57783217889546, 23.529487027955195, 48.485448358381696, 22.798524579166344, 22.30386522898923, 29.794602959923996, 21.51664870219333, 20.512556915162197, 20.11570883565252, 21.172441091120408, 20.264288502171862, 20.26368439511389, 19.35812940997731, 18.461153533627556, 19.802301862802885, 19.30621728596691, 19.31668970457246, 16.73351802416016, 16.73350234265017, 16.73073056358219, 16.729413486698377, 38.73497122298541, 59.31257774064036, 26.1636571956266, 55.94779755079542, 30.711144289147363, 47.64778811228944, 88.32555373558388, 37.03511780284011, 55.37632014385024, 98.58603155272192, 33.565411909126006, 28.597187609747966, 51.041586616828134, 40.78174925587851, 53.93628700273273, 118.22245957808195, 31.61116665821515, 60.89503473929634, 120.98890936560956, 43.552276219317875, 41.033133439153204, 74.02612042382849, 52.34537546421552, 59.50773713421914, 43.75892367051689, 46.1380528769018, 54.05895066196269, 54.55730984280747, 40.46765431150975, 41.40928742342626, 40.04220542439215, 38.63876568036033], \"Total\": [2291.0, 1849.0, 1497.0, 1694.0, 710.0, 640.0, 787.0, 576.0, 880.0, 466.0, 706.0, 676.0, 2519.0, 908.0, 650.0, 1056.0, 271.0, 346.0, 1610.0, 328.0, 2992.0, 839.0, 550.0, 475.0, 837.0, 304.0, 629.0, 667.0, 615.0, 287.0, 2291.7100181320147, 1694.704701532028, 908.5950049212697, 667.3713295470131, 501.06052378140845, 500.91559905150416, 501.77295880280786, 487.61576587568237, 486.849999842338, 486.85119788763035, 430.85066343216795, 392.837643673849, 387.1323699339589, 372.0691663152633, 502.27560772418184, 369.57259557958815, 357.6171066779388, 326.0750953882621, 342.5811603229511, 429.3345709028414, 260.98323347387804, 274.1102640882315, 243.8653091997158, 222.9347821177178, 204.07543674050305, 199.63222242919136, 184.8139177615416, 185.63499348107908, 171.81001807414398, 161.073635659003, 839.4735194643151, 523.9627553873537, 422.5399717187775, 837.9359573258329, 352.312775862744, 697.0928722017388, 652.0364486951879, 1320.5708642728996, 2519.145464812414, 517.0915769268352, 2992.376907807995, 795.0497947730901, 1776.8579422317832, 1610.3479449622307, 1630.9532600829543, 1289.293912434887, 1849.7012686267187, 1544.501245516787, 1131.5845797687002, 836.8536646936128, 1033.5105920886856, 640.3097580323572, 304.6699109457773, 287.5904434259332, 267.9832528224135, 346.0746894864105, 277.08348402484677, 277.0840334367896, 280.0719397845745, 328.504434857625, 192.0427636737861, 270.5715243669448, 154.721016426452, 154.72176621230713, 154.7217997663158, 157.74161903637315, 157.7401030706168, 161.13178970601945, 236.84753732126504, 185.69501229713677, 129.67538833476493, 175.76631277624824, 174.69225056655748, 466.2270932812915, 113.36148848727532, 109.59763134491303, 108.66286656847267, 116.37992728165315, 99.4942779628277, 83.457136146069, 710.9529691192307, 158.74133641359182, 880.2434410157508, 1497.739886594261, 650.4585014357781, 216.22957106755086, 174.99719475381573, 615.5612497760267, 601.7556386182742, 787.4656690218937, 756.0243199303344, 731.0468349266908, 1033.5105920886856, 1544.501245516787, 2992.376907807995, 1630.9532600829543, 1776.8579422317832, 1056.7817333350415, 594.181112382196, 836.8536646936128, 1289.293912434887, 2519.145464812414, 1610.3479449622307, 1849.7012686267187, 84.28972545318294, 65.26248076771674, 54.49507570860161, 47.60956364434949, 39.551654682364635, 40.26278717060691, 34.408515196332125, 52.488855628458495, 36.943334750875664, 26.303751398967112, 26.304612034234683, 26.304446405950074, 26.304220851355, 27.134454531431203, 26.30431583157648, 26.30420005258529, 26.303568500015203, 26.303922167982066, 26.304605675430533, 26.303635176177544, 27.132008535240804, 27.148519655236946, 24.06327061960305, 23.467274829643053, 23.467709871395027, 23.46742784179798, 23.46787598892799, 23.468142700600367, 23.46743494301379, 23.467656570734224, 65.86100072375359, 29.562019124573116, 30.653295969912836, 30.648305727904063, 31.70245953854597, 35.944044324162014, 105.27014135551018, 39.74743067862266, 31.564807286226724, 73.84076575891496, 153.69851769902175, 87.89901662348397, 130.3259410571068, 1849.7012686267187, 576.2602522407832, 45.43070347260829, 475.17053207288484, 265.151089029016, 198.83753843330675, 82.72387353975054, 787.4656690218937, 676.8148282444541, 550.0081579791554, 1497.739886594261, 101.09872925880936, 83.21548975596038, 629.2636364980056, 1056.7817333350415, 594.181112382196, 202.16499736737026, 360.0157919261969, 213.4655274273636, 1610.3479449622307, 1544.501245516787, 589.821414455135, 1289.293912434887, 1131.5845797687002, 1630.9532600829543, 765.7661445746724, 371.83158162305165, 1033.5105920886856, 390.891633485276, 289.1148309846227, 680.6403675280127, 416.69559045263236, 72.90009092390886, 39.34220623911125, 39.34626657705121, 64.384804018426, 35.22464829648252, 35.224738809593944, 29.04909013924923, 29.845051825680486, 55.17893647036732, 25.29804739527297, 24.251895733940003, 50.01801627921235, 23.523569781194873, 23.0413021350474, 30.782237113025115, 22.23790381287413, 21.232376332369633, 20.834834469311776, 21.954404092509712, 21.01550737688187, 21.015661360584396, 20.10781349187668, 19.17714092174487, 20.581703568463173, 20.068446316082422, 20.10951218574949, 17.4812470183873, 17.482181358227024, 17.48136154725077, 17.480637408118678, 41.01411714684562, 64.69060426290649, 27.97315089526239, 63.840343445303446, 33.7452918206343, 62.22248327314904, 201.4088269767728, 54.78826740912651, 103.84770108639918, 271.7871818353997, 48.571513603684096, 37.93037660743298, 110.07188391675487, 74.64537621354332, 127.05411481149477, 706.9364029107376, 48.1806557694942, 239.39086690371022, 1610.3479449622307, 119.22135216524067, 104.5214967603973, 650.4585014357781, 232.1185053798888, 390.891633485276, 175.17885935846311, 309.3182244773382, 765.7661445746724, 1131.5845797687002, 330.1322875974035, 475.17053207288484, 327.53426671879276, 601.7556386182742], \"Category\": [\"Default\", \"Default\", \"Default\", \"Default\", \"Default\", \"Default\", \"Default\", \"Default\", \"Default\", \"Default\", \"Default\", \"Default\", \"Default\", \"Default\", \"Default\", \"Default\", \"Default\", \"Default\", \"Default\", \"Default\", \"Default\", \"Default\", \"Default\", \"Default\", \"Default\", \"Default\", \"Default\", \"Default\", \"Default\", \"Default\", \"Topic1\", \"Topic1\", \"Topic1\", \"Topic1\", \"Topic1\", \"Topic1\", \"Topic1\", \"Topic1\", \"Topic1\", \"Topic1\", \"Topic1\", \"Topic1\", \"Topic1\", \"Topic1\", \"Topic1\", \"Topic1\", \"Topic1\", \"Topic1\", \"Topic1\", \"Topic1\", \"Topic1\", \"Topic1\", \"Topic1\", \"Topic1\", \"Topic1\", \"Topic1\", \"Topic1\", \"Topic1\", \"Topic1\", \"Topic1\", \"Topic1\", \"Topic1\", \"Topic1\", \"Topic1\", \"Topic1\", \"Topic1\", \"Topic1\", \"Topic1\", \"Topic1\", \"Topic1\", \"Topic1\", \"Topic1\", \"Topic1\", \"Topic1\", \"Topic1\", \"Topic1\", \"Topic1\", \"Topic1\", \"Topic1\", \"Topic1\", \"Topic1\", \"Topic2\", \"Topic2\", \"Topic2\", \"Topic2\", \"Topic2\", \"Topic2\", \"Topic2\", \"Topic2\", \"Topic2\", \"Topic2\", \"Topic2\", \"Topic2\", \"Topic2\", \"Topic2\", \"Topic2\", \"Topic2\", \"Topic2\", \"Topic2\", \"Topic2\", \"Topic2\", \"Topic2\", \"Topic2\", \"Topic2\", \"Topic2\", \"Topic2\", \"Topic2\", \"Topic2\", \"Topic2\", \"Topic2\", \"Topic2\", \"Topic2\", \"Topic2\", \"Topic2\", \"Topic2\", \"Topic2\", \"Topic2\", \"Topic2\", \"Topic2\", \"Topic2\", \"Topic2\", \"Topic2\", \"Topic2\", \"Topic2\", \"Topic2\", \"Topic2\", \"Topic2\", \"Topic2\", \"Topic2\", \"Topic2\", \"Topic2\", \"Topic2\", \"Topic2\", \"Topic2\", \"Topic3\", \"Topic3\", \"Topic3\", \"Topic3\", \"Topic3\", \"Topic3\", \"Topic3\", \"Topic3\", \"Topic3\", \"Topic3\", \"Topic3\", \"Topic3\", \"Topic3\", \"Topic3\", \"Topic3\", \"Topic3\", \"Topic3\", \"Topic3\", \"Topic3\", \"Topic3\", \"Topic3\", \"Topic3\", \"Topic3\", \"Topic3\", \"Topic3\", \"Topic3\", \"Topic3\", \"Topic3\", \"Topic3\", \"Topic3\", \"Topic3\", \"Topic3\", \"Topic3\", \"Topic3\", \"Topic3\", \"Topic3\", \"Topic3\", \"Topic3\", \"Topic3\", \"Topic3\", \"Topic3\", \"Topic3\", \"Topic3\", \"Topic3\", \"Topic3\", \"Topic3\", \"Topic3\", \"Topic3\", \"Topic3\", \"Topic3\", \"Topic3\", \"Topic3\", \"Topic3\", \"Topic3\", \"Topic3\", \"Topic3\", \"Topic3\", \"Topic3\", \"Topic3\", \"Topic3\", \"Topic3\", \"Topic3\", \"Topic3\", \"Topic3\", \"Topic3\", \"Topic3\", \"Topic3\", \"Topic3\", \"Topic3\", \"Topic3\", \"Topic3\", \"Topic3\", \"Topic3\", \"Topic3\", \"Topic3\", \"Topic4\", \"Topic4\", \"Topic4\", \"Topic4\", \"Topic4\", \"Topic4\", \"Topic4\", \"Topic4\", \"Topic4\", \"Topic4\", \"Topic4\", \"Topic4\", \"Topic4\", \"Topic4\", \"Topic4\", \"Topic4\", \"Topic4\", \"Topic4\", \"Topic4\", \"Topic4\", \"Topic4\", \"Topic4\", \"Topic4\", \"Topic4\", \"Topic4\", \"Topic4\", \"Topic4\", \"Topic4\", \"Topic4\", \"Topic4\", \"Topic4\", \"Topic4\", \"Topic4\", \"Topic4\", \"Topic4\", \"Topic4\", \"Topic4\", \"Topic4\", \"Topic4\", \"Topic4\", \"Topic4\", \"Topic4\", \"Topic4\", \"Topic4\", \"Topic4\", \"Topic4\", \"Topic4\", \"Topic4\", \"Topic4\", \"Topic4\", \"Topic4\", \"Topic4\", \"Topic4\", \"Topic4\", \"Topic4\", \"Topic4\", \"Topic4\", \"Topic4\", \"Topic4\", \"Topic4\", \"Topic4\", \"Topic4\"], \"logprob\": [30.0, 29.0, 28.0, 27.0, 26.0, 25.0, 24.0, 23.0, 22.0, 21.0, 20.0, 19.0, 18.0, 17.0, 16.0, 15.0, 14.0, 13.0, 12.0, 11.0, 10.0, 9.0, 8.0, 7.0, 6.0, 5.0, 4.0, 3.0, 2.0, 1.0, -3.5036, -3.8054, -4.4292, -4.738, -5.0249, -5.0252, -5.0235, -5.0522, -5.0537, -5.0537, -5.1762, -5.2687, -5.2833, -5.3231, -5.0231, -5.3299, -5.3628, -5.4553, -5.4059, -5.1807, -5.6785, -5.6296, -5.7466, -5.8365, -5.9252, -5.9473, -6.0247, -6.0203, -6.0983, -6.1629, -4.5149, -4.9874, -5.203, -4.5352, -5.3867, -4.7352, -4.8079, -4.1381, -3.5668, -5.0441, -3.511, -4.7104, -4.147, -4.3113, -4.3626, -4.5393, -4.3974, -4.5055, -4.713, -4.9917, -5.0422, -4.0447, -4.7882, -4.846, -4.9167, -4.6609, -4.8833, -4.8833, -4.873, -4.7138, -5.2507, -4.9082, -5.4673, -5.4673, -5.4673, -5.4482, -5.4482, -5.427, -5.0422, -5.2857, -5.6448, -5.3408, -5.3471, -4.3657, -5.78, -5.814, -5.8226, -5.7561, -5.9149, -6.0908, -3.9488, -5.4646, -3.9462, -3.6023, -4.3208, -5.253, -5.4253, -4.4312, -4.4748, -4.4777, -4.5691, -4.5933, -4.4464, -4.2367, -3.9711, -4.3014, -4.2826, -4.5853, -4.8584, -4.7388, -4.6847, -4.5956, -4.8433, -4.8604, -5.3544, -5.6127, -5.7964, -5.9328, -6.1231, -6.1058, -6.263, -5.8416, -6.1976, -6.5377, -6.5377, -6.5378, -6.5378, -6.5068, -6.5379, -6.5379, -6.538, -6.538, -6.538, -6.5382, -6.5077, -6.508, -6.6295, -6.6556, -6.6556, -6.6556, -6.6557, -6.6557, -6.6558, -6.6558, -5.6285, -6.4252, -6.3897, -6.3925, -6.3596, -6.2444, -5.225, -6.159, -6.385, -5.6984, -5.127, -5.5934, -5.3209, -3.358, -4.2267, -6.1292, -4.4311, -4.8544, -5.1032, -5.737, -4.1916, -4.3143, -4.4734, -3.8614, -5.6225, -5.7537, -4.5015, -4.224, -4.7113, -5.3517, -5.0961, -5.3728, -4.5844, -4.7165, -5.0553, -4.8476, -4.9647, -4.8628, -5.1029, -5.3011, -5.076, -5.2943, -5.3812, -5.2606, -5.3441, -4.9439, -5.5707, -5.572, -5.0802, -5.689, -5.6892, -5.8822, -5.8554, -5.2412, -6.021, -6.0646, -5.3416, -6.0962, -6.1181, -5.8286, -6.1541, -6.2018, -6.2214, -6.1702, -6.214, -6.214, -6.2598, -6.3072, -6.2371, -6.2625, -6.2619, -6.4055, -6.4055, -6.4056, -6.4057, -5.5661, -5.1401, -5.9585, -5.1985, -5.7983, -5.359, -4.7418, -5.611, -5.2087, -4.6319, -5.7094, -5.8696, -5.2902, -5.5146, -5.2351, -4.4503, -5.7694, -5.1137, -4.4272, -5.4489, -5.5085, -4.9185, -5.265, -5.1368, -5.4442, -5.3912, -5.2328, -5.2236, -5.5224, -5.4994, -5.5329, -5.5686], \"loglift\": [30.0, 29.0, 28.0, 27.0, 26.0, 25.0, 24.0, 23.0, 22.0, 21.0, 20.0, 19.0, 18.0, 17.0, 16.0, 15.0, 14.0, 13.0, 12.0, 11.0, 10.0, 9.0, 8.0, 7.0, 6.0, 5.0, 4.0, 3.0, 2.0, 1.0, 0.6116, 0.6116, 0.6112, 0.611, 0.6107, 0.6107, 0.6107, 0.6106, 0.6106, 0.6106, 0.6104, 0.6102, 0.6102, 0.6101, 0.6101, 0.6101, 0.61, 0.6099, 0.6099, 0.6094, 0.6094, 0.6092, 0.6091, 0.6089, 0.6086, 0.6085, 0.6082, 0.6082, 0.6076, 0.6076, 0.6046, 0.6035, 0.603, 0.5862, 0.6011, 0.5702, 0.5643, 0.5284, 0.4538, 0.56, 0.3375, 0.4635, 0.2227, 0.1569, 0.0928, 0.1512, -0.0679, 0.0043, 0.1079, 0.131, -0.1306, 1.3457, 1.3449, 1.3448, 1.3447, 1.3447, 1.3447, 1.3447, 1.3443, 1.3439, 1.3439, 1.3436, 1.3434, 1.3434, 1.3434, 1.3432, 1.3431, 1.3431, 1.3427, 1.3425, 1.3425, 1.3423, 1.3421, 1.3419, 1.3417, 1.3415, 1.3414, 1.3394, 1.3373, 1.3372, 1.3369, 1.3204, 1.1259, 0.9384, 1.0538, 1.223, 1.2622, 0.9985, 0.9776, 0.7057, 0.6551, 0.6645, 0.4652, 0.2732, -0.1226, 0.154, 0.0871, 0.304, 0.6067, 0.3838, 0.0058, -0.575, -0.3752, -0.5309, 2.0636, 2.0612, 2.0578, 2.0565, 2.0516, 2.051, 2.051, 2.0501, 2.0453, 2.0449, 2.0449, 2.0448, 2.0448, 2.0447, 2.0447, 2.0447, 2.0446, 2.0446, 2.0446, 2.0444, 2.0439, 2.043, 2.0421, 2.0411, 2.0411, 2.0411, 2.041, 2.041, 2.0409, 2.0409, 2.0363, 2.0406, 2.0399, 2.0372, 2.0364, 2.026, 1.9708, 2.0108, 2.0153, 1.852, 1.6903, 1.7827, 1.6614, 0.9716, 1.269, 1.907, 1.2576, 1.4176, 1.4566, 1.6998, 0.9919, 1.0207, 1.0689, 0.6792, 1.6137, 1.6771, 0.9062, 0.6653, 0.7538, 1.1915, 0.8701, 1.116, -0.1163, -0.2066, 0.4172, -0.1571, -0.1437, -0.4074, 0.1086, 0.6328, -0.1644, 0.5896, 0.8043, 0.0687, 0.4759, 2.6193, 2.6093, 2.608, 2.6072, 2.6015, 2.6014, 2.6012, 2.6009, 2.6006, 2.6006, 2.5992, 2.5983, 2.5981, 2.5969, 2.5968, 2.5965, 2.5949, 2.5943, 2.5932, 2.593, 2.593, 2.5914, 2.5914, 2.5908, 2.5907, 2.5892, 2.5857, 2.5857, 2.5855, 2.5855, 2.5723, 2.5426, 2.5626, 2.4975, 2.5352, 2.3626, 1.8051, 2.2378, 2.0007, 1.6153, 2.2599, 2.347, 1.8609, 2.0249, 1.7726, 0.8411, 2.208, 1.2605, 0.0409, 1.6224, 1.6944, 0.4562, 1.1401, 0.7471, 1.2423, 0.7267, -0.0214, -0.4027, 0.5304, 0.1893, 0.5278, -0.1162]}, \"token.table\": {\"Topic\": [3, 4, 1, 2, 4, 1, 4, 1, 2, 3, 1, 2, 1, 3, 1, 1, 1, 3, 1, 1, 3, 2, 2, 4, 1, 2, 3, 4, 1, 3, 4, 1, 2, 3, 4, 1, 2, 3, 4, 4, 3, 1, 2, 1, 2, 3, 4, 1, 2, 3, 4, 3, 1, 1, 1, 1, 2, 3, 1, 2, 3, 1, 2, 3, 4, 4, 1, 3, 1, 4, 1, 1, 3, 3, 1, 1, 1, 2, 3, 4, 1, 2, 3, 2, 4, 1, 2, 4, 1, 2, 4, 2, 1, 2, 3, 4, 1, 2, 4, 3, 1, 3, 4, 1, 2, 3, 4, 1, 2, 3, 4, 2, 1, 1, 2, 3, 4, 2, 1, 2, 1, 3, 3, 1, 2, 3, 4, 3, 1, 2, 3, 1, 2, 3, 4, 1, 2, 1, 2, 3, 4, 1, 1, 2, 3, 3, 1, 2, 3, 4, 1, 2, 3, 4, 1, 2, 3, 1, 4, 2, 3, 1, 3, 4, 3, 2, 1, 2, 4, 1, 4, 1, 3, 1, 2, 1, 2, 4, 1, 2, 3, 4, 3, 1, 2, 3, 2, 1, 2, 1, 4, 1, 2, 4, 1, 2, 3, 1, 2, 2, 1, 1, 2, 3, 4, 1, 2, 3, 1, 3, 4, 1, 4, 1, 4, 1, 2, 3, 1, 4, 1, 2, 3, 4, 1, 2, 3, 4, 3, 3, 1, 2, 3, 4, 1, 2, 3, 4, 1, 2, 1, 2, 3, 1, 1, 1, 1, 3, 4, 3, 1, 3, 4, 2, 3, 1, 2, 4, 1, 2, 4, 1, 2, 3, 4, 4, 1, 2, 3, 4, 4, 1, 2, 3, 4, 1, 1, 2, 3, 4, 4, 1, 2, 3, 2, 4, 4, 3, 1, 2, 3, 4, 1, 2, 3, 4, 2, 4, 1, 4, 1, 1, 2, 4, 1, 2, 3, 4, 2, 1, 3, 3, 1, 2, 3, 1, 2, 1, 2, 4, 2, 4, 1, 2, 3, 1, 1, 3, 4, 4, 3, 3, 4, 4, 3, 2, 3, 1, 2, 3, 4, 2, 1, 2, 3, 4, 1, 2, 3, 4, 3, 1, 2, 3, 4, 1, 3, 4, 1, 2, 3, 4, 3, 1, 3, 1, 4, 1, 2, 1, 2, 3, 4, 1, 3, 4, 1, 2, 4, 1, 2, 3, 1, 2, 3, 4, 1, 2, 3, 4, 3, 3, 4, 1, 1, 2, 3, 1, 2, 3, 4, 1, 3, 4, 4, 3, 1, 4, 2, 3, 4, 2, 1, 3, 1, 2, 3, 4, 1, 2, 4, 1, 3, 4, 1, 1, 2, 3, 1, 2, 3, 4, 1, 2, 3, 4], \"Freq\": [0.9459147026798205, 0.027821020667053543, 0.004222125386271501, 0.9964215911600743, 0.977742758175529, 0.7711578174564142, 0.22402350004320415, 0.9192993975892562, 0.0795110681605205, 0.0007572482681954334, 0.8615812550401342, 0.13709833109397754, 0.9962325799217425, 0.9800815494258803, 0.9971264312873553, 0.9974603430774558, 0.03262291927698513, 0.9786875783095539, 0.9970749799760943, 0.03262823103103999, 0.9788469309311997, 0.9960896838414606, 0.9938997875778017, 0.9725045833914814, 0.29683947132909455, 0.32538172818766137, 0.12558593017769384, 0.2511718603553877, 0.1642687463137555, 0.14601666339000488, 0.6753270681787725, 0.5445123482037744, 0.3412104726556351, 0.10229839597645227, 0.011654247642886967, 0.209772391197995, 0.5002264713182958, 0.23666628750543026, 0.05109840298412699, 0.9913018035381287, 0.980988473006367, 0.6177902085059077, 0.3811897031206664, 0.1861220615350936, 0.6913105142732049, 0.05982494835056581, 0.06481036071311295, 0.5947442049630922, 0.3028903476822346, 0.08399995472159137, 0.018394150668961613, 0.9881274971035172, 0.9993451373625796, 0.9980256188411281, 0.9964516921141615, 0.5850935639621824, 0.06501039599579804, 0.34869212397746224, 0.002144877495132322, 0.9930782802462651, 0.004289754990264644, 0.458175022214035, 0.1709065559052353, 0.3672672797112503, 0.005454464550167084, 0.9876530891456864, 0.019051663215492516, 0.9716348239901182, 0.015531615188481656, 0.9784917568743444, 0.9965793438555334, 0.9922885959899652, 0.007147336825858093, 0.9871966135017951, 0.9984506546577401, 0.998303583529219, 0.3945942542780445, 0.3520121405070325, 0.24508372148204682, 0.0085164227542024, 0.31684158080206365, 0.14081848035647274, 0.538127764219378, 0.9978011909883134, 0.9890555664268551, 0.6328480940067549, 0.003679349383760203, 0.36425558899226007, 0.9738214392949089, 0.0011934086265868982, 0.025061581158324863, 0.9929759999061367, 0.6305777078126542, 0.2613833794992183, 0.10781094881421764, 0.0007756183367929327, 0.8534640139012766, 0.14608128237938128, 0.9599308326379349, 0.9800882363616926, 0.046374586142491736, 0.030916390761661156, 0.9120335274690041, 0.38885457497448717, 0.2328010942281469, 0.22768458666269314, 0.15349522696361334, 0.13902071930158783, 0.352516823943312, 0.06951035965079391, 0.4369222606621332, 0.9952985201945839, 0.995285385082758, 0.45012737706832895, 0.1335542767125811, 0.41550219421691903, 0.00494645469305856, 0.9960877087598883, 0.9495416709707362, 0.050281229012707006, 0.9933345040942895, 0.9800722935703166, 0.9884345233765276, 0.07327477592017997, 0.5770388603714173, 0.22593055908722157, 0.12212462653363329, 0.9581913640417166, 0.13333914623912413, 0.5257372051714037, 0.3390624004366299, 0.3722058948666061, 0.26109965759299236, 0.2999868406387572, 0.06666374236416826, 0.003570511207831742, 0.9961726269850559, 0.04699222839504792, 0.01566407613168264, 0.06265630452673056, 0.8771882633742278, 0.997867710268254, 0.47485244923480885, 0.4999839159074032, 0.023808757900352532, 0.9965627429485001, 0.8723775614193064, 0.0030290887549281474, 0.0030290887549281474, 0.1211635501971259, 0.4760473707441031, 0.4131549335523008, 0.10643335524766533, 0.00387030382718783, 0.04402309115036855, 0.0880461823007371, 0.8584502774321867, 0.22499905602516254, 0.7714253349434145, 0.9945470414134022, 0.9884309543146843, 0.37744916646835247, 0.2516327776455683, 0.36906140721350017, 0.9959780755400494, 0.9953080855393794, 0.5997710660452961, 0.23340147617328738, 0.16691741932392673, 0.9995841744397175, 0.9717368600452247, 0.03154329394487936, 0.9778421122912602, 0.0036958804232621904, 0.9941918338575292, 0.05926752717477038, 0.02963376358738519, 0.9186466712089408, 0.506568285318667, 0.15299767849005633, 0.33248612110029907, 0.008109417587812173, 0.9558135451987619, 0.990528419555919, 0.005725597800901265, 0.001908532600300422, 0.9968111878901811, 0.9982516261820377, 0.9963309169059715, 0.9982743927334143, 0.9448264992456783, 0.005385174257668626, 0.9962572376686959, 0.9467598886702957, 0.7199500231670974, 0.07679466913782372, 0.20158600648678726, 0.0030440989341084653, 0.9954203514534682, 0.9953398934216882, 0.9958069256450787, 0.034130074661136656, 0.1820270648593955, 0.7508616425450064, 0.04550676621484887, 0.008439376809176483, 0.9888136494751779, 0.001406562801529414, 0.4789721983231309, 0.5204579792802525, 0.003771434632465598, 0.018122857451901574, 0.9786343024026851, 0.01999279608407028, 0.9596542120353733, 0.1381152505326064, 0.19182673685084223, 0.6598839747668972, 0.9996901797669002, 0.9516712159014274, 0.18032324166017208, 0.7050476295541863, 0.11209282589686372, 0.001624533708650199, 0.5837291230056614, 0.20502342799080278, 0.13972934264341336, 0.07051761217518057, 0.957694943598319, 0.9884200630418479, 0.0468459714339718, 0.5621516572076616, 0.38413696575856876, 0.00936919428679436, 0.5371357574085266, 0.14461347314844947, 0.31147517293512195, 0.006356636182349428, 0.0015617441206470983, 0.9979544930934958, 0.9582654286654084, 0.03729775620553985, 0.002869058169656911, 0.9981721490541763, 0.9978834417578841, 0.9987371903888781, 0.19341454063211472, 0.6890393010019087, 0.10879567910556452, 0.9884590374110255, 0.009499369784475518, 0.9024401295251742, 0.07599495827580414, 0.03168085237879305, 0.9504255713637914, 0.005724352378292829, 0.9960373138229521, 0.9548071489647494, 0.5666876677455397, 0.007870662052021384, 0.42501575080915477, 0.6776005956265374, 0.2836467609599459, 0.03883259227427831, 0.0005627911923808451, 0.9911995061495067, 0.42608141788895937, 0.10443172007082337, 0.2172179777473126, 0.254813396972809, 0.9638856110735197, 0.2841085271240953, 0.1851966695327436, 0.4419465977485927, 0.08628481194139191, 0.9967029208809032, 0.11133283752380316, 0.8009148005538901, 0.0727071591992184, 0.014768641712341235, 0.9565278980705593, 0.02519822555593346, 0.9701316839034382, 0.9884457471383484, 0.9945225038004071, 0.989301877781466, 0.9449063175205885, 0.9800700675967908, 0.573054812382893, 0.17123827233926686, 0.19158341360729855, 0.0644262806821004, 0.049456605801643336, 0.17804378088591602, 0.6330445542610348, 0.13847849624460135, 0.9945701485760879, 0.9386174963959245, 0.04876369745664071, 0.9508921004044939, 0.9968330642142923, 0.9539344023554284, 0.004600969786280201, 0.04140872807652181, 0.6035783910554945, 0.23860346352120576, 0.10869713338188262, 0.04860440923580117, 0.9947916999251903, 0.9955960147839528, 0.9884353049331606, 0.9686363697263167, 0.010050829258478689, 0.9849812673309115, 0.9884565318008768, 0.9947301999805565, 0.9953348541226513, 0.9968915363604777, 0.0023291858326179387, 0.9516781889359007, 0.9953350699776996, 0.9724186960227299, 0.012016993506048243, 0.3124418311572543, 0.6729516363387017, 0.9959495712722596, 0.03574856489153543, 0.03574856489153543, 0.9294626871799212, 0.9896133590254769, 0.9800519919035438, 0.9860522982718443, 0.9652307199149375, 0.9745880356209029, 0.988419824103916, 0.18959716704061605, 0.7990166325283105, 0.6340244685591514, 0.17822235306217088, 0.11177708554421867, 0.0751390408380581, 0.9979469296027381, 0.44964832678166683, 0.2663301627860642, 0.2801654959178078, 0.003458833282935899, 0.08746512072792785, 0.6636666412485518, 0.2483742359602226, 0.9724642988505393, 0.988452164318317, 0.7599310080446292, 0.2299175609211543, 0.00033418250133888705, 0.010025475040166612, 0.39480893241814596, 0.06740640309578103, 0.5296217386097081, 0.009567409872558344, 0.5453423627358256, 0.04783704936279171, 0.3922638047748921, 0.9884260477771846, 0.9916221613203176, 0.007099920009453348, 0.23727684259892967, 0.7645587150409956, 0.08000128241881281, 0.9200147478163473, 0.49107660802060704, 0.5047556221715989, 0.0013679014150991841, 0.0027358028301983682, 0.050317717795924324, 0.9308777792246, 0.025158858897962162, 0.060121286537347635, 0.8833204406641076, 0.055496572188320895, 0.4672070819938729, 0.39668525829668455, 0.13516682875294436, 0.25076529175191703, 0.4762857554751176, 0.2675951771043947, 0.0050489656057432965, 0.0028895496561278217, 0.9968946313640984, 0.971743509765979, 0.030366984680186844, 0.9909152211981702, 0.9582777466043298, 0.9716853624307212, 0.999443593797676, 0.9877586730932966, 0.008515160974942211, 0.002838386991647404, 0.5301983104200032, 0.12608374455109833, 0.19397499161707435, 0.148714160239757, 0.49967346830908593, 0.02725491645322287, 0.4633335797047888, 0.9724706699767408, 0.9800631301636019, 0.9982540826895075, 0.9652332001678264, 0.9881429099168144, 0.9800818459973938, 0.9882185612740744, 0.9956401612792335, 0.02706848222401734, 0.9744653600646243, 0.07225672336706397, 0.7456278900643836, 0.06918196918123146, 0.11376590487580285, 0.06176459775328997, 0.22647019176206323, 0.6999987745372863, 0.04151043542388456, 0.3113282656791342, 0.6641669667821529, 0.9984595447218756, 0.5344807295008541, 0.01735327043833942, 0.44771437730915703, 0.07156867980692316, 0.1951873085643359, 0.6831555799751756, 0.052049948950489575, 0.12057009364187625, 0.2545368643550721, 0.08038006242791751, 0.5492637599241029], \"Term\": [\"\\u4e16\\u7dad\", \"\\u4e16\\u7dad\", \"\\u4e8b\\u7aef\", \"\\u4e8b\\u7aef\", \"\\u4ea4\\u8ca8\", \"\\u4fee\\u6539\", \"\\u4fee\\u6539\", \"\\u5099\\u4efd\", \"\\u5099\\u4efd\", \"\\u5099\\u4efd\", \"\\u50b3\\u771f\\u7aef\", \"\\u50b3\\u771f\\u7aef\", \"\\u5165\\u6cd5\", \"\\u5168\\u932f\", \"\\u5177\\u9078\", \"\\u51fa\\u73fe\", \"\\u51fa\\u7acb\", \"\\u51fa\\u7acb\", \"\\u522a\\u6a94\", \"\\u522a\\u92b7\", \"\\u522a\\u92b7\", \"\\u52d5\\u614b\", \"\\u52d5\\u6b65\", \"\\u52fe\\u9078\\u5740\", \"\\u532f\\u5165\", \"\\u532f\\u5165\", \"\\u532f\\u5165\", \"\\u532f\\u5165\", \"\\u532f\\u51fa\", \"\\u532f\\u51fa\", \"\\u532f\\u51fa\", \"\\u5354\\u52a9\", \"\\u5354\\u52a9\", \"\\u5354\\u52a9\", \"\\u5354\\u52a9\", \"\\u53cd\\u6620\", \"\\u53cd\\u6620\", \"\\u53cd\\u6620\", \"\\u53cd\\u6620\", \"\\u541f\\u5bb9\", \"\\u5426\\u8abf\", \"\\u54c1\\u724c\", \"\\u54c1\\u724c\", \"\\u55ae\\u4f4d\", \"\\u55ae\\u4f4d\", \"\\u55ae\\u4f4d\", \"\\u55ae\\u4f4d\", \"\\u56de\\u8986\", \"\\u56de\\u8986\", \"\\u56de\\u8986\", \"\\u56de\\u8986\", \"\\u56de\\u994b\", \"\\u5712\\u7aef\", \"\\u5716\\u793a\", \"\\u5718\\u968a\", \"\\u57f7\\u884c\", \"\\u57f7\\u884c\", \"\\u57f7\\u884c\", \"\\u5831\\u50f9\", \"\\u5831\\u50f9\", \"\\u5831\\u50f9\", \"\\u5831\\u8868\", \"\\u5831\\u8868\", \"\\u5831\\u8868\", \"\\u5831\\u8868\", \"\\u589e\\u57df\", \"\\u589e\\u5931\\u6557\", \"\\u589e\\u5931\\u6557\", \"\\u589e\\u7c3f\", \"\\u589e\\u7c3f\", \"\\u5929\\u52d5\\u5099\", \"\\u5931\\u6557\", \"\\u5931\\u6557\", \"\\u5a92\\u7aef\", \"\\u5b58\\u8d08\", \"\\u5b78\\u6821\", \"\\u5b8c\\u6210\", \"\\u5b8c\\u6210\", \"\\u5b8c\\u6210\", \"\\u5b8c\\u6210\", \"\\u5b8c\\u6574\", \"\\u5b8c\\u6574\", \"\\u5b8c\\u6574\", \"\\u5b8f\\u58fd\", \"\\u5bb6\\u57df\", \"\\u5bc4\\u51fa\", \"\\u5bc4\\u51fa\", \"\\u5bc4\\u51fa\", \"\\u5bc6\\u78bc\", \"\\u5bc6\\u78bc\", \"\\u5bc6\\u78bc\", \"\\u5c08\\u5bb6\", \"\\u5c08\\u7dda\", \"\\u5c08\\u7dda\", \"\\u5c08\\u7dda\", \"\\u5c08\\u7dda\", \"\\u5e33\\u865f\", \"\\u5e33\\u865f\", \"\\u5e78\\u5eb7\", \"\\u5ef6\\u8aa4\", \"\\u5efa\\u7ae0\", \"\\u5efa\\u7ae0\", \"\\u5efa\\u7ae0\", \"\\u5efa\\u8b70\", \"\\u5efa\\u8b70\", \"\\u5efa\\u8b70\", \"\\u5efa\\u8b70\", \"\\u5f15\\u8ff0\", \"\\u5f15\\u8ff0\", \"\\u5f15\\u8ff0\", \"\\u5f15\\u8ff0\", \"\\u5fc5\\u7406\", \"\\u60c5\\u898b\", \"\\u610f\\u601d\", \"\\u610f\\u601d\", \"\\u610f\\u601d\", \"\\u610f\\u601d\", \"\\u614b\\u624b\", \"\\u6210\\u529f\", \"\\u6210\\u529f\", \"\\u622a\\u5716\", \"\\u627f\\u64d4\", \"\\u6307\\u5831\", \"\\u6307\\u5b9a\", \"\\u6307\\u5b9a\", \"\\u6307\\u5b9a\", \"\\u6307\\u5b9a\", \"\\u6383\\u51fa\", \"\\u6383\\u63cf\", \"\\u6383\\u63cf\", \"\\u6383\\u63cf\", \"\\u6388\\u6b0a\", \"\\u6388\\u6b0a\", \"\\u6388\\u6b0a\", \"\\u6388\\u6b0a\", \"\\u638c\\u63e1\", \"\\u638c\\u63e1\", \"\\u6392\\u7a0b\", \"\\u6392\\u7a0b\", \"\\u6392\\u7a0b\", \"\\u6392\\u7a0b\", \"\\u63a5\\u8457\", \"\\u63a8\\u51fa\", \"\\u63a8\\u51fa\", \"\\u63a8\\u51fa\", \"\\u63cf\\u7b46\", \"\\u64cd\\u4f5c\", \"\\u64cd\\u4f5c\", \"\\u64cd\\u4f5c\", \"\\u64cd\\u4f5c\", \"\\u652f\\u63f4\", \"\\u652f\\u63f4\", \"\\u652f\\u63f4\", \"\\u652f\\u63f4\", \"\\u6536\\u52ff\", \"\\u6536\\u52ff\", \"\\u6536\\u52ff\", \"\\u6536\\u53d6\", \"\\u6536\\u53d6\", \"\\u656c\\u884c\", \"\\u6574\\u4f8b\", \"\\u6574\\u7406\", \"\\u6574\\u7406\", \"\\u6574\\u7406\", \"\\u6578\\u7591\", \"\\u65b7\\u7aef\", \"\\u65b9\\u5f0f\", \"\\u65b9\\u5f0f\", \"\\u65b9\\u5f0f\", \"\\u6821\\u5712\", \"\\u6821\\u6cd5\", \"\\u6848\\u884c\", \"\\u6848\\u884c\", \"\\u69ae\\u72c2\", \"\\u69ae\\u72c2\", \"\\u6a5f\\u5668\", \"\\u6a5f\\u5668\", \"\\u6a5f\\u5668\", \"\\u6a94\\u6848\", \"\\u6a94\\u6848\", \"\\u6a94\\u6848\", \"\\u6a94\\u6848\", \"\\u6a94\\u88dd\", \"\\u6b63\\u5e38\", \"\\u6b63\\u5e38\", \"\\u6b63\\u5e38\", \"\\u6b65\\u5b78\", \"\\u6c7a\\u9047\", \"\\u6df1\\u8015\", \"\\u6e1b\\u80a5\", \"\\u6e21\\u671f\", \"\\u6e9d\\u901a\", \"\\u6e9d\\u901a\", \"\\u71d5\\u8b70\", \"\\u72c0\\u6cc1\", \"\\u72c0\\u6cc1\", \"\\u72c0\\u6cc1\", \"\\u7372\\u5bb6\", \"\\u7372\\u5bb6\", \"\\u73fe\\u99ac\", \"\\u7406\\u6cd5\", \"\\u7406\\u8def\", \"\\u7406\\u8def\", \"\\u7406\\u8def\", \"\\u7406\\u8def\", \"\\u7522\\u54c1\", \"\\u7522\\u54c1\", \"\\u7522\\u54c1\", \"\\u7522\\u54c1\\u8853\", \"\\u7522\\u54c1\\u8853\", \"\\u7522\\u54c1\\u8853\", \"\\u7559\\u5b58\", \"\\u7559\\u5b58\", \"\\u7591\\u4f3c\", \"\\u7591\\u4f3c\", \"\\u75c5\\u6bd2\", \"\\u75c5\\u6bd2\", \"\\u75c5\\u6bd2\", \"\\u767b\\u5165\", \"\\u76f4\\u5019\", \"\\u77e5\\u9053\", \"\\u77e5\\u9053\", \"\\u77e5\\u9053\", \"\\u77e5\\u9053\", \"\\u78ba\\u8a8d\", \"\\u78ba\\u8a8d\", \"\\u78ba\\u8a8d\", \"\\u78ba\\u8a8d\", \"\\u78bc\\u5426\", \"\\u78bc\\u7b46\", \"\\u78c1\\u789f\", \"\\u78c1\\u789f\", \"\\u78c1\\u789f\", \"\\u78c1\\u789f\", \"\\u7a0b\\u5f0f\", \"\\u7a0b\\u5f0f\", \"\\u7a0b\\u5f0f\", \"\\u7a0b\\u5f0f\", \"\\u7a3d\\u6838\", \"\\u7a3d\\u6838\", \"\\u7a7a\\u9593\", \"\\u7a7a\\u9593\", \"\\u7a7a\\u9593\", \"\\u7ad9\\u7aef\", \"\\u7aef\\u6821\", \"\\u7aef\\u76f8\", \"\\u7b26\\u865f\", \"\\u7b26\\u865f\", \"\\u7b26\\u865f\", \"\\u7b46\\u624b\", \"\\u7b46\\u6578\", \"\\u7b46\\u6578\", \"\\u7b46\\u6578\", \"\\u7b46\\u8cc7\", \"\\u7b46\\u8cc7\", \"\\u7b56\\u7d20\", \"\\u7b56\\u7d20\", \"\\u7bc0\\u7701\", \"\\u7c21\\u8a0a\", \"\\u7c21\\u8a0a\", \"\\u7c21\\u8a0a\", \"\\u7cfb\\u7d71\", \"\\u7cfb\\u7d71\", \"\\u7cfb\\u7d71\", \"\\u7cfb\\u7d71\", \"\\u7d00\\u59ff\", \"\\u7d00\\u9304\", \"\\u7d00\\u9304\", \"\\u7d00\\u9304\", \"\\u7d00\\u9304\", \"\\u7d44\\u9304\", \"\\u7d50\\u679c\", \"\\u7d50\\u679c\", \"\\u7d50\\u679c\", \"\\u7d50\\u679c\", \"\\u8001\\u5e2b\", \"\\u80a1\\u4efd\", \"\\u80a1\\u4efd\", \"\\u80a1\\u4efd\", \"\\u80a1\\u4efd\", \"\\u8166\\u547d\", \"\\u8166\\u78ba\", \"\\u8166\\u78ba\", \"\\u8166\\u7b46\", \"\\u8208\\u7406\", \"\\u820a\\u57df\", \"\\u8377\\u5f71\", \"\\u8513\\u5ef6\", \"\\u8655\\u7406\", \"\\u8655\\u7406\", \"\\u8655\\u7406\", \"\\u8655\\u7406\", \"\\u865f\\u78bc\", \"\\u865f\\u78bc\", \"\\u865f\\u78bc\", \"\\u865f\\u78bc\", \"\\u884c\\u4e8b\", \"\\u884c\\u5ba4\", \"\\u88dd\\u6a5f\", \"\\u88dd\\u6a5f\", \"\\u898b\\u656c\", \"\\u8a18\\u9304\", \"\\u8a18\\u9304\", \"\\u8a18\\u9304\", \"\\u8a2d\\u5b9a\", \"\\u8a2d\\u5b9a\", \"\\u8a2d\\u5b9a\", \"\\u8a2d\\u5b9a\", \"\\u8a2d\\u8cc7\\u8a0a\", \"\\u8a62\\u4eab\", \"\\u8a62\\u6383\", \"\\u8a62\\u8853\", \"\\u8a66\\u4ec1\", \"\\u8a66\\u4ec1\", \"\\u8a71\\u865f\", \"\\u8a73\\u60c5\", \"\\u8a8d\\u514d\", \"\\u8a8d\\u8b49\", \"\\u8a8d\\u8b49\", \"\\u8a8d\\u8eab\", \"\\u8a8d\\u8f09\", \"\\u8a8d\\u91cf\", \"\\u8aa4\\u5224\", \"\\u8aa4\\u5224\", \"\\u8aa4\\u5224\", \"\\u8aa4\\u8a0a\\u606f\", \"\\u8b66\\u544a\", \"\\u8b66\\u544a\", \"\\u8b66\\u544a\", \"\\u8b8a\\u57df\", \"\\u8cac\\u627f\", \"\\u8cac\\u8072\", \"\\u8cb4\\u76f8\", \"\\u8cb4\\u8655\", \"\\u8cc7\\u53cd\\u679c\", \"\\u8cc7\\u6383\", \"\\u8cc7\\u6383\", \"\\u8cc7\\u6599\", \"\\u8cc7\\u6599\", \"\\u8cc7\\u6599\", \"\\u8cc7\\u6599\", \"\\u8cc7\\u6cd5\", \"\\u8cc7\\u6e90\", \"\\u8cc7\\u6e90\", \"\\u8cc7\\u6e90\", \"\\u8cc7\\u6e90\", \"\\u8cc7\\u76e4\", \"\\u8cc7\\u76e4\", \"\\u8cc7\\u76e4\", \"\\u8cc7\\u7a2e\", \"\\u8cc7\\u7e3d\\u6578\", \"\\u8cc7\\u8a0a\", \"\\u8cc7\\u8a0a\", \"\\u8cc7\\u8a0a\", \"\\u8cc7\\u8a0a\", \"\\u8cc7\\u8a0a\\u5ba4\", \"\\u8cc7\\u8a0a\\u5ba4\", \"\\u8cc7\\u8a0a\\u5ba4\", \"\\u8cc7\\u901a\", \"\\u8cc7\\u901a\", \"\\u8cc7\\u901a\", \"\\u8cc7\\u901a\", \"\\u8d85\\u6578\", \"\\u8eab\\u4efd\", \"\\u8eab\\u4efd\", \"\\u8f49\\u63db\", \"\\u8f49\\u63db\", \"\\u8fa6\\u5ba4\", \"\\u8fa6\\u5ba4\", \"\\u901a\\u77e5\", \"\\u901a\\u77e5\", \"\\u901a\\u77e5\", \"\\u901a\\u77e5\", \"\\u901a\\u8a0a\\u4efd\", \"\\u901a\\u8a0a\\u4efd\", \"\\u901a\\u8a0a\\u4efd\", \"\\u901a\\u8a0a\\u9304\", \"\\u901a\\u8a0a\\u9304\", \"\\u901a\\u8a0a\\u9304\", \"\\u9020\\u6210\", \"\\u9020\\u6210\", \"\\u9020\\u6210\", \"\\u9032\\u884c\", \"\\u9032\\u884c\", \"\\u9032\\u884c\", \"\\u9032\\u884c\", \"\\u904b\\u6a13\", \"\\u904b\\u6a13\", \"\\u906e\\u853d\", \"\\u906e\\u853d\", \"\\u908f\\u8f2f\", \"\\u91cf\\u9650\", \"\\u9304\\u7fa4\", \"\\u932f\\u8aa4\", \"\\u958b\\u555f\", \"\\u958b\\u555f\", \"\\u958b\\u555f\", \"\\u958b\\u59cb\", \"\\u958b\\u59cb\", \"\\u958b\\u59cb\", \"\\u958b\\u59cb\", \"\\u958b\\u767c\", \"\\u958b\\u767c\", \"\\u958b\\u767c\", \"\\u958b\\u8cc7\\u6599\\u5740\", \"\\u95b1\\u6587\", \"\\u95dc\\u7591\", \"\\u95dc\\u7a2e\", \"\\u95dc\\u8cc7\\u76e4\", \"\\u9650\\u95dc\", \"\\u96b8\\u885b\", \"\\u9700\\u64d4\", \"\\u9700\\u6a94\", \"\\u9700\\u6a94\", \"\\u9700\\u6c42\", \"\\u9700\\u6c42\", \"\\u9700\\u6c42\", \"\\u9700\\u6c42\", \"\\u9700\\u78ba\", \"\\u9700\\u78ba\", \"\\u9700\\u78ba\", \"\\u9700\\u958b\", \"\\u9700\\u958b\", \"\\u9700\\u958b\", \"\\u9818\\u5c0e\", \"\\u986f\\u793a\", \"\\u986f\\u793a\", \"\\u986f\\u793a\", \"\\u98a8\\u96aa\", \"\\u98a8\\u96aa\", \"\\u98a8\\u96aa\", \"\\u98a8\\u96aa\", \"\\u9996\\u5e2d\", \"\\u9996\\u5e2d\", \"\\u9996\\u5e2d\", \"\\u9996\\u5e2d\"]}, \"R\": 30, \"lambda.step\": 0.01, \"plot.opts\": {\"xlab\": \"PC1\", \"ylab\": \"PC2\"}, \"topic.order\": [4, 3, 1, 2]};\n",
       "\n",
       "function LDAvis_load_lib(url, callback){\n",
       "  var s = document.createElement('script');\n",
       "  s.src = url;\n",
       "  s.async = true;\n",
       "  s.onreadystatechange = s.onload = callback;\n",
       "  s.onerror = function(){console.warn(\"failed to load library \" + url);};\n",
       "  document.getElementsByTagName(\"head\")[0].appendChild(s);\n",
       "}\n",
       "\n",
       "if(typeof(LDAvis) !== \"undefined\"){\n",
       "   // already loaded: just create the visualization\n",
       "   !function(LDAvis){\n",
       "       new LDAvis(\"#\" + \"ldavis_el984423235787097127703119645\", ldavis_el984423235787097127703119645_data);\n",
       "   }(LDAvis);\n",
       "}else if(typeof define === \"function\" && define.amd){\n",
       "   // require.js is available: use it to load d3/LDAvis\n",
       "   require.config({paths: {d3: \"https://d3js.org/d3.v5\"}});\n",
       "   require([\"d3\"], function(d3){\n",
       "      window.d3 = d3;\n",
       "      LDAvis_load_lib(\"https://cdn.jsdelivr.net/gh/bmabey/pyLDAvis@3.3.1/pyLDAvis/js/ldavis.v3.0.0.js\", function(){\n",
       "        new LDAvis(\"#\" + \"ldavis_el984423235787097127703119645\", ldavis_el984423235787097127703119645_data);\n",
       "      });\n",
       "    });\n",
       "}else{\n",
       "    // require.js not available: dynamically load d3 & LDAvis\n",
       "    LDAvis_load_lib(\"https://d3js.org/d3.v5.js\", function(){\n",
       "         LDAvis_load_lib(\"https://cdn.jsdelivr.net/gh/bmabey/pyLDAvis@3.3.1/pyLDAvis/js/ldavis.v3.0.0.js\", function(){\n",
       "                 new LDAvis(\"#\" + \"ldavis_el984423235787097127703119645\", ldavis_el984423235787097127703119645_data);\n",
       "            })\n",
       "         });\n",
       "}\n",
       "</script>"
      ],
      "text/plain": [
       "PreparedData(topic_coordinates=                x           y  topics  cluster       Freq\n",
       "topic                                                    \n",
       "3      269.562408 -124.803398       1        1  54.220036\n",
       "2        1.782994 -295.079681       2        1  25.977389\n",
       "0      220.811432 -343.832123       3        1  12.590665\n",
       "1       50.533993  -76.050934       4        1   7.211909, topic_info=     Term         Freq        Total Category  logprob  loglift\n",
       "3423   登入  2291.000000  2291.000000  Default  30.0000  30.0000\n",
       "2872   檔案  1849.000000  1849.000000  Default  29.0000  29.0000\n",
       "4974   資盤  1497.000000  1497.000000  Default  28.0000  28.0000\n",
       "2646   校園  1694.000000  1694.000000  Default  27.0000  27.0000\n",
       "3318   產品   710.000000   710.000000  Default  26.0000  26.0000\n",
       "...   ...          ...          ...      ...      ...      ...\n",
       "4510   設定    54.557310  1131.584580   Topic4  -5.2236  -0.4027\n",
       "2228   操作    40.467654   330.132288   Topic4  -5.5224   0.5304\n",
       "3936   結果    41.409287   475.170532   Topic4  -5.4994   0.1893\n",
       "2013   指定    40.042205   327.534267   Topic4  -5.5329   0.5278\n",
       "1023   單位    38.638766   601.755639   Topic4  -5.5686  -0.1162\n",
       "\n",
       "[271 rows x 6 columns], token_table=      Topic      Freq Term\n",
       "term                      \n",
       "2         3  0.945915   世維\n",
       "2         4  0.027821   世維\n",
       "42        1  0.004222   事端\n",
       "42        2  0.996422   事端\n",
       "59        4  0.977743   交貨\n",
       "...     ...       ...  ...\n",
       "5925      4  0.052050   風險\n",
       "5931      1  0.120570   首席\n",
       "5931      2  0.254537   首席\n",
       "5931      3  0.080380   首席\n",
       "5931      4  0.549264   首席\n",
       "\n",
       "[436 rows x 3 columns], R=30, lambda_step=0.01, plot_opts={'xlab': 'PC1', 'ylab': 'PC2'}, topic_order=[4, 3, 1, 2])"
      ]
     },
     "execution_count": 134,
     "metadata": {},
     "output_type": "execute_result"
    }
   ],
   "source": [
    "import pyLDAvis\n",
    "import pyLDAvis.sklearn\n",
    "pyLDAvis.enable_notebook()\n",
    "panel = pyLDAvis.sklearn.prepare(lda_model, data_vectorized2, CountVec, mds='tsne')\n",
    "panel"
   ]
  },
  {
   "cell_type": "markdown",
   "metadata": {},
   "source": [
    "# Plot the clusters"
   ]
  },
  {
   "cell_type": "code",
   "execution_count": 137,
   "metadata": {},
   "outputs": [],
   "source": [
    "# Construct the k-means clusters\n",
    "from sklearn.cluster import KMeans\n",
    "clusters = KMeans(n_clusters=4, random_state=100).fit_predict(doc_topic_matrix)"
   ]
  },
  {
   "cell_type": "code",
   "execution_count": 138,
   "metadata": {},
   "outputs": [
    {
     "name": "stdout",
     "output_type": "stream",
     "text": [
      "Component's weights: \n",
      " [[ 0.08  0.05  0.15  0.98]\n",
      " [ 0.12  0.06  0.98 -0.16]\n",
      " [ 0.98  0.15 -0.15 -0.07]]\n",
      "Perc of Variance Explained: \n",
      " [0.33 0.41 0.19]\n"
     ]
    }
   ],
   "source": [
    "# to cluster documents that share similar topics and plot?\n",
    "# Build the Singular Value Decomposition(SVD) model\n",
    "svd_model = TruncatedSVD(n_components=3)  # 2 components\n",
    "lda_output_svd = svd_model.fit_transform(doc_topic_matrix)\n",
    "\n",
    "# X and Y axes of the plot using SVD decomposition\n",
    "x = lda_output_svd[:, 0]\n",
    "y = lda_output_svd[:, 1]\n",
    "\n",
    "# Weights for the 15 columns of lda_output, for each component\n",
    "print(\"Component's weights: \\n\", np.round(svd_model.components_, 2))\n",
    "\n",
    "# Percentage of total information in 'lda_output' explained by the two components\n",
    "print(\"Perc of Variance Explained: \\n\", np.round(svd_model.explained_variance_ratio_, 2))"
   ]
  },
  {
   "cell_type": "code",
   "execution_count": 139,
   "metadata": {},
   "outputs": [
    {
     "data": {
      "text/plain": [
       "Text(0.5, 1.0, 'Segregation of Topic Clusters')"
      ]
     },
     "execution_count": 139,
     "metadata": {},
     "output_type": "execute_result"
    },
    {
     "data": {
      "image/png": "[encoded data removed]",
      "text/plain": [
       "<Figure size 864x864 with 1 Axes>"
      ]
     },
     "metadata": {
      "needs_background": "light"
     },
     "output_type": "display_data"
    }
   ],
   "source": [
    "# Plot\n",
    "import matplotlib.pyplot as plt\n",
    "plt.figure(figsize=(12, 12))\n",
    "plt.scatter(x, y, c=clusters)\n",
    "plt.xlabel('Component 2')\n",
    "plt.xlabel('Component 1')\n",
    "plt.title(\"Segregation of Topic Clusters\", )"
   ]
  },
  {
   "cell_type": "markdown",
   "metadata": {},
   "source": [
    "## Save model"
   ]
  },
  {
   "cell_type": "code",
   "execution_count": 140,
   "metadata": {},
   "outputs": [],
   "source": [
    "import pickle\n",
    "\n",
    "with open(\"sklearn_lda_model.pk\",\"wb\") as f:\n",
    "    pickle.dump(lda_model, f)\n",
    "\n",
    "# then reload it with\n",
    "# lda_model = pickle.load('sklearn_lda_model.pk')"
   ]
  },
  {
   "cell_type": "code",
   "execution_count": 71,
   "metadata": {},
   "outputs": [],
   "source": [
    "#end"
   ]
  }
 ],
 "metadata": {
  "colab": {
   "name": "tra_LDA - n-gram_worked_vizual.ipynb",
   "provenance": []
  },
  "kernelspec": {
   "display_name": "Python 3 (ipykernel)",
   "language": "python",
   "name": "python3"
  },
  "language_info": {
   "codemirror_mode": {
    "name": "ipython",
    "version": 3
   },
   "file_extension": ".py",
   "mimetype": "text/x-python",
   "name": "python",
   "nbconvert_exporter": "python",
   "pygments_lexer": "ipython3",
   "version": "3.9.11"
  },
  "toc-autonumbering": true,
  "toc-showcode": true,
  "toc-showmarkdowntxt": true
 },
 "nbformat": 4,
 "nbformat_minor": 4
}
