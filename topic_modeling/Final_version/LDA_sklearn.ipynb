{
 "cells": [
  {
   "cell_type": "code",
   "execution_count": 1,
   "metadata": {
    "id": "u9WJ-nX9vHeO"
   },
   "outputs": [],
   "source": [
    "# import the basic packages\n",
    "import pandas as pd\n",
    "import numpy as np\n",
    "import pickle\n",
    "\n",
    "import re\n",
    "import stopwordsiso\n",
    "from stopwordsiso import stopwords\n",
    "import jieba\n",
    "import opencc\n",
    "from opencc import OpenCC\n",
    "\n",
    "import stopwordsiso\n",
    "from stopwordsiso import stopwords\n",
    "stopwords([\"zh\"])  # Chinese\n",
    "from collections import Counter\n",
    "import re\n",
    "\n",
    "from sklearn.decomposition import LatentDirichletAllocation, TruncatedSVD\n",
    "from sklearn.feature_extraction.text import CountVectorizer, TfidfVectorizer\n",
    "from sklearn.model_selection import GridSearchCV\n",
    "from pprint import pprint"
   ]
  },
  {
   "cell_type": "markdown",
   "metadata": {},
   "source": [
    "# 1. Import data and preprocessing the raw data"
   ]
  },
  {
   "cell_type": "code",
   "execution_count": 2,
   "metadata": {
    "id": "mVzFtGYGvHeR",
    "outputId": "36a1ef91-8fd4-4e6a-c544-bce8ce36da00",
    "scrolled": true,
    "tags": []
   },
   "outputs": [
    {
     "data": {
      "text/html": [
       "<div>\n",
       "<style scoped>\n",
       "    .dataframe tbody tr th:only-of-type {\n",
       "        vertical-align: middle;\n",
       "    }\n",
       "\n",
       "    .dataframe tbody tr th {\n",
       "        vertical-align: top;\n",
       "    }\n",
       "\n",
       "    .dataframe thead th {\n",
       "        text-align: right;\n",
       "    }\n",
       "</style>\n",
       "<table border=\"1\" class=\"dataframe\">\n",
       "  <thead>\n",
       "    <tr style=\"text-align: right;\">\n",
       "      <th></th>\n",
       "      <th>﻿Date</th>\n",
       "      <th>Subject</th>\n",
       "      <th>From</th>\n",
       "      <th>From Email</th>\n",
       "      <th>To</th>\n",
       "      <th>Cc</th>\n",
       "      <th>Bcc</th>\n",
       "      <th>Body</th>\n",
       "    </tr>\n",
       "    <tr>\n",
       "      <th>id</th>\n",
       "      <th></th>\n",
       "      <th></th>\n",
       "      <th></th>\n",
       "      <th></th>\n",
       "      <th></th>\n",
       "      <th></th>\n",
       "      <th></th>\n",
       "      <th></th>\n",
       "    </tr>\n",
       "  </thead>\n",
       "  <tbody>\n",
       "    <tr>\n",
       "      <th>0</th>\n",
       "      <td>09/05/2017 05:51:48</td>\n",
       "      <td>(中日)使用者發出的信件取回問題-接續問題</td>\n",
       "      <td>Ciou-Liang</td>\n",
       "      <td>kevin@patech.com.tw</td>\n",
       "      <td>service@mailcloud.com.tw</td>\n",
       "      <td>NaN</td>\n",
       "      <td>NaN</td>\n",
       "      <td>Dear 網擎：\\r\\n     附件所示   郵件使用者     alex.chen@cr...</td>\n",
       "    </tr>\n",
       "    <tr>\n",
       "      <th>1</th>\n",
       "      <td>﻿02/27/2018 05:28:12</td>\n",
       "      <td>(仍然無法註冊) Re: M2k - danno149131 - 註冊帳號顯示錯誤</td>\n",
       "      <td>Mail2000 客服中心</td>\n",
       "      <td>m2k_adm@mail2000.com.tw</td>\n",
       "      <td>cloud_se@openfind.com.tw</td>\n",
       "      <td>m2k_service &lt;m2k_service@mail2000.com.tw&gt;</td>\n",
       "      <td>NaN</td>\n",
       "      <td>您好，使用者反應重新註冊帳號，將訂單送出時，系統會顯示\"認證失敗，請重新確認您所輸入的帳號密...</td>\n",
       "    </tr>\n",
       "    <tr>\n",
       "      <th>2</th>\n",
       "      <td>﻿04/18/2018 02:55:09</td>\n",
       "      <td>(希望今天能收到回覆) P-Marker 業務問題 - 潛在客戶：國民健康署</td>\n",
       "      <td>Mail2000 客服中心</td>\n",
       "      <td>m2k_adm@mail2000.com.tw</td>\n",
       "      <td>產品業務 &lt;sales@openfind.com.tw&gt;</td>\n",
       "      <td>m2k_service &lt;m2k_service@mail2000.com.tw&gt;</td>\n",
       "      <td>NaN</td>\n",
       "      <td>您好，國民健康署張淇鈞 小姐02-2522 0889rubychang@hpa.gov.tw...</td>\n",
       "    </tr>\n",
       "    <tr>\n",
       "      <th>3</th>\n",
       "      <td>﻿05/05/2016 08:45:46</td>\n",
       "      <td>(很急) Fw: (急) MailGates 軟體 - 嘉聯益科技 - 稽核條件沒有正常執行</td>\n",
       "      <td>Mail2000 客服中心</td>\n",
       "      <td>m2k_adm@mail2000.com.tw</td>\n",
       "      <td>網擎資訊技術服務信箱 &lt;m2k_noc@openfind.com.tw&gt;</td>\n",
       "      <td>m2k_service &lt;m2k_service@mail2000.com.tw&gt;</td>\n",
       "      <td>NaN</td>\n",
       "      <td>您好，客戶來電表示還沒收到回覆，今天上午也有寄信到m2k_noc，麻煩您幫忙盡快連繫，謝謝。...</td>\n",
       "    </tr>\n",
       "    <tr>\n",
       "      <th>4</th>\n",
       "      <td>﻿12/15/2016 01:54:47</td>\n",
       "      <td>(很急) Fw: Mail2000 軟體 - 德律科技 - 管理者帳號疑似被入侵</td>\n",
       "      <td>Mail2000 客服中心</td>\n",
       "      <td>m2k_adm@mail2000.com.tw</td>\n",
       "      <td>網擎資訊技術服務信箱 &lt;m2k_noc@openfind.com.tw&gt;</td>\n",
       "      <td>m2k_service &lt;m2k_service@mail2000.com.tw&gt;</td>\n",
       "      <td>NaN</td>\n",
       "      <td>您好，德律陳先生0933 818 259問題：客戶提到管理者帳號被登入，想確認系統設定是否有...</td>\n",
       "    </tr>\n",
       "  </tbody>\n",
       "</table>\n",
       "</div>"
      ],
      "text/plain": [
       "                   ﻿Date                                         Subject  \\\n",
       "id                                                                         \n",
       "0    09/05/2017 05:51:48                           (中日)使用者發出的信件取回問題-接續問題   \n",
       "1   ﻿02/27/2018 05:28:12       (仍然無法註冊) Re: M2k - danno149131 - 註冊帳號顯示錯誤   \n",
       "2   ﻿04/18/2018 02:55:09          (希望今天能收到回覆) P-Marker 業務問題 - 潛在客戶：國民健康署   \n",
       "3   ﻿05/05/2016 08:45:46  (很急) Fw: (急) MailGates 軟體 - 嘉聯益科技 - 稽核條件沒有正常執行   \n",
       "4   ﻿12/15/2016 01:54:47        (很急) Fw: Mail2000 軟體 - 德律科技 - 管理者帳號疑似被入侵   \n",
       "\n",
       "             From               From Email  \\\n",
       "id                                           \n",
       "0      Ciou-Liang      kevin@patech.com.tw   \n",
       "1   Mail2000 客服中心  m2k_adm@mail2000.com.tw   \n",
       "2   Mail2000 客服中心  m2k_adm@mail2000.com.tw   \n",
       "3   Mail2000 客服中心  m2k_adm@mail2000.com.tw   \n",
       "4   Mail2000 客服中心  m2k_adm@mail2000.com.tw   \n",
       "\n",
       "                                      To  \\\n",
       "id                                         \n",
       "0               service@mailcloud.com.tw   \n",
       "1               cloud_se@openfind.com.tw   \n",
       "2           產品業務 <sales@openfind.com.tw>   \n",
       "3   網擎資訊技術服務信箱 <m2k_noc@openfind.com.tw>   \n",
       "4   網擎資訊技術服務信箱 <m2k_noc@openfind.com.tw>   \n",
       "\n",
       "                                           Cc  Bcc  \\\n",
       "id                                                   \n",
       "0                                         NaN  NaN   \n",
       "1   m2k_service <m2k_service@mail2000.com.tw>  NaN   \n",
       "2   m2k_service <m2k_service@mail2000.com.tw>  NaN   \n",
       "3   m2k_service <m2k_service@mail2000.com.tw>  NaN   \n",
       "4   m2k_service <m2k_service@mail2000.com.tw>  NaN   \n",
       "\n",
       "                                                 Body  \n",
       "id                                                     \n",
       "0   Dear 網擎：\\r\\n     附件所示   郵件使用者     alex.chen@cr...  \n",
       "1   您好，使用者反應重新註冊帳號，將訂單送出時，系統會顯示\"認證失敗，請重新確認您所輸入的帳號密...  \n",
       "2   您好，國民健康署張淇鈞 小姐02-2522 0889rubychang@hpa.gov.tw...  \n",
       "3   您好，客戶來電表示還沒收到回覆，今天上午也有寄信到m2k_noc，麻煩您幫忙盡快連繫，謝謝。...  \n",
       "4   您好，德律陳先生0933 818 259問題：客戶提到管理者帳號被登入，想確認系統設定是否有...  "
      ]
     },
     "execution_count": 2,
     "metadata": {},
     "output_type": "execute_result"
    }
   ],
   "source": [
    "\n",
    "df_ = pd.read_csv('bigdataFinal.csv')\n",
    "df_.index.names = ['id']\n",
    "df_.head()"
   ]
  },
  {
   "cell_type": "code",
   "execution_count": 3,
   "metadata": {
    "id": "Wajc0oA1vHeQ",
    "tags": []
   },
   "outputs": [],
   "source": [
    "# Convert list Simple Chinese stopword to Traditional stopword \n",
    "stop_words = list(stopwords([\"zh\"]))\n",
    "stopa = []\n",
    "for i in stop_words:\n",
    "    cc = OpenCC('s2t')\n",
    "    texta = cc.convert(i)\n",
    "    stopa.append(texta)"
   ]
  },
  {
   "cell_type": "code",
   "execution_count": 4,
   "metadata": {
    "tags": []
   },
   "outputs": [],
   "source": [
    "def preprocessingTextFull(text, sep = ' '):\n",
    "# regex\n",
    "    text = text.lower()\n",
    "    text = re.sub(r'&lt;', '', text) #remove '&lt;' tag\n",
    "    text = re.sub(r'<.*?>', '', text) #remove html\n",
    "    text = re.sub(r'[^\\w\\s]', '', text) #remove punctiation\n",
    "    text = re.sub('[^\\u4e00-\\u9fa5]+', '', text) # remove ASCII strings\n",
    "    # remove stopword\n",
    "    more_s = ['幫','忙', '請','謝', '謝', '您','好','姓','名', '_','喔','想','感','問','題','没','沒','為',\n",
    "             \"客\",\"服\",\"信\",\"箱\",\"電\",\"子\",\"目\",\"前\",\"公\",\"司\",\"服\",\"務\",\"郵\",\"件\",\"心\", \"擎\",\"先\",\n",
    "              \"生\",\"軟\",\"體\",\"謝\",\"教\",\"育\",\"教\",\"育\",\"雲\",\"科\",\"技\",\"國\",\"鼎\",\"新\",\"高\",\"雄\",\"市\",\n",
    "              \"民\",\"政\",\"局\",\"台\",\"南\",\"糖\",\"網\",\"擎\",\"急\",\"安\",\"泰\",\"兆\",\"豐\",\"可\",\"口\",\"可\",\"樂\",\"口\",\"樂\",\"濟\",\"部\",\"飯\",\"店\",\"潛\",\"客\",\"戶\",\n",
    "             \"邱\",\"良\",\"姐\",\"咖\",\"啡\", '附',\n",
    "              '歡','迎','次','寶',\"瘦\", \"仍\",\"然\",'彰','化', \"工\",\"業\",'企','業', '聯','絡','工','提','供','孟', '秋', '東', '際', '睿', '明']\n",
    "\n",
    "    stop = stopa  + more_s\n",
    "    text = \"\".join([word for word in text if word not in stop]) #remove stopwords\n",
    "    \n",
    "    for c in ['\\r', '\\n', '\\t'] :\n",
    "        text = re.sub(c, ' ', text) #replace newline and tab with tabs\\\n",
    "        text = re.sub('\\s+', ' ', text) #replace multiple spaces with one space\n",
    "        \n",
    "    text_cut = sep.join(jieba.cut(text, cut_all=False))\n",
    "    \n",
    "    return text_cut\n"
   ]
  },
  {
   "cell_type": "code",
   "execution_count": 5,
   "metadata": {},
   "outputs": [
    {
     "data": {
      "text/plain": [
       "﻿Date            0\n",
       "Subject          0\n",
       "From            13\n",
       "From Email      83\n",
       "To              86\n",
       "Cc             303\n",
       "Bcc           2558\n",
       "Body             1\n",
       "dtype: int64"
      ]
     },
     "execution_count": 5,
     "metadata": {},
     "output_type": "execute_result"
    }
   ],
   "source": [
    "df_.isnull().sum()"
   ]
  },
  {
   "cell_type": "code",
   "execution_count": 6,
   "metadata": {
    "tags": []
   },
   "outputs": [
    {
     "name": "stdout",
     "output_type": "stream",
     "text": [
      "<class 'pandas.core.frame.DataFrame'>\n",
      "RangeIndex: 2558 entries, 0 to 2557\n",
      "Data columns (total 8 columns):\n",
      " #   Column      Non-Null Count  Dtype  \n",
      "---  ------      --------------  -----  \n",
      " 0   ﻿Date       2558 non-null   object \n",
      " 1   Subject     2558 non-null   object \n",
      " 2   From        2545 non-null   object \n",
      " 3   From Email  2475 non-null   object \n",
      " 4   To          2472 non-null   object \n",
      " 5   Cc          2255 non-null   object \n",
      " 6   Bcc         0 non-null      float64\n",
      " 7   Body        2557 non-null   object \n",
      "dtypes: float64(1), object(7)\n",
      "memory usage: 160.0+ KB\n"
     ]
    }
   ],
   "source": [
    "df_.info()"
   ]
  },
  {
   "cell_type": "code",
   "execution_count": 7,
   "metadata": {},
   "outputs": [],
   "source": [
    "df1 = df_.drop(columns = ['From','From Email', 'To', 'Cc','Bcc'], axis = 0)"
   ]
  },
  {
   "cell_type": "code",
   "execution_count": 8,
   "metadata": {},
   "outputs": [],
   "source": [
    "df = df1.dropna()"
   ]
  },
  {
   "cell_type": "code",
   "execution_count": 9,
   "metadata": {},
   "outputs": [
    {
     "data": {
      "text/html": [
       "<div>\n",
       "<style scoped>\n",
       "    .dataframe tbody tr th:only-of-type {\n",
       "        vertical-align: middle;\n",
       "    }\n",
       "\n",
       "    .dataframe tbody tr th {\n",
       "        vertical-align: top;\n",
       "    }\n",
       "\n",
       "    .dataframe thead th {\n",
       "        text-align: right;\n",
       "    }\n",
       "</style>\n",
       "<table border=\"1\" class=\"dataframe\">\n",
       "  <thead>\n",
       "    <tr style=\"text-align: right;\">\n",
       "      <th></th>\n",
       "      <th>﻿Date</th>\n",
       "      <th>Subject</th>\n",
       "      <th>Body</th>\n",
       "    </tr>\n",
       "    <tr>\n",
       "      <th>id</th>\n",
       "      <th></th>\n",
       "      <th></th>\n",
       "      <th></th>\n",
       "    </tr>\n",
       "  </thead>\n",
       "  <tbody>\n",
       "    <tr>\n",
       "      <th>0</th>\n",
       "      <td>09/05/2017 05:51:48</td>\n",
       "      <td>(中日)使用者發出的信件取回問題-接續問題</td>\n",
       "      <td>Dear 網擎：\\r\\n     附件所示   郵件使用者     alex.chen@cr...</td>\n",
       "    </tr>\n",
       "    <tr>\n",
       "      <th>1</th>\n",
       "      <td>﻿02/27/2018 05:28:12</td>\n",
       "      <td>(仍然無法註冊) Re: M2k - danno149131 - 註冊帳號顯示錯誤</td>\n",
       "      <td>您好，使用者反應重新註冊帳號，將訂單送出時，系統會顯示\"認證失敗，請重新確認您所輸入的帳號密...</td>\n",
       "    </tr>\n",
       "    <tr>\n",
       "      <th>2</th>\n",
       "      <td>﻿04/18/2018 02:55:09</td>\n",
       "      <td>(希望今天能收到回覆) P-Marker 業務問題 - 潛在客戶：國民健康署</td>\n",
       "      <td>您好，國民健康署張淇鈞 小姐02-2522 0889rubychang@hpa.gov.tw...</td>\n",
       "    </tr>\n",
       "    <tr>\n",
       "      <th>3</th>\n",
       "      <td>﻿05/05/2016 08:45:46</td>\n",
       "      <td>(很急) Fw: (急) MailGates 軟體 - 嘉聯益科技 - 稽核條件沒有正常執行</td>\n",
       "      <td>您好，客戶來電表示還沒收到回覆，今天上午也有寄信到m2k_noc，麻煩您幫忙盡快連繫，謝謝。...</td>\n",
       "    </tr>\n",
       "    <tr>\n",
       "      <th>4</th>\n",
       "      <td>﻿12/15/2016 01:54:47</td>\n",
       "      <td>(很急) Fw: Mail2000 軟體 - 德律科技 - 管理者帳號疑似被入侵</td>\n",
       "      <td>您好，德律陳先生0933 818 259問題：客戶提到管理者帳號被登入，想確認系統設定是否有...</td>\n",
       "    </tr>\n",
       "    <tr>\n",
       "      <th>...</th>\n",
       "      <td>...</td>\n",
       "      <td>...</td>\n",
       "      <td>...</td>\n",
       "    </tr>\n",
       "    <tr>\n",
       "      <th>2553</th>\n",
       "      <td>﻿12/11/2013 05:57:56</td>\n",
       "      <td>關於中日合成帳號問題</td>\n",
       "      <td>您好！\\r\\n我想使用中日合成的帳號進行個資盤點，雖然已經透過sinockl@mail.sj...</td>\n",
       "    </tr>\n",
       "    <tr>\n",
       "      <th>2554</th>\n",
       "      <td>﻿07/15/2013 07:54:45</td>\n",
       "      <td>關於陸委會 P-Marker 的授權設定</td>\n",
       "      <td>Dear SE,雖陸委會買的 P-Marker 私有雲正式授權為 300 台電腦不限次數，不...</td>\n",
       "    </tr>\n",
       "    <tr>\n",
       "      <th>2555</th>\n",
       "      <td>﻿06/03/2016 06:59:43</td>\n",
       "      <td>需要遠端連線 - M2k - kim2177185 - 使用Outlook無法收發信件(用M...</td>\n",
       "      <td>Dear MIS，帳號：kim2177185@mail2000.com.tw連絡人：蘇先生電...</td>\n",
       "    </tr>\n",
       "    <tr>\n",
       "      <th>2556</th>\n",
       "      <td>﻿11/24/2015 10:02:39</td>\n",
       "      <td>麻煩刪除此信箱(學生註冊錯誤)，讓該生可申請另一組，謝謝！</td>\n",
       "      <td>Dear 教育雲郵件網管人員：\\r\\n\\r\\n您好，我是高雄市永清國小的電腦教師(兼任網管)...</td>\n",
       "    </tr>\n",
       "    <tr>\n",
       "      <th>2557</th>\n",
       "      <td>﻿03/26/2013 11:18:06</td>\n",
       "      <td>鼎新電腦 P-Marker 已升為正式版並加 5 次</td>\n",
       "      <td>Dear Bryson,鼎新電腦 P-Marker 已升為正式版並加 5 次目前資料如下公司...</td>\n",
       "    </tr>\n",
       "  </tbody>\n",
       "</table>\n",
       "<p>2557 rows × 3 columns</p>\n",
       "</div>"
      ],
      "text/plain": [
       "                     ﻿Date                                            Subject  \\\n",
       "id                                                                              \n",
       "0      09/05/2017 05:51:48                              (中日)使用者發出的信件取回問題-接續問題   \n",
       "1     ﻿02/27/2018 05:28:12          (仍然無法註冊) Re: M2k - danno149131 - 註冊帳號顯示錯誤   \n",
       "2     ﻿04/18/2018 02:55:09             (希望今天能收到回覆) P-Marker 業務問題 - 潛在客戶：國民健康署   \n",
       "3     ﻿05/05/2016 08:45:46     (很急) Fw: (急) MailGates 軟體 - 嘉聯益科技 - 稽核條件沒有正常執行   \n",
       "4     ﻿12/15/2016 01:54:47           (很急) Fw: Mail2000 軟體 - 德律科技 - 管理者帳號疑似被入侵   \n",
       "...                    ...                                                ...   \n",
       "2553  ﻿12/11/2013 05:57:56                                         關於中日合成帳號問題   \n",
       "2554  ﻿07/15/2013 07:54:45                               關於陸委會 P-Marker 的授權設定   \n",
       "2555  ﻿06/03/2016 06:59:43  需要遠端連線 - M2k - kim2177185 - 使用Outlook無法收發信件(用M...   \n",
       "2556  ﻿11/24/2015 10:02:39                      麻煩刪除此信箱(學生註冊錯誤)，讓該生可申請另一組，謝謝！   \n",
       "2557  ﻿03/26/2013 11:18:06                         鼎新電腦 P-Marker 已升為正式版並加 5 次   \n",
       "\n",
       "                                                   Body  \n",
       "id                                                       \n",
       "0     Dear 網擎：\\r\\n     附件所示   郵件使用者     alex.chen@cr...  \n",
       "1     您好，使用者反應重新註冊帳號，將訂單送出時，系統會顯示\"認證失敗，請重新確認您所輸入的帳號密...  \n",
       "2     您好，國民健康署張淇鈞 小姐02-2522 0889rubychang@hpa.gov.tw...  \n",
       "3     您好，客戶來電表示還沒收到回覆，今天上午也有寄信到m2k_noc，麻煩您幫忙盡快連繫，謝謝。...  \n",
       "4     您好，德律陳先生0933 818 259問題：客戶提到管理者帳號被登入，想確認系統設定是否有...  \n",
       "...                                                 ...  \n",
       "2553  您好！\\r\\n我想使用中日合成的帳號進行個資盤點，雖然已經透過sinockl@mail.sj...  \n",
       "2554  Dear SE,雖陸委會買的 P-Marker 私有雲正式授權為 300 台電腦不限次數，不...  \n",
       "2555  Dear MIS，帳號：kim2177185@mail2000.com.tw連絡人：蘇先生電...  \n",
       "2556  Dear 教育雲郵件網管人員：\\r\\n\\r\\n您好，我是高雄市永清國小的電腦教師(兼任網管)...  \n",
       "2557  Dear Bryson,鼎新電腦 P-Marker 已升為正式版並加 5 次目前資料如下公司...  \n",
       "\n",
       "[2557 rows x 3 columns]"
      ]
     },
     "execution_count": 9,
     "metadata": {},
     "output_type": "execute_result"
    }
   ],
   "source": [
    "df"
   ]
  },
  {
   "cell_type": "code",
   "execution_count": 10,
   "metadata": {
    "id": "kk58DiBcvHeR",
    "outputId": "444546ed-be13-4bcd-ed8a-0616bc71695c",
    "scrolled": true,
    "tags": []
   },
   "outputs": [
    {
     "name": "stderr",
     "output_type": "stream",
     "text": [
      "C:\\Users\\USER\\AppData\\Local\\Temp\\ipykernel_4320\\3126485061.py:1: SettingWithCopyWarning: \n",
      "A value is trying to be set on a copy of a slice from a DataFrame.\n",
      "Try using .loc[row_indexer,col_indexer] = value instead\n",
      "\n",
      "See the caveats in the documentation: https://pandas.pydata.org/pandas-docs/stable/user_guide/indexing.html#returning-a-view-versus-a-copy\n",
      "  df['merged'] = df['Body']+df['Subject']\n",
      "Building prefix dict from the default dictionary ...\n",
      "Loading model from cache C:\\Users\\USER\\AppData\\Local\\Temp\\jieba.cache\n",
      "Loading model cost 0.279 seconds.\n",
      "Prefix dict has been built successfully.\n",
      "C:\\Users\\USER\\AppData\\Local\\Temp\\ipykernel_4320\\3126485061.py:2: SettingWithCopyWarning: \n",
      "A value is trying to be set on a copy of a slice from a DataFrame.\n",
      "Try using .loc[row_indexer,col_indexer] = value instead\n",
      "\n",
      "See the caveats in the documentation: https://pandas.pydata.org/pandas-docs/stable/user_guide/indexing.html#returning-a-view-versus-a-copy\n",
      "  df['merged'] = df['merged'].apply(preprocessingTextFull) # mergerd and preprocessing\n"
     ]
    }
   ],
   "source": [
    "df['merged'] = df['Body']+df['Subject']\n",
    "df['merged'] = df['merged'].apply(preprocessingTextFull) # mergerd and preprocessing"
   ]
  },
  {
   "cell_type": "code",
   "execution_count": 11,
   "metadata": {},
   "outputs": [
    {
     "data": {
      "text/plain": [
       "(2557, 4)"
      ]
     },
     "execution_count": 11,
     "metadata": {},
     "output_type": "execute_result"
    }
   ],
   "source": [
    "df.shape"
   ]
  },
  {
   "cell_type": "code",
   "execution_count": 12,
   "metadata": {},
   "outputs": [],
   "source": [
    "df = df[:]\n",
    "data = df.merged.tolist() # preproprocessed\n",
    "data_list = list(data)\n",
    "data_words = [i.split() for i in data_list]"
   ]
  },
  {
   "cell_type": "code",
   "execution_count": 13,
   "metadata": {},
   "outputs": [
    {
     "data": {
      "text/plain": [
       "(2557, 4)"
      ]
     },
     "execution_count": 13,
     "metadata": {},
     "output_type": "execute_result"
    }
   ],
   "source": [
    "df.shape"
   ]
  },
  {
   "cell_type": "code",
   "execution_count": 44,
   "metadata": {},
   "outputs": [],
   "source": [
    "# clean with jieba\n",
    "\n",
    "import jieba.analyse as analyse\n",
    "import jieba.posseg as posseg\n",
    "\n",
    "def postag(text):\n",
    "    pos = ['n', 'a', 'v', 'd'] #'nv', 'vd', 'vn', 'vx', 'vi'\n",
    "    text_out = []\n",
    "    for word, flag in posseg.cut(text):\n",
    "        if flag in pos:\n",
    "            text_out.append(word)\n",
    "    return text_out"
   ]
  },
  {
   "cell_type": "code",
   "execution_count": 45,
   "metadata": {},
   "outputs": [],
   "source": [
    "pos_text = df['merged'].apply(postag)"
   ]
  },
  {
   "cell_type": "code",
   "execution_count": 46,
   "metadata": {},
   "outputs": [
    {
     "name": "stderr",
     "output_type": "stream",
     "text": [
      "C:\\Users\\USER\\AppData\\Local\\Temp\\ipykernel_4320\\980200837.py:1: SettingWithCopyWarning: \n",
      "A value is trying to be set on a copy of a slice from a DataFrame.\n",
      "Try using .loc[row_indexer,col_indexer] = value instead\n",
      "\n",
      "See the caveats in the documentation: https://pandas.pydata.org/pandas-docs/stable/user_guide/indexing.html#returning-a-view-versus-a-copy\n",
      "  df['clean_text'] = pos_text\n"
     ]
    }
   ],
   "source": [
    "df['clean_text'] = pos_text"
   ]
  },
  {
   "cell_type": "code",
   "execution_count": 47,
   "metadata": {
    "tags": []
   },
   "outputs": [
    {
     "name": "stderr",
     "output_type": "stream",
     "text": [
      "C:\\Users\\USER\\AppData\\Local\\Temp\\ipykernel_4320\\3033215232.py:1: SettingWithCopyWarning: \n",
      "A value is trying to be set on a copy of a slice from a DataFrame.\n",
      "Try using .loc[row_indexer,col_indexer] = value instead\n",
      "\n",
      "See the caveats in the documentation: https://pandas.pydata.org/pandas-docs/stable/user_guide/indexing.html#returning-a-view-versus-a-copy\n",
      "  df['clean_text'] = df['clean_text'].apply(lambda x: ' '.join(map(str, x)))\n",
      "C:\\Users\\USER\\AppData\\Local\\Temp\\ipykernel_4320\\3033215232.py:2: SettingWithCopyWarning: \n",
      "A value is trying to be set on a copy of a slice from a DataFrame.\n",
      "Try using .loc[row_indexer,col_indexer] = value instead\n",
      "\n",
      "See the caveats in the documentation: https://pandas.pydata.org/pandas-docs/stable/user_guide/indexing.html#returning-a-view-versus-a-copy\n",
      "  df['clean_text'] = df['clean_text'].apply(preprocessingTextFull)\n"
     ]
    },
    {
     "data": {
      "text/html": [
       "<div>\n",
       "<style scoped>\n",
       "    .dataframe tbody tr th:only-of-type {\n",
       "        vertical-align: middle;\n",
       "    }\n",
       "\n",
       "    .dataframe tbody tr th {\n",
       "        vertical-align: top;\n",
       "    }\n",
       "\n",
       "    .dataframe thead th {\n",
       "        text-align: right;\n",
       "    }\n",
       "</style>\n",
       "<table border=\"1\" class=\"dataframe\">\n",
       "  <thead>\n",
       "    <tr style=\"text-align: right;\">\n",
       "      <th></th>\n",
       "      <th>﻿Date</th>\n",
       "      <th>Subject</th>\n",
       "      <th>Body</th>\n",
       "      <th>merged</th>\n",
       "      <th>clean_text</th>\n",
       "      <th>label</th>\n",
       "    </tr>\n",
       "    <tr>\n",
       "      <th>id</th>\n",
       "      <th></th>\n",
       "      <th></th>\n",
       "      <th></th>\n",
       "      <th></th>\n",
       "      <th></th>\n",
       "      <th></th>\n",
       "    </tr>\n",
       "  </thead>\n",
       "  <tbody>\n",
       "    <tr>\n",
       "      <th>0</th>\n",
       "      <td>09/05/2017 05:51:48</td>\n",
       "      <td>(中日)使用者發出的信件取回問題-接續問題</td>\n",
       "      <td>Dear 網擎：\\r\\n     附件所示   郵件使用者     alex.chen@cr...</td>\n",
       "      <td>示間 寄出 寄備 份 找 取回 特種 紙廠 股份 限發出 取回 接續</td>\n",
       "      <td>示間 寄出 寄備 找 取回 特種 紙廠 股份 限發出 取回 接續</td>\n",
       "      <td>[接著, 享示, 存送, 具情, 享空, 享肥, 敬真端, 股份, 支援, 回覆]</td>\n",
       "    </tr>\n",
       "    <tr>\n",
       "      <th>1</th>\n",
       "      <td>﻿02/27/2018 05:28:12</td>\n",
       "      <td>(仍然無法註冊) Re: M2k - danno149131 - 註冊帳號顯示錯誤</td>\n",
       "      <td>您好，使用者反應重新註冊帳號，將訂單送出時，系統會顯示\"認證失敗，請重新確認您所輸入的帳號密...</td>\n",
       "      <td>反應 重 註 冊 帳 號 訂 單 送 出 系 統 顯 示 認 證 失 敗 重 確 認 輸 入...</td>\n",
       "      <td>重送 出系示 重入 密密 重透重 取消 訂單 確定 遇相 情形 詢敬享 減肥 檔享 圖示 存...</td>\n",
       "      <td>[登入, 帳號, 校園, 園端, 資訊, 反應, 回覆, 密碼, 系統, 錯誤]</td>\n",
       "    </tr>\n",
       "    <tr>\n",
       "      <th>2</th>\n",
       "      <td>﻿04/18/2018 02:55:09</td>\n",
       "      <td>(希望今天能收到回覆) P-Marker 業務問題 - 潛在客戶：國民健康署</td>\n",
       "      <td>您好，國民健康署張淇鈞 小姐02-2522 0889rubychang@hpa.gov.tw...</td>\n",
       "      <td>健康 署 張淇鈞 需資盤 詢功 價格 張希天 收回 覆麻 煩 繫 愛 洽 詢 敬 享 減 肥...</td>\n",
       "      <td>健康 需資盤 詢功 價格 收回 覆麻敬 享肥 享示 存送 享空 接著 具情 真端 站 希 收...</td>\n",
       "      <td>[接著, 享示, 存送, 具情, 享空, 享肥, 敬真端, 股份, 支援, 回覆]</td>\n",
       "    </tr>\n",
       "    <tr>\n",
       "      <th>3</th>\n",
       "      <td>﻿05/05/2016 08:45:46</td>\n",
       "      <td>(很急) Fw: (急) MailGates 軟體 - 嘉聯益科技 - 稽核條件沒有正常執行</td>\n",
       "      <td>您好，客戶來電表示還沒收到回覆，今天上午也有寄信到m2k_noc，麻煩您幫忙盡快連繫，謝謝。...</td>\n",
       "      <td>表示 收回 覆天午 寄麻煩 快 繫 愛 洽 詢 享 減 肥 檔 旁 享 圖 示 檔 存 贈 ...</td>\n",
       "      <td>表示 收回 寄快 享肥 享示 存送 享空 接著 具情 敬真端 站 稽核 正常 執行 稽核 正...</td>\n",
       "      <td>[接著, 享示, 存送, 具情, 享空, 享肥, 敬真端, 股份, 支援, 回覆]</td>\n",
       "    </tr>\n",
       "    <tr>\n",
       "      <th>4</th>\n",
       "      <td>﻿12/15/2016 01:54:47</td>\n",
       "      <td>(很急) Fw: Mail2000 軟體 - 德律科技 - 管理者帳號疑似被入侵</td>\n",
       "      <td>您好，德律陳先生0933 818 259問題：客戶提到管理者帳號被登入，想確認系統設定是否有...</td>\n",
       "      <td>德律陳理 帳號 登入確 認系統 設定 否動 麻煩 快 繫 愛 洽 詢 享 減 肥 檔 旁 享...</td>\n",
       "      <td>理帳 號登入 確認 系統 設定 否動 快 享肥 享示 存送 享空 接著 具情 敬真端 站理 ...</td>\n",
       "      <td>[登入, 帳號, 校園, 園端, 資訊, 反應, 回覆, 密碼, 系統, 錯誤]</td>\n",
       "    </tr>\n",
       "    <tr>\n",
       "      <th>...</th>\n",
       "      <td>...</td>\n",
       "      <td>...</td>\n",
       "      <td>...</td>\n",
       "      <td>...</td>\n",
       "      <td>...</td>\n",
       "      <td>...</td>\n",
       "    </tr>\n",
       "    <tr>\n",
       "      <th>2553</th>\n",
       "      <td>﻿12/11/2013 05:57:56</td>\n",
       "      <td>關於中日合成帳號問題</td>\n",
       "      <td>您好！\\r\\n我想使用中日合成的帳號進行個資盤點，雖然已經透過sinockl@mail.sj...</td>\n",
       "      <td>合成 帳號 進行 資盤 透 重換 密碼 忘 記帳 號法 告訴 初 登入 帳號 坤 龍 合成 ...</td>\n",
       "      <td>合成 帳號 進行 資盤 透 重換 密碼 忘 記帳 號法 告訴 登入 帳號 合成 股份 限計 ...</td>\n",
       "      <td>[資盤, 檔案, 完成, 備份, 資料, 系統, 掃描, 推出, 資訊, 協助]</td>\n",
       "    </tr>\n",
       "    <tr>\n",
       "      <th>2554</th>\n",
       "      <td>﻿07/15/2013 07:54:45</td>\n",
       "      <td>關於陸委會 P-Marker 的授權設定</td>\n",
       "      <td>Dear SE,雖陸委會買的 P-Marker 私有雲正式授權為 300 台電腦不限次數，不...</td>\n",
       "      <td>陸委買 私 正式 授權 腦限數 告知 直接 授權 天午 陸委 負責版 修改 數期 資訊備 忘...</td>\n",
       "      <td>買 授權 腦限數 告知 授權 負責版 修改 數期 資訊備 忘關 陸委授 權設定</td>\n",
       "      <td>[資盤, 檔案, 完成, 備份, 資料, 系統, 掃描, 推出, 資訊, 協助]</td>\n",
       "    </tr>\n",
       "    <tr>\n",
       "      <th>2555</th>\n",
       "      <td>﻿06/03/2016 06:59:43</td>\n",
       "      <td>需要遠端連線 - M2k - kim2177185 - 使用Outlook無法收發信件(用M...</td>\n",
       "      <td>Dear MIS，帳號：kim2177185@mail2000.com.tw連絡人：蘇先生電...</td>\n",
       "      <td>帳號 蘇話腦 確定 版帳 類型 反應 法收 發錯 誤訊息 裝遠 端線 需遠端 線確 認麻煩 ...</td>\n",
       "      <td>帳號 話腦 確定 版類 型 收發錯 誤訊息 端線 需遠 端線 確認 詢享 減肥 檔享 圖示 ...</td>\n",
       "      <td>[登入, 帳號, 校園, 園端, 資訊, 反應, 回覆, 密碼, 系統, 錯誤]</td>\n",
       "    </tr>\n",
       "    <tr>\n",
       "      <th>2556</th>\n",
       "      <td>﻿11/24/2015 10:02:39</td>\n",
       "      <td>麻煩刪除此信箱(學生註冊錯誤)，讓該生可申請另一組，謝謝！</td>\n",
       "      <td>Dear 教育雲郵件網管人員：\\r\\n\\r\\n您好，我是高雄市永清國小的電腦教師(兼任網管)...</td>\n",
       "      <td>員 永清 腦師 兼 擁學腦 師理 敝 校學帳 職責 封容腦 師代填 寫腦 課程 進行 學學啟...</td>\n",
       "      <td>腦師 兼 擁學腦 師理 校學 職責 師代填 寫腦 課程 進行 學學 啟鄰 座學 填入 框格 ...</td>\n",
       "      <td>[測試, 顯示, 設定, 檔案, 結果, 進行, 私測, 確認, 回覆, 筆數]</td>\n",
       "    </tr>\n",
       "    <tr>\n",
       "      <th>2557</th>\n",
       "      <td>﻿03/26/2013 11:18:06</td>\n",
       "      <td>鼎新電腦 P-Marker 已升為正式版並加 5 次</td>\n",
       "      <td>Dear Bryson,鼎新電腦 P-Marker 已升為正式版並加 5 次目前資料如下公司...</td>\n",
       "      <td>腦升 正式版 加資料 腦統 編號 話 范肇鈞理 帳號 理理 建立 期期 剩餘數 掃描 完成 ...</td>\n",
       "      <td>腦升 正式版 加資料 腦統 編號理 帳號 理理 建立 掃描 完成 數腦升 正式版 加</td>\n",
       "      <td>[資盤, 檔案, 完成, 備份, 資料, 系統, 掃描, 推出, 資訊, 協助]</td>\n",
       "    </tr>\n",
       "  </tbody>\n",
       "</table>\n",
       "<p>2557 rows × 6 columns</p>\n",
       "</div>"
      ],
      "text/plain": [
       "                     ﻿Date                                            Subject  \\\n",
       "id                                                                              \n",
       "0      09/05/2017 05:51:48                              (中日)使用者發出的信件取回問題-接續問題   \n",
       "1     ﻿02/27/2018 05:28:12          (仍然無法註冊) Re: M2k - danno149131 - 註冊帳號顯示錯誤   \n",
       "2     ﻿04/18/2018 02:55:09             (希望今天能收到回覆) P-Marker 業務問題 - 潛在客戶：國民健康署   \n",
       "3     ﻿05/05/2016 08:45:46     (很急) Fw: (急) MailGates 軟體 - 嘉聯益科技 - 稽核條件沒有正常執行   \n",
       "4     ﻿12/15/2016 01:54:47           (很急) Fw: Mail2000 軟體 - 德律科技 - 管理者帳號疑似被入侵   \n",
       "...                    ...                                                ...   \n",
       "2553  ﻿12/11/2013 05:57:56                                         關於中日合成帳號問題   \n",
       "2554  ﻿07/15/2013 07:54:45                               關於陸委會 P-Marker 的授權設定   \n",
       "2555  ﻿06/03/2016 06:59:43  需要遠端連線 - M2k - kim2177185 - 使用Outlook無法收發信件(用M...   \n",
       "2556  ﻿11/24/2015 10:02:39                      麻煩刪除此信箱(學生註冊錯誤)，讓該生可申請另一組，謝謝！   \n",
       "2557  ﻿03/26/2013 11:18:06                         鼎新電腦 P-Marker 已升為正式版並加 5 次   \n",
       "\n",
       "                                                   Body  \\\n",
       "id                                                        \n",
       "0     Dear 網擎：\\r\\n     附件所示   郵件使用者     alex.chen@cr...   \n",
       "1     您好，使用者反應重新註冊帳號，將訂單送出時，系統會顯示\"認證失敗，請重新確認您所輸入的帳號密...   \n",
       "2     您好，國民健康署張淇鈞 小姐02-2522 0889rubychang@hpa.gov.tw...   \n",
       "3     您好，客戶來電表示還沒收到回覆，今天上午也有寄信到m2k_noc，麻煩您幫忙盡快連繫，謝謝。...   \n",
       "4     您好，德律陳先生0933 818 259問題：客戶提到管理者帳號被登入，想確認系統設定是否有...   \n",
       "...                                                 ...   \n",
       "2553  您好！\\r\\n我想使用中日合成的帳號進行個資盤點，雖然已經透過sinockl@mail.sj...   \n",
       "2554  Dear SE,雖陸委會買的 P-Marker 私有雲正式授權為 300 台電腦不限次數，不...   \n",
       "2555  Dear MIS，帳號：kim2177185@mail2000.com.tw連絡人：蘇先生電...   \n",
       "2556  Dear 教育雲郵件網管人員：\\r\\n\\r\\n您好，我是高雄市永清國小的電腦教師(兼任網管)...   \n",
       "2557  Dear Bryson,鼎新電腦 P-Marker 已升為正式版並加 5 次目前資料如下公司...   \n",
       "\n",
       "                                                 merged  \\\n",
       "id                                                        \n",
       "0                    示間 寄出 寄備 份 找 取回 特種 紙廠 股份 限發出 取回 接續   \n",
       "1     反應 重 註 冊 帳 號 訂 單 送 出 系 統 顯 示 認 證 失 敗 重 確 認 輸 入...   \n",
       "2     健康 署 張淇鈞 需資盤 詢功 價格 張希天 收回 覆麻 煩 繫 愛 洽 詢 敬 享 減 肥...   \n",
       "3     表示 收回 覆天午 寄麻煩 快 繫 愛 洽 詢 享 減 肥 檔 旁 享 圖 示 檔 存 贈 ...   \n",
       "4     德律陳理 帳號 登入確 認系統 設定 否動 麻煩 快 繫 愛 洽 詢 享 減 肥 檔 旁 享...   \n",
       "...                                                 ...   \n",
       "2553  合成 帳號 進行 資盤 透 重換 密碼 忘 記帳 號法 告訴 初 登入 帳號 坤 龍 合成 ...   \n",
       "2554  陸委買 私 正式 授權 腦限數 告知 直接 授權 天午 陸委 負責版 修改 數期 資訊備 忘...   \n",
       "2555  帳號 蘇話腦 確定 版帳 類型 反應 法收 發錯 誤訊息 裝遠 端線 需遠端 線確 認麻煩 ...   \n",
       "2556  員 永清 腦師 兼 擁學腦 師理 敝 校學帳 職責 封容腦 師代填 寫腦 課程 進行 學學啟...   \n",
       "2557  腦升 正式版 加資料 腦統 編號 話 范肇鈞理 帳號 理理 建立 期期 剩餘數 掃描 完成 ...   \n",
       "\n",
       "                                             clean_text  \\\n",
       "id                                                        \n",
       "0                      示間 寄出 寄備 找 取回 特種 紙廠 股份 限發出 取回 接續   \n",
       "1     重送 出系示 重入 密密 重透重 取消 訂單 確定 遇相 情形 詢敬享 減肥 檔享 圖示 存...   \n",
       "2     健康 需資盤 詢功 價格 收回 覆麻敬 享肥 享示 存送 享空 接著 具情 真端 站 希 收...   \n",
       "3     表示 收回 寄快 享肥 享示 存送 享空 接著 具情 敬真端 站 稽核 正常 執行 稽核 正...   \n",
       "4     理帳 號登入 確認 系統 設定 否動 快 享肥 享示 存送 享空 接著 具情 敬真端 站理 ...   \n",
       "...                                                 ...   \n",
       "2553  合成 帳號 進行 資盤 透 重換 密碼 忘 記帳 號法 告訴 登入 帳號 合成 股份 限計 ...   \n",
       "2554            買 授權 腦限數 告知 授權 負責版 修改 數期 資訊備 忘關 陸委授 權設定   \n",
       "2555  帳號 話腦 確定 版類 型 收發錯 誤訊息 端線 需遠 端線 確認 詢享 減肥 檔享 圖示 ...   \n",
       "2556  腦師 兼 擁學腦 師理 校學 職責 師代填 寫腦 課程 進行 學學 啟鄰 座學 填入 框格 ...   \n",
       "2557         腦升 正式版 加資料 腦統 編號理 帳號 理理 建立 掃描 完成 數腦升 正式版 加   \n",
       "\n",
       "                                          label  \n",
       "id                                               \n",
       "0     [接著, 享示, 存送, 具情, 享空, 享肥, 敬真端, 股份, 支援, 回覆]  \n",
       "1      [登入, 帳號, 校園, 園端, 資訊, 反應, 回覆, 密碼, 系統, 錯誤]  \n",
       "2     [接著, 享示, 存送, 具情, 享空, 享肥, 敬真端, 股份, 支援, 回覆]  \n",
       "3     [接著, 享示, 存送, 具情, 享空, 享肥, 敬真端, 股份, 支援, 回覆]  \n",
       "4      [登入, 帳號, 校園, 園端, 資訊, 反應, 回覆, 密碼, 系統, 錯誤]  \n",
       "...                                         ...  \n",
       "2553   [資盤, 檔案, 完成, 備份, 資料, 系統, 掃描, 推出, 資訊, 協助]  \n",
       "2554   [資盤, 檔案, 完成, 備份, 資料, 系統, 掃描, 推出, 資訊, 協助]  \n",
       "2555   [登入, 帳號, 校園, 園端, 資訊, 反應, 回覆, 密碼, 系統, 錯誤]  \n",
       "2556   [測試, 顯示, 設定, 檔案, 結果, 進行, 私測, 確認, 回覆, 筆數]  \n",
       "2557   [資盤, 檔案, 完成, 備份, 資料, 系統, 掃描, 推出, 資訊, 協助]  \n",
       "\n",
       "[2557 rows x 6 columns]"
      ]
     },
     "execution_count": 47,
     "metadata": {},
     "output_type": "execute_result"
    }
   ],
   "source": [
    "df['clean_text'] = df['clean_text'].apply(lambda x: ' '.join(map(str, x)))\n",
    "df['clean_text'] = df['clean_text'].apply(preprocessingTextFull)\n",
    "df"
   ]
  },
  {
   "cell_type": "code",
   "execution_count": 48,
   "metadata": {},
   "outputs": [
    {
     "name": "stdout",
     "output_type": "stream",
     "text": [
      "<class 'pandas.core.frame.DataFrame'>\n",
      "Int64Index: 2557 entries, 0 to 2557\n",
      "Data columns (total 6 columns):\n",
      " #   Column      Non-Null Count  Dtype \n",
      "---  ------      --------------  ----- \n",
      " 0   ﻿Date       2557 non-null   object\n",
      " 1   Subject     2557 non-null   object\n",
      " 2   Body        2557 non-null   object\n",
      " 3   merged      2557 non-null   object\n",
      " 4   clean_text  2557 non-null   object\n",
      " 5   label       2557 non-null   object\n",
      "dtypes: object(6)\n",
      "memory usage: 139.8+ KB\n"
     ]
    }
   ],
   "source": [
    "df.info()"
   ]
  },
  {
   "cell_type": "code",
   "execution_count": 49,
   "metadata": {},
   "outputs": [],
   "source": [
    "clean_text=df['clean_text'].tolist() # propcessed with pos\n",
    "\n",
    "from sklearn.feature_extraction.text import TfidfVectorizer\n",
    "vectorizer = TfidfVectorizer()"
   ]
  },
  {
   "cell_type": "markdown",
   "metadata": {},
   "source": [
    "# 2. Using Sklearn library to vectorize the input then feed to LDA "
   ]
  },
  {
   "cell_type": "markdown",
   "metadata": {
    "tags": []
   },
   "source": [
    "## 2.1 Topics with no applied jieba"
   ]
  },
  {
   "cell_type": "code",
   "execution_count": 78,
   "metadata": {},
   "outputs": [],
   "source": [
    "vectorizer = CountVectorizer(max_df=0.95, min_df=2, max_features=50000)\n",
    "\n",
    "data_vectorized = vectorizer.fit_transform(data) # fit input data\n",
    "lda_model_ = LatentDirichletAllocation(n_components=3,\n",
    "                                      max_iter=10, \n",
    "                                      learning_method='online',\n",
    "                                      learning_offset=70.,\n",
    "                                      learning_decay = .7,\n",
    "                                      random_state=0).fit(data_vectorized)"
   ]
  },
  {
   "cell_type": "code",
   "execution_count": 79,
   "metadata": {},
   "outputs": [
    {
     "data": {
      "text/plain": [
       "[array(['備份', '失敗', '資料', '檔案', '記錄', '團隊', '程式', '配合', '免費', '天動備'],\n",
       "       dtype='<U7'),\n",
       " array(['帳號', '登入', '校園', '資訊', '回覆', '系統', '專線', '資盤', '園端', '支援'],\n",
       "       dtype='<U7'),\n",
       " array(['檔案', '測試', '設定', '資盤', '回覆', '結果', '需求', '股份', '掃描', '確認'],\n",
       "       dtype='<U7')]"
      ]
     },
     "execution_count": 79,
     "metadata": {},
     "output_type": "execute_result"
    }
   ],
   "source": [
    "# Show top n keywords for each topic\n",
    "def show_topics(vectorizer=vectorizer, lda_model=lda_model_, n_words=10):\n",
    "    keywords = np.array(vectorizer.get_feature_names())\n",
    "    topic_keywords = []\n",
    "    for topic_weights in lda_model_.components_:\n",
    "        top_keyword_locs = (-topic_weights).argsort()[:n_words]\n",
    "        topic_keywords.append(keywords.take(top_keyword_locs))\n",
    "    return topic_keywords\n",
    "\n",
    "topic_keywords = show_topics(vectorizer=vectorizer, lda_model=lda_model_, n_words=10)        \n",
    "topic_keywords"
   ]
  },
  {
   "cell_type": "code",
   "execution_count": 80,
   "metadata": {
    "tags": []
   },
   "outputs": [
    {
     "name": "stdout",
     "output_type": "stream",
     "text": [
      "Log Likelihood:  -1292007.79732303\n",
      "Perplexity:  1590.3298395758306\n",
      "{'batch_size': 128,\n",
      " 'doc_topic_prior': None,\n",
      " 'evaluate_every': -1,\n",
      " 'learning_decay': 0.7,\n",
      " 'learning_method': 'online',\n",
      " 'learning_offset': 70.0,\n",
      " 'max_doc_update_iter': 100,\n",
      " 'max_iter': 10,\n",
      " 'mean_change_tol': 0.001,\n",
      " 'n_components': 3,\n",
      " 'n_jobs': None,\n",
      " 'perp_tol': 0.1,\n",
      " 'random_state': 0,\n",
      " 'topic_word_prior': None,\n",
      " 'total_samples': 1000000.0,\n",
      " 'verbose': 0}\n"
     ]
    }
   ],
   "source": [
    "# Log Likelyhood: Higher the better\n",
    "print(\"Log Likelihood: \", lda_model_.score(data_vectorized))\n",
    "\n",
    "# Perplexity: Lower the better. Perplexity = exp(-1. * log-likelihood per word)\n",
    "print(\"Perplexity: \", lda_model_.perplexity(data_vectorized))\n",
    "\n",
    "# See model parameters\n",
    "pprint(lda_model_.get_params())"
   ]
  },
  {
   "cell_type": "markdown",
   "metadata": {},
   "source": [
    "## 2.2 Topics with applied jieba"
   ]
  },
  {
   "cell_type": "code",
   "execution_count": 50,
   "metadata": {},
   "outputs": [],
   "source": [
    "vectorizer = CountVectorizer(max_df=0.95, min_df=2, max_features=50000)\n",
    "\n",
    "data_vectorized = vectorizer.fit_transform(clean_text) # fit input data\n",
    "lda_model = LatentDirichletAllocation(n_components=3,\n",
    "                                      max_iter=10, \n",
    "                                      learning_method='online',\n",
    "                                      learning_offset=70.,\n",
    "                                      learning_decay = .7,\n",
    "                                      random_state=0).fit(data_vectorized)"
   ]
  },
  {
   "cell_type": "code",
   "execution_count": 51,
   "metadata": {},
   "outputs": [
    {
     "name": "stderr",
     "output_type": "stream",
     "text": [
      "C:\\Users\\USER\\anaconda3\\envs\\pytorch\\lib\\site-packages\\sklearn\\utils\\deprecation.py:87: FutureWarning: Function get_feature_names is deprecated; get_feature_names is deprecated in 1.0 and will be removed in 1.2. Please use get_feature_names_out instead.\n",
      "  warnings.warn(msg, category=FutureWarning)\n"
     ]
    },
    {
     "data": {
      "text/plain": [
       "[array(['股份', '回覆', '接著', '存送', '享空', '具情', '享示', '支援', '享肥', '資訊'],\n",
       "       dtype='<U7'),\n",
       " array(['資料', '專線', '帳號', '完成', '傳真端', '資盤', '檔案', '資訊', '設定', '通知'],\n",
       "       dtype='<U7'),\n",
       " array(['登入', '校園', '帳號', '園端', '資訊', '檔案', '系統', '回覆', '品牌', '推出'],\n",
       "       dtype='<U7')]"
      ]
     },
     "execution_count": 51,
     "metadata": {},
     "output_type": "execute_result"
    }
   ],
   "source": [
    "# Show top n keywords for each topic\n",
    "def show_topics(vectorizer=vectorizer, lda_model=lda_model, n_words=10):\n",
    "    keywords = np.array(vectorizer.get_feature_names())\n",
    "    topic_keywords = []\n",
    "    for topic_weights in lda_model.components_:\n",
    "        top_keyword_locs = (-topic_weights).argsort()[:n_words]\n",
    "        topic_keywords.append(keywords.take(top_keyword_locs))\n",
    "    return topic_keywords\n",
    "\n",
    "topic_keywords = show_topics(vectorizer=vectorizer, lda_model=lda_model, n_words=10)        \n",
    "topic_keywords"
   ]
  },
  {
   "cell_type": "code",
   "execution_count": 52,
   "metadata": {
    "tags": []
   },
   "outputs": [
    {
     "name": "stdout",
     "output_type": "stream",
     "text": [
      "Log Likelihood:  -1059664.9448776697\n",
      "Perplexity:  1091.6632748757233\n",
      "{'batch_size': 128,\n",
      " 'doc_topic_prior': None,\n",
      " 'evaluate_every': -1,\n",
      " 'learning_decay': 0.7,\n",
      " 'learning_method': 'online',\n",
      " 'learning_offset': 70.0,\n",
      " 'max_doc_update_iter': 100,\n",
      " 'max_iter': 10,\n",
      " 'mean_change_tol': 0.001,\n",
      " 'n_components': 3,\n",
      " 'n_jobs': None,\n",
      " 'perp_tol': 0.1,\n",
      " 'random_state': 0,\n",
      " 'topic_word_prior': None,\n",
      " 'total_samples': 1000000.0,\n",
      " 'verbose': 0}\n"
     ]
    }
   ],
   "source": [
    "# Log Likelyhood: Higher the better\n",
    "print(\"Log Likelihood: \", lda_model.score(data_vectorized))\n",
    "\n",
    "# Perplexity: Lower the better. Perplexity = exp(-1. * log-likelihood per word)\n",
    "print(\"Perplexity: \", lda_model.perplexity(data_vectorized))\n",
    "\n",
    "# See model parameters\n",
    "pprint(lda_model.get_params())"
   ]
  },
  {
   "cell_type": "markdown",
   "metadata": {},
   "source": [
    "# 2.3 Using GridSearchCV to find the best lda model ~ topics"
   ]
  },
  {
   "cell_type": "code",
   "execution_count": 53,
   "metadata": {},
   "outputs": [],
   "source": [
    "# Beware it will try *all* of the combinations, so it'll take ages\n",
    "search_params = {'n_components': range(4,10)}\n",
    "\n",
    "# Set up LDA with the options we'll keep static\n",
    "model = LatentDirichletAllocation(max_iter=10, \n",
    "                                  learning_method='online',\n",
    "                                  learning_offset=70.,\n",
    "                                  random_state=0)\n",
    "\n",
    "# Try all of the options\n",
    "gridsearch = GridSearchCV(model,\n",
    "                          param_grid=search_params)\n",
    "gridsearch.fit(data_vectorized)\n",
    "\n",
    "## Save the best model\n",
    "best_lda = gridsearch.best_estimator_"
   ]
  },
  {
   "cell_type": "code",
   "execution_count": 54,
   "metadata": {},
   "outputs": [
    {
     "name": "stdout",
     "output_type": "stream",
     "text": [
      "Best Model's Params:  {'n_components': 4}\n"
     ]
    }
   ],
   "source": [
    "print(\"Best Model's Params: \", gridsearch.best_params_)"
   ]
  },
  {
   "cell_type": "markdown",
   "metadata": {},
   "source": [
    "# 2.4 Run again with best model 'learning_decay': 0.7, 'n_components': 4"
   ]
  },
  {
   "cell_type": "code",
   "execution_count": 55,
   "metadata": {},
   "outputs": [],
   "source": [
    "vectorizer = CountVectorizer(max_df=0.95, min_df=2, max_features=50000)\n",
    "\n",
    "data_vectorized = vectorizer.fit_transform(clean_text) # fit input data\n",
    "lda_model = LatentDirichletAllocation(n_components=4,\n",
    "                                      max_iter=10, \n",
    "                                      learning_method='online',\n",
    "                                      learning_offset=70.,\n",
    "                                      learning_decay = .7,\n",
    "                                      random_state=0).fit(data_vectorized)"
   ]
  },
  {
   "cell_type": "code",
   "execution_count": 56,
   "metadata": {},
   "outputs": [
    {
     "name": "stderr",
     "output_type": "stream",
     "text": [
      "C:\\Users\\USER\\anaconda3\\envs\\pytorch\\lib\\site-packages\\sklearn\\utils\\deprecation.py:87: FutureWarning: Function get_feature_names is deprecated; get_feature_names is deprecated in 1.0 and will be removed in 1.2. Please use get_feature_names_out instead.\n",
      "  warnings.warn(msg, category=FutureWarning)\n"
     ]
    },
    {
     "data": {
      "text/plain": [
       "[array(['資盤', '稽核', '股份', '回覆', '接著', '享空', '存送', '具情', '享示', '知道'],\n",
       "       dtype='<U7'),\n",
       " array(['完成', '資盤', '資料', '資訊', '檔案', '執行', '掃描', '程式', '專線', '支援'],\n",
       "       dtype='<U7'),\n",
       " array(['登入', '帳號', '校園', '資訊', '園端', '備份', '回覆', '密碼', '檔案', '資料'],\n",
       "       dtype='<U7'),\n",
       " array(['檔案', '顯示', '回覆', '確認', '結果', '處理', '筆數', '描筆', '腦掃', '增域'],\n",
       "       dtype='<U7')]"
      ]
     },
     "execution_count": 56,
     "metadata": {},
     "output_type": "execute_result"
    }
   ],
   "source": [
    "# Show top n keywords for each topic\n",
    "def show_topics(vectorizer=vectorizer, lda_model=lda_model, n_words=10):\n",
    "    keywords = np.array(vectorizer.get_feature_names())\n",
    "    topic_keywords = []\n",
    "    for topic_weights in lda_model.components_:\n",
    "        top_keyword_locs = (-topic_weights).argsort()[:n_words]\n",
    "        topic_keywords.append(keywords.take(top_keyword_locs))\n",
    "    return topic_keywords\n",
    "\n",
    "topic_keywords = show_topics(vectorizer=vectorizer, lda_model=lda_model, n_words=10)        \n",
    "topic_keywords"
   ]
  },
  {
   "cell_type": "code",
   "execution_count": 57,
   "metadata": {},
   "outputs": [
    {
     "name": "stdout",
     "output_type": "stream",
     "text": [
      "Log Likelihood:  -1042245.690154961\n",
      "Perplexity:  973.0770173254006\n",
      "{'batch_size': 128,\n",
      " 'doc_topic_prior': None,\n",
      " 'evaluate_every': -1,\n",
      " 'learning_decay': 0.7,\n",
      " 'learning_method': 'online',\n",
      " 'learning_offset': 70.0,\n",
      " 'max_doc_update_iter': 100,\n",
      " 'max_iter': 10,\n",
      " 'mean_change_tol': 0.001,\n",
      " 'n_components': 4,\n",
      " 'n_jobs': None,\n",
      " 'perp_tol': 0.1,\n",
      " 'random_state': 0,\n",
      " 'topic_word_prior': None,\n",
      " 'total_samples': 1000000.0,\n",
      " 'verbose': 0}\n"
     ]
    }
   ],
   "source": [
    "# Log Likelyhood: Higher the better\n",
    "print(\"Log Likelihood: \", lda_model.score(data_vectorized))\n",
    "\n",
    "# Perplexity: Lower the better. Perplexity = exp(-1. * log-likelihood per word)\n",
    "print(\"Perplexity: \", lda_model.perplexity(data_vectorized))\n",
    "\n",
    "# See model parameters\n",
    "pprint(lda_model.get_params())"
   ]
  },
  {
   "cell_type": "markdown",
   "metadata": {},
   "source": [
    "## 3.  Dominant topic in each email and labeling"
   ]
  },
  {
   "cell_type": "code",
   "execution_count": 58,
   "metadata": {},
   "outputs": [
    {
     "data": {
      "text/plain": [
       "[array(['資盤', '稽核', '股份', '回覆', '接著', '享空', '存送', '具情', '享示', '知道'],\n",
       "       dtype='<U7'),\n",
       " array(['完成', '資盤', '資料', '資訊', '檔案', '執行', '掃描', '程式', '專線', '支援'],\n",
       "       dtype='<U7'),\n",
       " array(['登入', '帳號', '校園', '資訊', '園端', '備份', '回覆', '密碼', '檔案', '資料'],\n",
       "       dtype='<U7'),\n",
       " array(['檔案', '顯示', '回覆', '確認', '結果', '處理', '筆數', '描筆', '腦掃', '增域'],\n",
       "       dtype='<U7')]"
      ]
     },
     "execution_count": 58,
     "metadata": {},
     "output_type": "execute_result"
    }
   ],
   "source": [
    "topic_keywords # topics"
   ]
  },
  {
   "cell_type": "code",
   "execution_count": 59,
   "metadata": {},
   "outputs": [],
   "source": [
    "topic_list = [] # convert array to list\n",
    "for i in topic_keywords:\n",
    "    i = i.tolist()\n",
    "    topic_list.append(i)"
   ]
  },
  {
   "cell_type": "code",
   "execution_count": 60,
   "metadata": {},
   "outputs": [
    {
     "data": {
      "text/html": [
       "<style type=\"text/css\">\n",
       "#T_690e3_row0_col0, #T_690e3_row0_col1, #T_690e3_row1_col1, #T_690e3_row1_col3, #T_690e3_row2_col1, #T_690e3_row2_col2, #T_690e3_row2_col3, #T_690e3_row2_col4, #T_690e3_row3_col2, #T_690e3_row3_col3, #T_690e3_row3_col4, #T_690e3_row4_col1, #T_690e3_row4_col3, #T_690e3_row4_col4, #T_690e3_row5_col1, #T_690e3_row5_col2, #T_690e3_row5_col3, #T_690e3_row5_col4, #T_690e3_row6_col1, #T_690e3_row6_col2, #T_690e3_row6_col3, #T_690e3_row6_col4, #T_690e3_row7_col1, #T_690e3_row7_col2, #T_690e3_row7_col3, #T_690e3_row7_col4, #T_690e3_row8_col1, #T_690e3_row8_col2, #T_690e3_row8_col3, #T_690e3_row8_col4, #T_690e3_row9_col1, #T_690e3_row9_col2, #T_690e3_row9_col3, #T_690e3_row9_col4, #T_690e3_row10_col1, #T_690e3_row10_col2, #T_690e3_row10_col3, #T_690e3_row10_col4, #T_690e3_row11_col1, #T_690e3_row11_col3, #T_690e3_row11_col4, #T_690e3_row12_col1, #T_690e3_row12_col2, #T_690e3_row12_col3, #T_690e3_row12_col4, #T_690e3_row13_col1, #T_690e3_row13_col2, #T_690e3_row13_col3, #T_690e3_row13_col4, #T_690e3_row14_col2, #T_690e3_row14_col3, #T_690e3_row14_col4 {\n",
       "  color: black;\n",
       "  font-weight: 400;\n",
       "}\n",
       "#T_690e3_row0_col2, #T_690e3_row0_col3, #T_690e3_row0_col4, #T_690e3_row1_col0, #T_690e3_row1_col2, #T_690e3_row1_col4, #T_690e3_row2_col0, #T_690e3_row3_col0, #T_690e3_row3_col1, #T_690e3_row4_col0, #T_690e3_row4_col2, #T_690e3_row5_col0, #T_690e3_row6_col0, #T_690e3_row7_col0, #T_690e3_row8_col0, #T_690e3_row9_col0, #T_690e3_row10_col0, #T_690e3_row11_col0, #T_690e3_row11_col2, #T_690e3_row12_col0, #T_690e3_row13_col0, #T_690e3_row14_col0, #T_690e3_row14_col1 {\n",
       "  color: green;\n",
       "  font-weight: 700;\n",
       "}\n",
       "</style>\n",
       "<table id=\"T_690e3\">\n",
       "  <thead>\n",
       "    <tr>\n",
       "      <th class=\"blank level0\" >&nbsp;</th>\n",
       "      <th id=\"T_690e3_level0_col0\" class=\"col_heading level0 col0\" >Topic(0, ['資盤', '稽核', '股份', '回覆', '接著', '享空', '存送', '具情', '享示', '知道'])</th>\n",
       "      <th id=\"T_690e3_level0_col1\" class=\"col_heading level0 col1\" >Topic(1, ['完成', '資盤', '資料', '資訊', '檔案', '執行', '掃描', '程式', '專線', '支援'])</th>\n",
       "      <th id=\"T_690e3_level0_col2\" class=\"col_heading level0 col2\" >Topic(2, ['登入', '帳號', '校園', '資訊', '園端', '備份', '回覆', '密碼', '檔案', '資料'])</th>\n",
       "      <th id=\"T_690e3_level0_col3\" class=\"col_heading level0 col3\" >Topic(3, ['檔案', '顯示', '回覆', '確認', '結果', '處理', '筆數', '描筆', '腦掃', '增域'])</th>\n",
       "      <th id=\"T_690e3_level0_col4\" class=\"col_heading level0 col4\" >Label</th>\n",
       "    </tr>\n",
       "  </thead>\n",
       "  <tbody>\n",
       "    <tr>\n",
       "      <th id=\"T_690e3_level0_row0\" class=\"row_heading level0 row0\" >0</th>\n",
       "      <td id=\"T_690e3_row0_col0\" class=\"data row0 col0\" >0.070000</td>\n",
       "      <td id=\"T_690e3_row0_col1\" class=\"data row0 col1\" >0.040000</td>\n",
       "      <td id=\"T_690e3_row0_col2\" class=\"data row0 col2\" >0.220000</td>\n",
       "      <td id=\"T_690e3_row0_col3\" class=\"data row0 col3\" >0.670000</td>\n",
       "      <td id=\"T_690e3_row0_col4\" class=\"data row0 col4\" >3</td>\n",
       "    </tr>\n",
       "    <tr>\n",
       "      <th id=\"T_690e3_level0_row1\" class=\"row_heading level0 row1\" >1</th>\n",
       "      <td id=\"T_690e3_row1_col0\" class=\"data row1 col0\" >0.260000</td>\n",
       "      <td id=\"T_690e3_row1_col1\" class=\"data row1 col1\" >0.010000</td>\n",
       "      <td id=\"T_690e3_row1_col2\" class=\"data row1 col2\" >0.730000</td>\n",
       "      <td id=\"T_690e3_row1_col3\" class=\"data row1 col3\" >0.010000</td>\n",
       "      <td id=\"T_690e3_row1_col4\" class=\"data row1 col4\" >2</td>\n",
       "    </tr>\n",
       "    <tr>\n",
       "      <th id=\"T_690e3_level0_row2\" class=\"row_heading level0 row2\" >2</th>\n",
       "      <td id=\"T_690e3_row2_col0\" class=\"data row2 col0\" >0.950000</td>\n",
       "      <td id=\"T_690e3_row2_col1\" class=\"data row2 col1\" >0.020000</td>\n",
       "      <td id=\"T_690e3_row2_col2\" class=\"data row2 col2\" >0.020000</td>\n",
       "      <td id=\"T_690e3_row2_col3\" class=\"data row2 col3\" >0.020000</td>\n",
       "      <td id=\"T_690e3_row2_col4\" class=\"data row2 col4\" >0</td>\n",
       "    </tr>\n",
       "    <tr>\n",
       "      <th id=\"T_690e3_level0_row3\" class=\"row_heading level0 row3\" >3</th>\n",
       "      <td id=\"T_690e3_row3_col0\" class=\"data row3 col0\" >0.750000</td>\n",
       "      <td id=\"T_690e3_row3_col1\" class=\"data row3 col1\" >0.230000</td>\n",
       "      <td id=\"T_690e3_row3_col2\" class=\"data row3 col2\" >0.010000</td>\n",
       "      <td id=\"T_690e3_row3_col3\" class=\"data row3 col3\" >0.010000</td>\n",
       "      <td id=\"T_690e3_row3_col4\" class=\"data row3 col4\" >0</td>\n",
       "    </tr>\n",
       "    <tr>\n",
       "      <th id=\"T_690e3_level0_row4\" class=\"row_heading level0 row4\" >4</th>\n",
       "      <td id=\"T_690e3_row4_col0\" class=\"data row4 col0\" >0.460000</td>\n",
       "      <td id=\"T_690e3_row4_col1\" class=\"data row4 col1\" >0.010000</td>\n",
       "      <td id=\"T_690e3_row4_col2\" class=\"data row4 col2\" >0.440000</td>\n",
       "      <td id=\"T_690e3_row4_col3\" class=\"data row4 col3\" >0.100000</td>\n",
       "      <td id=\"T_690e3_row4_col4\" class=\"data row4 col4\" >0</td>\n",
       "    </tr>\n",
       "    <tr>\n",
       "      <th id=\"T_690e3_level0_row5\" class=\"row_heading level0 row5\" >5</th>\n",
       "      <td id=\"T_690e3_row5_col0\" class=\"data row5 col0\" >0.970000</td>\n",
       "      <td id=\"T_690e3_row5_col1\" class=\"data row5 col1\" >0.010000</td>\n",
       "      <td id=\"T_690e3_row5_col2\" class=\"data row5 col2\" >0.010000</td>\n",
       "      <td id=\"T_690e3_row5_col3\" class=\"data row5 col3\" >0.010000</td>\n",
       "      <td id=\"T_690e3_row5_col4\" class=\"data row5 col4\" >0</td>\n",
       "    </tr>\n",
       "    <tr>\n",
       "      <th id=\"T_690e3_level0_row6\" class=\"row_heading level0 row6\" >6</th>\n",
       "      <td id=\"T_690e3_row6_col0\" class=\"data row6 col0\" >0.970000</td>\n",
       "      <td id=\"T_690e3_row6_col1\" class=\"data row6 col1\" >0.010000</td>\n",
       "      <td id=\"T_690e3_row6_col2\" class=\"data row6 col2\" >0.010000</td>\n",
       "      <td id=\"T_690e3_row6_col3\" class=\"data row6 col3\" >0.010000</td>\n",
       "      <td id=\"T_690e3_row6_col4\" class=\"data row6 col4\" >0</td>\n",
       "    </tr>\n",
       "    <tr>\n",
       "      <th id=\"T_690e3_level0_row7\" class=\"row_heading level0 row7\" >7</th>\n",
       "      <td id=\"T_690e3_row7_col0\" class=\"data row7 col0\" >0.980000</td>\n",
       "      <td id=\"T_690e3_row7_col1\" class=\"data row7 col1\" >0.010000</td>\n",
       "      <td id=\"T_690e3_row7_col2\" class=\"data row7 col2\" >0.010000</td>\n",
       "      <td id=\"T_690e3_row7_col3\" class=\"data row7 col3\" >0.010000</td>\n",
       "      <td id=\"T_690e3_row7_col4\" class=\"data row7 col4\" >0</td>\n",
       "    </tr>\n",
       "    <tr>\n",
       "      <th id=\"T_690e3_level0_row8\" class=\"row_heading level0 row8\" >8</th>\n",
       "      <td id=\"T_690e3_row8_col0\" class=\"data row8 col0\" >0.970000</td>\n",
       "      <td id=\"T_690e3_row8_col1\" class=\"data row8 col1\" >0.010000</td>\n",
       "      <td id=\"T_690e3_row8_col2\" class=\"data row8 col2\" >0.010000</td>\n",
       "      <td id=\"T_690e3_row8_col3\" class=\"data row8 col3\" >0.010000</td>\n",
       "      <td id=\"T_690e3_row8_col4\" class=\"data row8 col4\" >0</td>\n",
       "    </tr>\n",
       "    <tr>\n",
       "      <th id=\"T_690e3_level0_row9\" class=\"row_heading level0 row9\" >9</th>\n",
       "      <td id=\"T_690e3_row9_col0\" class=\"data row9 col0\" >0.960000</td>\n",
       "      <td id=\"T_690e3_row9_col1\" class=\"data row9 col1\" >0.010000</td>\n",
       "      <td id=\"T_690e3_row9_col2\" class=\"data row9 col2\" >0.010000</td>\n",
       "      <td id=\"T_690e3_row9_col3\" class=\"data row9 col3\" >0.010000</td>\n",
       "      <td id=\"T_690e3_row9_col4\" class=\"data row9 col4\" >0</td>\n",
       "    </tr>\n",
       "    <tr>\n",
       "      <th id=\"T_690e3_level0_row10\" class=\"row_heading level0 row10\" >10</th>\n",
       "      <td id=\"T_690e3_row10_col0\" class=\"data row10 col0\" >0.950000</td>\n",
       "      <td id=\"T_690e3_row10_col1\" class=\"data row10 col1\" >0.020000</td>\n",
       "      <td id=\"T_690e3_row10_col2\" class=\"data row10 col2\" >0.020000</td>\n",
       "      <td id=\"T_690e3_row10_col3\" class=\"data row10 col3\" >0.020000</td>\n",
       "      <td id=\"T_690e3_row10_col4\" class=\"data row10 col4\" >0</td>\n",
       "    </tr>\n",
       "    <tr>\n",
       "      <th id=\"T_690e3_level0_row11\" class=\"row_heading level0 row11\" >11</th>\n",
       "      <td id=\"T_690e3_row11_col0\" class=\"data row11 col0\" >0.650000</td>\n",
       "      <td id=\"T_690e3_row11_col1\" class=\"data row11 col1\" >0.010000</td>\n",
       "      <td id=\"T_690e3_row11_col2\" class=\"data row11 col2\" >0.340000</td>\n",
       "      <td id=\"T_690e3_row11_col3\" class=\"data row11 col3\" >0.010000</td>\n",
       "      <td id=\"T_690e3_row11_col4\" class=\"data row11 col4\" >0</td>\n",
       "    </tr>\n",
       "    <tr>\n",
       "      <th id=\"T_690e3_level0_row12\" class=\"row_heading level0 row12\" >12</th>\n",
       "      <td id=\"T_690e3_row12_col0\" class=\"data row12 col0\" >0.950000</td>\n",
       "      <td id=\"T_690e3_row12_col1\" class=\"data row12 col1\" >0.020000</td>\n",
       "      <td id=\"T_690e3_row12_col2\" class=\"data row12 col2\" >0.020000</td>\n",
       "      <td id=\"T_690e3_row12_col3\" class=\"data row12 col3\" >0.020000</td>\n",
       "      <td id=\"T_690e3_row12_col4\" class=\"data row12 col4\" >0</td>\n",
       "    </tr>\n",
       "    <tr>\n",
       "      <th id=\"T_690e3_level0_row13\" class=\"row_heading level0 row13\" >13</th>\n",
       "      <td id=\"T_690e3_row13_col0\" class=\"data row13 col0\" >0.970000</td>\n",
       "      <td id=\"T_690e3_row13_col1\" class=\"data row13 col1\" >0.010000</td>\n",
       "      <td id=\"T_690e3_row13_col2\" class=\"data row13 col2\" >0.010000</td>\n",
       "      <td id=\"T_690e3_row13_col3\" class=\"data row13 col3\" >0.010000</td>\n",
       "      <td id=\"T_690e3_row13_col4\" class=\"data row13 col4\" >0</td>\n",
       "    </tr>\n",
       "    <tr>\n",
       "      <th id=\"T_690e3_level0_row14\" class=\"row_heading level0 row14\" >14</th>\n",
       "      <td id=\"T_690e3_row14_col0\" class=\"data row14 col0\" >0.840000</td>\n",
       "      <td id=\"T_690e3_row14_col1\" class=\"data row14 col1\" >0.130000</td>\n",
       "      <td id=\"T_690e3_row14_col2\" class=\"data row14 col2\" >0.010000</td>\n",
       "      <td id=\"T_690e3_row14_col3\" class=\"data row14 col3\" >0.020000</td>\n",
       "      <td id=\"T_690e3_row14_col4\" class=\"data row14 col4\" >0</td>\n",
       "    </tr>\n",
       "  </tbody>\n",
       "</table>\n"
      ],
      "text/plain": [
       "<pandas.io.formats.style.Styler at 0x239a538bfd0>"
      ]
     },
     "execution_count": 60,
     "metadata": {},
     "output_type": "execute_result"
    }
   ],
   "source": [
    "# Create Document - Topic Matrix\n",
    "data_vectorized = data_vectorized.toarray()\n",
    "doc_topic_matrix = lda_model.fit_transform(data_vectorized)\n",
    "\n",
    "topicnames = [\"Topic\" + str(i) for i in enumerate(topic_list)] #\n",
    "# Make the pandas dataframe\n",
    "df_document_topic = pd.DataFrame(np.round(doc_topic_matrix, 2), columns=topicnames)\n",
    "\n",
    "# Get dominant topic for each document\n",
    "dominant_topic = np.argmax(df_document_topic.values, axis=1)\n",
    "\n",
    "df_document_topic['Label'] = dominant_topic\n",
    "\n",
    "# Styling\n",
    "def color_green(val):\n",
    "    color = 'green' if val > .1 else 'black'\n",
    "    return 'color: {col}'.format(col=color)\n",
    "\n",
    "def make_bold(val):\n",
    "    weight = 700 if val > .1 else 400\n",
    "    return 'font-weight: {weight}'.format(weight=weight)\n",
    "\n",
    "# Apply Style\n",
    "df_document_topics = df_document_topic.head(15).style.applymap(color_green).applymap(make_bold)\n",
    "df_document_topics"
   ]
  },
  {
   "cell_type": "code",
   "execution_count": 61,
   "metadata": {},
   "outputs": [],
   "source": [
    "dominant_topic = dominant_topic.tolist()\n",
    "for i, n in enumerate(dominant_topic):\n",
    "    if n == 0:\n",
    "        dominant_topic[i] = topic_list[0]\n",
    "    elif n == 1:\n",
    "        dominant_topic[i] = topic_list[1]\n",
    "    elif n == 2:\n",
    "        dominant_topic[i] = topic_list[2]\n",
    "    else:\n",
    "        dominant_topic[i] = topic_list[3]\n"
   ]
  },
  {
   "cell_type": "code",
   "execution_count": 62,
   "metadata": {},
   "outputs": [
    {
     "name": "stderr",
     "output_type": "stream",
     "text": [
      "C:\\Users\\USER\\AppData\\Local\\Temp\\ipykernel_4320\\417198572.py:1: SettingWithCopyWarning: \n",
      "A value is trying to be set on a copy of a slice from a DataFrame.\n",
      "Try using .loc[row_indexer,col_indexer] = value instead\n",
      "\n",
      "See the caveats in the documentation: https://pandas.pydata.org/pandas-docs/stable/user_guide/indexing.html#returning-a-view-versus-a-copy\n",
      "  df['label'] = dominant_topic\n"
     ]
    }
   ],
   "source": [
    "df['label'] = dominant_topic"
   ]
  },
  {
   "cell_type": "code",
   "execution_count": 63,
   "metadata": {},
   "outputs": [
    {
     "data": {
      "text/html": [
       "<div>\n",
       "<style scoped>\n",
       "    .dataframe tbody tr th:only-of-type {\n",
       "        vertical-align: middle;\n",
       "    }\n",
       "\n",
       "    .dataframe tbody tr th {\n",
       "        vertical-align: top;\n",
       "    }\n",
       "\n",
       "    .dataframe thead th {\n",
       "        text-align: right;\n",
       "    }\n",
       "</style>\n",
       "<table border=\"1\" class=\"dataframe\">\n",
       "  <thead>\n",
       "    <tr style=\"text-align: right;\">\n",
       "      <th></th>\n",
       "      <th>﻿Date</th>\n",
       "      <th>Subject</th>\n",
       "      <th>Body</th>\n",
       "      <th>merged</th>\n",
       "      <th>clean_text</th>\n",
       "      <th>label</th>\n",
       "    </tr>\n",
       "    <tr>\n",
       "      <th>id</th>\n",
       "      <th></th>\n",
       "      <th></th>\n",
       "      <th></th>\n",
       "      <th></th>\n",
       "      <th></th>\n",
       "      <th></th>\n",
       "    </tr>\n",
       "  </thead>\n",
       "  <tbody>\n",
       "    <tr>\n",
       "      <th>0</th>\n",
       "      <td>09/05/2017 05:51:48</td>\n",
       "      <td>(中日)使用者發出的信件取回問題-接續問題</td>\n",
       "      <td>Dear 網擎：\\r\\n     附件所示   郵件使用者     alex.chen@cr...</td>\n",
       "      <td>示間 寄出 寄備 份 找 取回 特種 紙廠 股份 限發出 取回 接續</td>\n",
       "      <td>示間 寄出 寄備 找 取回 特種 紙廠 股份 限發出 取回 接續</td>\n",
       "      <td>[檔案, 顯示, 回覆, 確認, 結果, 處理, 筆數, 描筆, 腦掃, 增域]</td>\n",
       "    </tr>\n",
       "    <tr>\n",
       "      <th>1</th>\n",
       "      <td>﻿02/27/2018 05:28:12</td>\n",
       "      <td>(仍然無法註冊) Re: M2k - danno149131 - 註冊帳號顯示錯誤</td>\n",
       "      <td>您好，使用者反應重新註冊帳號，將訂單送出時，系統會顯示\"認證失敗，請重新確認您所輸入的帳號密...</td>\n",
       "      <td>反應 重 註 冊 帳 號 訂 單 送 出 系 統 顯 示 認 證 失 敗 重 確 認 輸 入...</td>\n",
       "      <td>重送 出系示 重入 密密 重透重 取消 訂單 確定 遇相 情形 詢敬享 減肥 檔享 圖示 存...</td>\n",
       "      <td>[登入, 帳號, 校園, 資訊, 園端, 備份, 回覆, 密碼, 檔案, 資料]</td>\n",
       "    </tr>\n",
       "    <tr>\n",
       "      <th>2</th>\n",
       "      <td>﻿04/18/2018 02:55:09</td>\n",
       "      <td>(希望今天能收到回覆) P-Marker 業務問題 - 潛在客戶：國民健康署</td>\n",
       "      <td>您好，國民健康署張淇鈞 小姐02-2522 0889rubychang@hpa.gov.tw...</td>\n",
       "      <td>健康 署 張淇鈞 需資盤 詢功 價格 張希天 收回 覆麻 煩 繫 愛 洽 詢 敬 享 減 肥...</td>\n",
       "      <td>健康 需資盤 詢功 價格 收回 覆麻敬 享肥 享示 存送 享空 接著 具情 真端 站 希 收...</td>\n",
       "      <td>[資盤, 稽核, 股份, 回覆, 接著, 享空, 存送, 具情, 享示, 知道]</td>\n",
       "    </tr>\n",
       "    <tr>\n",
       "      <th>3</th>\n",
       "      <td>﻿05/05/2016 08:45:46</td>\n",
       "      <td>(很急) Fw: (急) MailGates 軟體 - 嘉聯益科技 - 稽核條件沒有正常執行</td>\n",
       "      <td>您好，客戶來電表示還沒收到回覆，今天上午也有寄信到m2k_noc，麻煩您幫忙盡快連繫，謝謝。...</td>\n",
       "      <td>表示 收回 覆天午 寄麻煩 快 繫 愛 洽 詢 享 減 肥 檔 旁 享 圖 示 檔 存 贈 ...</td>\n",
       "      <td>表示 收回 寄快 享肥 享示 存送 享空 接著 具情 敬真端 站 稽核 正常 執行 稽核 正...</td>\n",
       "      <td>[資盤, 稽核, 股份, 回覆, 接著, 享空, 存送, 具情, 享示, 知道]</td>\n",
       "    </tr>\n",
       "    <tr>\n",
       "      <th>4</th>\n",
       "      <td>﻿12/15/2016 01:54:47</td>\n",
       "      <td>(很急) Fw: Mail2000 軟體 - 德律科技 - 管理者帳號疑似被入侵</td>\n",
       "      <td>您好，德律陳先生0933 818 259問題：客戶提到管理者帳號被登入，想確認系統設定是否有...</td>\n",
       "      <td>德律陳理 帳號 登入確 認系統 設定 否動 麻煩 快 繫 愛 洽 詢 享 減 肥 檔 旁 享...</td>\n",
       "      <td>理帳 號登入 確認 系統 設定 否動 快 享肥 享示 存送 享空 接著 具情 敬真端 站理 ...</td>\n",
       "      <td>[資盤, 稽核, 股份, 回覆, 接著, 享空, 存送, 具情, 享示, 知道]</td>\n",
       "    </tr>\n",
       "    <tr>\n",
       "      <th>...</th>\n",
       "      <td>...</td>\n",
       "      <td>...</td>\n",
       "      <td>...</td>\n",
       "      <td>...</td>\n",
       "      <td>...</td>\n",
       "      <td>...</td>\n",
       "    </tr>\n",
       "    <tr>\n",
       "      <th>2553</th>\n",
       "      <td>﻿12/11/2013 05:57:56</td>\n",
       "      <td>關於中日合成帳號問題</td>\n",
       "      <td>您好！\\r\\n我想使用中日合成的帳號進行個資盤點，雖然已經透過sinockl@mail.sj...</td>\n",
       "      <td>合成 帳號 進行 資盤 透 重換 密碼 忘 記帳 號法 告訴 初 登入 帳號 坤 龍 合成 ...</td>\n",
       "      <td>合成 帳號 進行 資盤 透 重換 密碼 忘 記帳 號法 告訴 登入 帳號 合成 股份 限計 ...</td>\n",
       "      <td>[資盤, 稽核, 股份, 回覆, 接著, 享空, 存送, 具情, 享示, 知道]</td>\n",
       "    </tr>\n",
       "    <tr>\n",
       "      <th>2554</th>\n",
       "      <td>﻿07/15/2013 07:54:45</td>\n",
       "      <td>關於陸委會 P-Marker 的授權設定</td>\n",
       "      <td>Dear SE,雖陸委會買的 P-Marker 私有雲正式授權為 300 台電腦不限次數，不...</td>\n",
       "      <td>陸委買 私 正式 授權 腦限數 告知 直接 授權 天午 陸委 負責版 修改 數期 資訊備 忘...</td>\n",
       "      <td>買 授權 腦限數 告知 授權 負責版 修改 數期 資訊備 忘關 陸委授 權設定</td>\n",
       "      <td>[完成, 資盤, 資料, 資訊, 檔案, 執行, 掃描, 程式, 專線, 支援]</td>\n",
       "    </tr>\n",
       "    <tr>\n",
       "      <th>2555</th>\n",
       "      <td>﻿06/03/2016 06:59:43</td>\n",
       "      <td>需要遠端連線 - M2k - kim2177185 - 使用Outlook無法收發信件(用M...</td>\n",
       "      <td>Dear MIS，帳號：kim2177185@mail2000.com.tw連絡人：蘇先生電...</td>\n",
       "      <td>帳號 蘇話腦 確定 版帳 類型 反應 法收 發錯 誤訊息 裝遠 端線 需遠端 線確 認麻煩 ...</td>\n",
       "      <td>帳號 話腦 確定 版類 型 收發錯 誤訊息 端線 需遠 端線 確認 詢享 減肥 檔享 圖示 ...</td>\n",
       "      <td>[登入, 帳號, 校園, 資訊, 園端, 備份, 回覆, 密碼, 檔案, 資料]</td>\n",
       "    </tr>\n",
       "    <tr>\n",
       "      <th>2556</th>\n",
       "      <td>﻿11/24/2015 10:02:39</td>\n",
       "      <td>麻煩刪除此信箱(學生註冊錯誤)，讓該生可申請另一組，謝謝！</td>\n",
       "      <td>Dear 教育雲郵件網管人員：\\r\\n\\r\\n您好，我是高雄市永清國小的電腦教師(兼任網管)...</td>\n",
       "      <td>員 永清 腦師 兼 擁學腦 師理 敝 校學帳 職責 封容腦 師代填 寫腦 課程 進行 學學啟...</td>\n",
       "      <td>腦師 兼 擁學腦 師理 校學 職責 師代填 寫腦 課程 進行 學學 啟鄰 座學 填入 框格 ...</td>\n",
       "      <td>[檔案, 顯示, 回覆, 確認, 結果, 處理, 筆數, 描筆, 腦掃, 增域]</td>\n",
       "    </tr>\n",
       "    <tr>\n",
       "      <th>2557</th>\n",
       "      <td>﻿03/26/2013 11:18:06</td>\n",
       "      <td>鼎新電腦 P-Marker 已升為正式版並加 5 次</td>\n",
       "      <td>Dear Bryson,鼎新電腦 P-Marker 已升為正式版並加 5 次目前資料如下公司...</td>\n",
       "      <td>腦升 正式版 加資料 腦統 編號 話 范肇鈞理 帳號 理理 建立 期期 剩餘數 掃描 完成 ...</td>\n",
       "      <td>腦升 正式版 加資料 腦統 編號理 帳號 理理 建立 掃描 完成 數腦升 正式版 加</td>\n",
       "      <td>[資盤, 稽核, 股份, 回覆, 接著, 享空, 存送, 具情, 享示, 知道]</td>\n",
       "    </tr>\n",
       "  </tbody>\n",
       "</table>\n",
       "<p>2557 rows × 6 columns</p>\n",
       "</div>"
      ],
      "text/plain": [
       "                     ﻿Date                                            Subject  \\\n",
       "id                                                                              \n",
       "0      09/05/2017 05:51:48                              (中日)使用者發出的信件取回問題-接續問題   \n",
       "1     ﻿02/27/2018 05:28:12          (仍然無法註冊) Re: M2k - danno149131 - 註冊帳號顯示錯誤   \n",
       "2     ﻿04/18/2018 02:55:09             (希望今天能收到回覆) P-Marker 業務問題 - 潛在客戶：國民健康署   \n",
       "3     ﻿05/05/2016 08:45:46     (很急) Fw: (急) MailGates 軟體 - 嘉聯益科技 - 稽核條件沒有正常執行   \n",
       "4     ﻿12/15/2016 01:54:47           (很急) Fw: Mail2000 軟體 - 德律科技 - 管理者帳號疑似被入侵   \n",
       "...                    ...                                                ...   \n",
       "2553  ﻿12/11/2013 05:57:56                                         關於中日合成帳號問題   \n",
       "2554  ﻿07/15/2013 07:54:45                               關於陸委會 P-Marker 的授權設定   \n",
       "2555  ﻿06/03/2016 06:59:43  需要遠端連線 - M2k - kim2177185 - 使用Outlook無法收發信件(用M...   \n",
       "2556  ﻿11/24/2015 10:02:39                      麻煩刪除此信箱(學生註冊錯誤)，讓該生可申請另一組，謝謝！   \n",
       "2557  ﻿03/26/2013 11:18:06                         鼎新電腦 P-Marker 已升為正式版並加 5 次   \n",
       "\n",
       "                                                   Body  \\\n",
       "id                                                        \n",
       "0     Dear 網擎：\\r\\n     附件所示   郵件使用者     alex.chen@cr...   \n",
       "1     您好，使用者反應重新註冊帳號，將訂單送出時，系統會顯示\"認證失敗，請重新確認您所輸入的帳號密...   \n",
       "2     您好，國民健康署張淇鈞 小姐02-2522 0889rubychang@hpa.gov.tw...   \n",
       "3     您好，客戶來電表示還沒收到回覆，今天上午也有寄信到m2k_noc，麻煩您幫忙盡快連繫，謝謝。...   \n",
       "4     您好，德律陳先生0933 818 259問題：客戶提到管理者帳號被登入，想確認系統設定是否有...   \n",
       "...                                                 ...   \n",
       "2553  您好！\\r\\n我想使用中日合成的帳號進行個資盤點，雖然已經透過sinockl@mail.sj...   \n",
       "2554  Dear SE,雖陸委會買的 P-Marker 私有雲正式授權為 300 台電腦不限次數，不...   \n",
       "2555  Dear MIS，帳號：kim2177185@mail2000.com.tw連絡人：蘇先生電...   \n",
       "2556  Dear 教育雲郵件網管人員：\\r\\n\\r\\n您好，我是高雄市永清國小的電腦教師(兼任網管)...   \n",
       "2557  Dear Bryson,鼎新電腦 P-Marker 已升為正式版並加 5 次目前資料如下公司...   \n",
       "\n",
       "                                                 merged  \\\n",
       "id                                                        \n",
       "0                    示間 寄出 寄備 份 找 取回 特種 紙廠 股份 限發出 取回 接續   \n",
       "1     反應 重 註 冊 帳 號 訂 單 送 出 系 統 顯 示 認 證 失 敗 重 確 認 輸 入...   \n",
       "2     健康 署 張淇鈞 需資盤 詢功 價格 張希天 收回 覆麻 煩 繫 愛 洽 詢 敬 享 減 肥...   \n",
       "3     表示 收回 覆天午 寄麻煩 快 繫 愛 洽 詢 享 減 肥 檔 旁 享 圖 示 檔 存 贈 ...   \n",
       "4     德律陳理 帳號 登入確 認系統 設定 否動 麻煩 快 繫 愛 洽 詢 享 減 肥 檔 旁 享...   \n",
       "...                                                 ...   \n",
       "2553  合成 帳號 進行 資盤 透 重換 密碼 忘 記帳 號法 告訴 初 登入 帳號 坤 龍 合成 ...   \n",
       "2554  陸委買 私 正式 授權 腦限數 告知 直接 授權 天午 陸委 負責版 修改 數期 資訊備 忘...   \n",
       "2555  帳號 蘇話腦 確定 版帳 類型 反應 法收 發錯 誤訊息 裝遠 端線 需遠端 線確 認麻煩 ...   \n",
       "2556  員 永清 腦師 兼 擁學腦 師理 敝 校學帳 職責 封容腦 師代填 寫腦 課程 進行 學學啟...   \n",
       "2557  腦升 正式版 加資料 腦統 編號 話 范肇鈞理 帳號 理理 建立 期期 剩餘數 掃描 完成 ...   \n",
       "\n",
       "                                             clean_text  \\\n",
       "id                                                        \n",
       "0                      示間 寄出 寄備 找 取回 特種 紙廠 股份 限發出 取回 接續   \n",
       "1     重送 出系示 重入 密密 重透重 取消 訂單 確定 遇相 情形 詢敬享 減肥 檔享 圖示 存...   \n",
       "2     健康 需資盤 詢功 價格 收回 覆麻敬 享肥 享示 存送 享空 接著 具情 真端 站 希 收...   \n",
       "3     表示 收回 寄快 享肥 享示 存送 享空 接著 具情 敬真端 站 稽核 正常 執行 稽核 正...   \n",
       "4     理帳 號登入 確認 系統 設定 否動 快 享肥 享示 存送 享空 接著 具情 敬真端 站理 ...   \n",
       "...                                                 ...   \n",
       "2553  合成 帳號 進行 資盤 透 重換 密碼 忘 記帳 號法 告訴 登入 帳號 合成 股份 限計 ...   \n",
       "2554            買 授權 腦限數 告知 授權 負責版 修改 數期 資訊備 忘關 陸委授 權設定   \n",
       "2555  帳號 話腦 確定 版類 型 收發錯 誤訊息 端線 需遠 端線 確認 詢享 減肥 檔享 圖示 ...   \n",
       "2556  腦師 兼 擁學腦 師理 校學 職責 師代填 寫腦 課程 進行 學學 啟鄰 座學 填入 框格 ...   \n",
       "2557         腦升 正式版 加資料 腦統 編號理 帳號 理理 建立 掃描 完成 數腦升 正式版 加   \n",
       "\n",
       "                                         label  \n",
       "id                                              \n",
       "0     [檔案, 顯示, 回覆, 確認, 結果, 處理, 筆數, 描筆, 腦掃, 增域]  \n",
       "1     [登入, 帳號, 校園, 資訊, 園端, 備份, 回覆, 密碼, 檔案, 資料]  \n",
       "2     [資盤, 稽核, 股份, 回覆, 接著, 享空, 存送, 具情, 享示, 知道]  \n",
       "3     [資盤, 稽核, 股份, 回覆, 接著, 享空, 存送, 具情, 享示, 知道]  \n",
       "4     [資盤, 稽核, 股份, 回覆, 接著, 享空, 存送, 具情, 享示, 知道]  \n",
       "...                                        ...  \n",
       "2553  [資盤, 稽核, 股份, 回覆, 接著, 享空, 存送, 具情, 享示, 知道]  \n",
       "2554  [完成, 資盤, 資料, 資訊, 檔案, 執行, 掃描, 程式, 專線, 支援]  \n",
       "2555  [登入, 帳號, 校園, 資訊, 園端, 備份, 回覆, 密碼, 檔案, 資料]  \n",
       "2556  [檔案, 顯示, 回覆, 確認, 結果, 處理, 筆數, 描筆, 腦掃, 增域]  \n",
       "2557  [資盤, 稽核, 股份, 回覆, 接著, 享空, 存送, 具情, 享示, 知道]  \n",
       "\n",
       "[2557 rows x 6 columns]"
      ]
     },
     "execution_count": 63,
     "metadata": {},
     "output_type": "execute_result"
    }
   ],
   "source": [
    "df"
   ]
  },
  {
   "cell_type": "code",
   "execution_count": 64,
   "metadata": {},
   "outputs": [],
   "source": [
    "df.to_csv('sklearn_lda_vectorized.csv') # export the labedled email to csv"
   ]
  },
  {
   "cell_type": "code",
   "execution_count": 65,
   "metadata": {},
   "outputs": [
    {
     "data": {
      "text/html": [
       "<div>\n",
       "<style scoped>\n",
       "    .dataframe tbody tr th:only-of-type {\n",
       "        vertical-align: middle;\n",
       "    }\n",
       "\n",
       "    .dataframe tbody tr th {\n",
       "        vertical-align: top;\n",
       "    }\n",
       "\n",
       "    .dataframe thead th {\n",
       "        text-align: right;\n",
       "    }\n",
       "</style>\n",
       "<table border=\"1\" class=\"dataframe\">\n",
       "  <thead>\n",
       "    <tr style=\"text-align: right;\">\n",
       "      <th></th>\n",
       "      <th>Topic Num</th>\n",
       "      <th>Num Documents</th>\n",
       "      <th>keyword</th>\n",
       "    </tr>\n",
       "  </thead>\n",
       "  <tbody>\n",
       "    <tr>\n",
       "      <th>0</th>\n",
       "      <td>[登入, 帳號, 校園, 資訊, 園端, 備份, 回覆, 密碼, 檔案, 資料]</td>\n",
       "      <td>1042</td>\n",
       "      <td>[資盤, 稽核, 股份, 回覆, 接著, 享空, 存送, 具情, 享示, 知道]</td>\n",
       "    </tr>\n",
       "    <tr>\n",
       "      <th>1</th>\n",
       "      <td>[資盤, 稽核, 股份, 回覆, 接著, 享空, 存送, 具情, 享示, 知道]</td>\n",
       "      <td>868</td>\n",
       "      <td>[完成, 資盤, 資料, 資訊, 檔案, 執行, 掃描, 程式, 專線, 支援]</td>\n",
       "    </tr>\n",
       "    <tr>\n",
       "      <th>2</th>\n",
       "      <td>[完成, 資盤, 資料, 資訊, 檔案, 執行, 掃描, 程式, 專線, 支援]</td>\n",
       "      <td>476</td>\n",
       "      <td>[登入, 帳號, 校園, 資訊, 園端, 備份, 回覆, 密碼, 檔案, 資料]</td>\n",
       "    </tr>\n",
       "    <tr>\n",
       "      <th>3</th>\n",
       "      <td>[檔案, 顯示, 回覆, 確認, 結果, 處理, 筆數, 描筆, 腦掃, 增域]</td>\n",
       "      <td>171</td>\n",
       "      <td>[檔案, 顯示, 回覆, 確認, 結果, 處理, 筆數, 描筆, 腦掃, 增域]</td>\n",
       "    </tr>\n",
       "  </tbody>\n",
       "</table>\n",
       "</div>"
      ],
      "text/plain": [
       "                                  Topic Num  Num Documents  \\\n",
       "0  [登入, 帳號, 校園, 資訊, 園端, 備份, 回覆, 密碼, 檔案, 資料]           1042   \n",
       "1  [資盤, 稽核, 股份, 回覆, 接著, 享空, 存送, 具情, 享示, 知道]            868   \n",
       "2  [完成, 資盤, 資料, 資訊, 檔案, 執行, 掃描, 程式, 專線, 支援]            476   \n",
       "3  [檔案, 顯示, 回覆, 確認, 結果, 處理, 筆數, 描筆, 腦掃, 增域]            171   \n",
       "\n",
       "                                    keyword  \n",
       "0  [資盤, 稽核, 股份, 回覆, 接著, 享空, 存送, 具情, 享示, 知道]  \n",
       "1  [完成, 資盤, 資料, 資訊, 檔案, 執行, 掃描, 程式, 專線, 支援]  \n",
       "2  [登入, 帳號, 校園, 資訊, 園端, 備份, 回覆, 密碼, 檔案, 資料]  \n",
       "3  [檔案, 顯示, 回覆, 確認, 結果, 處理, 筆數, 描筆, 腦掃, 增域]  "
      ]
     },
     "execution_count": 65,
     "metadata": {},
     "output_type": "execute_result"
    }
   ],
   "source": [
    "# Review topics distribution across documents\n",
    "df_topic_distribution = df['label'].value_counts().reset_index(name=\"Num Documents\")\n",
    "df_topic_distribution.columns = ['Topic Num', 'Num Documents']\n",
    "df_topic_distribution['keyword'] = topic_keywords\n",
    "df_topic_distribution"
   ]
  },
  {
   "cell_type": "code",
   "execution_count": 66,
   "metadata": {},
   "outputs": [
    {
     "name": "stderr",
     "output_type": "stream",
     "text": [
      "C:\\Users\\USER\\anaconda3\\envs\\pytorch\\lib\\site-packages\\sklearn\\utils\\deprecation.py:87: FutureWarning: Function get_feature_names is deprecated; get_feature_names is deprecated in 1.0 and will be removed in 1.2. Please use get_feature_names_out instead.\n",
      "  warnings.warn(msg, category=FutureWarning)\n",
      "C:\\Users\\USER\\anaconda3\\envs\\pytorch\\lib\\site-packages\\pyLDAvis\\_prepare.py:246: FutureWarning: In a future version of pandas all arguments of DataFrame.drop except for the argument 'labels' will be keyword-only.\n",
      "  default_term_info = default_term_info.sort_values(\n",
      "C:\\Users\\USER\\anaconda3\\envs\\pytorch\\lib\\site-packages\\sklearn\\manifold\\_t_sne.py:780: FutureWarning: The default initialization in TSNE will change from 'random' to 'pca' in 1.2.\n",
      "  warnings.warn(\n",
      "C:\\Users\\USER\\anaconda3\\envs\\pytorch\\lib\\site-packages\\sklearn\\manifold\\_t_sne.py:790: FutureWarning: The default learning rate in TSNE will change from 200.0 to 'auto' in 1.2.\n",
      "  warnings.warn(\n",
      "C:\\Users\\USER\\anaconda3\\envs\\pytorch\\lib\\site-packages\\sklearn\\manifold\\_t_sne.py:819: FutureWarning: 'square_distances' has been introduced in 0.24 to help phase out legacy squaring behavior. The 'legacy' setting will be removed in 1.1 (renaming of 0.26), and the default setting will be changed to True. In 1.3, 'square_distances' will be removed altogether, and distances will be squared by default. Set 'square_distances'=True to silence this warning.\n",
      "  warnings.warn(\n"
     ]
    },
    {
     "data": {
      "text/html": [
       "\n",
       "<link rel=\"stylesheet\" type=\"text/css\" href=\"https://cdn.jsdelivr.net/gh/bmabey/pyLDAvis@3.3.1/pyLDAvis/js/ldavis.v1.0.0.css\">\n",
       "\n",
       "\n",
       "<div id=\"ldavis_el432024465901047361760864059\"></div>\n",
       "<script type=\"text/javascript\">\n",
       "\n",
       "var ldavis_el432024465901047361760864059_data = {\"mdsDat\": {\"x\": [269.5624084472656, 1.782994270324707, 220.81143188476562, 50.533992767333984], \"y\": [-124.80339813232422, -295.0796813964844, -343.8321228027344, -76.05093383789062], \"topics\": [1, 2, 3, 4], \"cluster\": [1, 1, 1, 1], \"Freq\": [40.78673181284455, 25.400491252885626, 25.363332176684434, 8.449444757585383]}, \"tinfo\": {\"Term\": [\"\\u767b\\u5165\", \"\\u6821\\u5712\", \"\\u8cc7\\u76e4\", \"\\u5712\\u7aef\", \"\\u7a3d\\u6838\", \"\\u4eab\\u7a7a\", \"\\u5b58\\u9001\", \"\\u5177\\u60c5\", \"\\u4eab\\u793a\", \"\\u5b8c\\u6210\", \"\\u4eab\\u80a5\", \"\\u5e33\\u865f\", \"\\u63a5\\u8457\", \"\\u80a1\\u4efd\", \"\\u6a94\\u6848\", \"\\u57f7\\u884c\", \"\\u5099\\u4efd\", \"\\u7aef\\u6821\", \"\\u5168\\u9818\\u5c0e\", \"\\u7ad9\\u7aef\", \"\\u8cc7\\u8a0a\\u5834\", \"\\u6383\\u63cf\", \"\\u7aef\\u76f8\", \"\\u95dc\\u7591\", \"\\u7372\\u5bb6\", \"\\u89e3\\u6c7a\\u9047\", \"\\u8cc7\\u6599\", \"\\u7522\\u54c1\", \"\\u4f54\\u7387\", \"\\u656c\\u771f\\u7aef\", \"\\u6821\\u5712\", \"\\u5712\\u7aef\", \"\\u7aef\\u6821\", \"\\u5168\\u9818\\u5c0e\", \"\\u7ad9\\u7aef\", \"\\u8cc7\\u8a0a\\u5834\", \"\\u95dc\\u7591\", \"\\u7aef\\u76f8\", \"\\u89e3\\u6c7a\\u9047\", \"\\u6a94\\u4eab\", \"\\u5b58\\u8d08\", \"\\u5177\\u9078\\u55ae\", \"\\u6e1b\\u80a5\", \"\\u4eab\\u7a7a\\u9593\", \"\\u5165\\u6cd5\", \"\\u5b78\\u6821\", \"\\u8001\\u5e2b\", \"\\u7406\\u6cd5\", \"\\u5718\\u968a\", \"\\u522a\\u6a94\\u8eab\", \"\\u898b\\u656c\", \"\\u5929\\u52d5\\u5099\", \"\\u5c6c\\u7e23\", \"\\u8a62\\u4eab\", \"\\u656c\\u5099\", \"\\u5e38\\u5931\\u6557\", \"\\u522a\\u6a94\", \"\\u60c5\\u898b\", \"\\u96d9\\u91cd\", \"\\u5165\\u6821\", \"\\u767b\\u5165\", \"\\u5716\\u793a\", \"\\u8eab\\u4efd\", \"\\u5099\\u4efd\", \"\\u5bc6\\u78bc\", \"\\u5931\\u6557\", \"\\u5bc4\\u51fa\", \"\\u5e33\\u865f\", \"\\u8a8d\\u8b49\", \"\\u932f\\u8aa4\", \"\\u8a18\\u9304\", \"\\u6210\\u529f\", \"\\u50b3\\u771f\\u7aef\", \"\\u8cc7\\u8a0a\", \"\\u54c1\\u724c\", \"\\u56de\\u8986\", \"\\u8cc7\\u6599\", \"\\u7cfb\\u7d71\", \"\\u6a94\\u6848\", \"\\u5c08\\u7dda\", \"\\u8a2d\\u5b9a\", \"\\u6b63\\u5e38\", \"\\u4eab\\u7a7a\", \"\\u5b58\\u9001\", \"\\u5177\\u60c5\", \"\\u4eab\\u793a\", \"\\u4eab\\u80a5\", \"\\u614b\\u624b\", \"\\u8cc7\\u6cd5\\u52d5\", \"\\u638c\\u63e1\", \"\\u6df1\\u8015\", \"\\u52d5\\u614b\", \"\\u656c\\u771f\\u7aef\", \"\\u5c08\\u5bb6\", \"\\u8a8d\\u514d\", \"\\u73fe\\u99ac\\u78ba\", \"\\u6b65\\u901a\\u8a0a\\u9304\", \"\\u5fc5\\u7406\", \"\\u8208\\u6df1\\u6e9d\", \"\\u65b7\\u7aef\", \"\\u95dc\\u8cc7\\u76e4\", \"\\u8a2d\\u8cc7\\u8a0a\", \"\\u8a8d\\u8f09\", \"\\u6b65\\u5b78\", \"\\u656c\\u884c\", \"\\u52d5\\u6b65\", \"\\u5831\\u50f9\", \"\\u7406\\u7522\\u54c1\\u69ae\", \"\\u6311\\u9078\\u9304\", \"\\u5b8f\\u58fd\\u95dc\", \"\\u6b8a\\u69ae\", \"\\u4e8b\\u904b\\u6a13\", \"\\u7372\\u5bb6\", \"\\u4f54\\u7387\", \"\\u771f\\u7aef\", \"\\u7a3d\\u6838\", \"\\u7522\\u54c1\\u69ae\", \"\\u6b8a\\u69ae\\u72c2\", \"\\u904b\\u6a13\", \"\\u4e8b\\u7aef\", \"\\u884c\\u4e8b\", \"\\u9700\\u64d4\", \"\\u7522\\u54c1\", \"\\u901a\\u6548\", \"\\u7b56\\u7d20\", \"\\u77e5\\u9053\", \"\\u80a1\\u4efd\", \"\\u63a5\\u8457\", \"\\u8cc7\\u76e4\", \"\\u9700\\u6c42\", \"\\u55ae\\u4f4d\", \"\\u63a8\\u51fa\", \"\\u56de\\u8986\", \"\\u652f\\u63f4\", \"\\u6383\\u63cf\", \"\\u7cfb\\u7d71\", \"\\u54c1\\u724c\", \"\\u5e33\\u865f\", \"\\u6a94\\u6848\", \"\\u5c08\\u7dda\", \"\\u5354\\u52a9\", \"\\u8cc7\\u8a0a\", \"\\u7522\\u54c1\\u8853\", \"\\u5be6\\u65bd\", \"\\u91cd\\u8986\", \"\\u63cf\\u7bc4\\u4f8b\", \"\\u7ad9\\u6a5f\", \"\\u8cc7\\u8a0a\\u58fd\", \"\\u9996\\u5e2d\", \"\\u8a66\\u4ec1\\u8166\", \"\\u6de1\\u6c34\", \"\\u901a\\u8def\", \"\\u589e\\u5931\\u6557\", \"\\u9650\\u6a13\", \"\\u6536\\u52ff\", \"\\u767c\\u6a94\\u6848\", \"\\u8cc7\\u76e4\\u8a62\", \"\\u8cac\\u8072\", \"\\u901a\\u8a0a\\u4efd\", \"\\u4ee3\\u7ad9\", \"\\u9700\\u6a94\", \"\\u8166\\u6e05\", \"\\u62ab\\u9732\", \"\\u672a\\u5be6\", \"\\u8a66\\u4ec1\", \"\\u865b\\u64ec\", \"\\u8cc7\\u8a0a\\u5747\", \"\\u7e3d\\u7406\\u5ba4\", \"\\u8cc7\\u6599\\u6790\", \"\\u8cc7\\u8a0a\\u50c5\", \"\\u522a\\u92b7\\u6bc0\", \"\\u51fa\\u7acb\", \"\\u672a\\u5be6\\u65bd\", \"\\u8cc7\\u8a0a\\u8853\", \"\\u904b\\u6a4b\\u982d\", \"\\u767d\\u8cbb\\u529b\", \"\\u4fdd\\u8b77\\u4f5c\", \"\\u6d3e\\u9001\", \"\\u7559\\u5b58\", \"\\u5831\\u544a\", \"\\u75c5\\u6bd2\", \"\\u57f7\\u884c\", \"\\u958b\\u59cb\", \"\\u6e05\\u55ae\", \"\\u6388\\u6b0a\", \"\\u5b8c\\u6210\", \"\\u7a0b\\u5f0f\", \"\\u5831\\u8868\", \"\\u8cc7\\u6e90\", \"\\u4ecb\\u9762\", \"\\u8cc7\\u76e4\", \"\\u6383\\u63cf\", \"\\u6307\\u5b9a\", \"\\u8cc7\\u6599\", \"\\u4fdd\\u7559\", \"\\u901a\\u77e5\", \"\\u7d50\\u679c\", \"\\u5354\\u52a9\", \"\\u652f\\u63f4\", \"\\u80a1\\u4efd\", \"\\u532f\\u5165\", \"\\u5c08\\u7dda\", \"\\u8a2d\\u5b9a\", \"\\u6a94\\u6848\", \"\\u8cc7\\u8a0a\", \"\\u65b9\\u5f0f\", \"\\u7cfb\\u7d71\", \"\\u7a0b\\u5e2b\", \"\\u56de\\u8986\", \"\\u9032\\u884c\", \"\\u9020\\u6210\", \"\\u9700\\u6c42\", \"\\u589e\\u57df\", \"\\u63cf\\u7b46\", \"\\u906e\\u853d\", \"\\u6578\\u7591\", \"\\u63cf\\u908f\\u8f2f\", \"\\u7d00\\u59ff\\u541f\\u5bb9\", \"\\u5bb9\\u683c\", \"\\u6a5f\\u865f\", \"\\u5feb\\u5920\", \"\\u78bc\\u7b46\", \"\\u8166\\u7b46\", \"\\u6307\\u5831\", \"\\u6574\\u4f8b\", \"\\u8a66\\u8166\\u7b46\", \"\\u8cc7\\u7e3d\\u6578\\u4f8b\", \"\\u8d85\\u6578\", \"\\u6383\\u51fa\", \"\\u7b46\\u624b\", \"\\u8cc7\\u53cd\\u679c\", \"\\u8a62\\u6383\", \"\\u8a71\\u865f\", \"\\u820a\\u57df\", \"\\u5426\\u8abf\", \"\\u8b8a\\u57df\", \"\\u884c\\u5ba4\", \"\\u885b\\u5bb6\\u57df\", \"\\u6539\\u6e21\\u671f\", \"\\u8a8d\\u8eab\", \"\\u6539\\u96b8\", \"\\u5efa\\u6b63\", \"\\u91cf\\u9650\", \"\\u6a5f\\u623f\", \"\\u78bc\\u5426\", \"\\u8166\\u6383\", \"\\u7b26\\u865f\", \"\\u7591\\u4f3c\", \"\\u7b46\\u6578\", \"\\u8cc7\\u6383\", \"\\u7406\\u8def\", \"\\u7169\\u5354\\u52a9\", \"\\u986f\\u793a\", \"\\u6a94\\u6848\", \"\\u9700\\u958b\", \"\\u7d0d\\u5165\", \"\\u7d50\\u679c\", \"\\u8655\\u7406\", \"\\u610f\\u601d\", \"\\u5f15\\u8ff0\", \"\\u53d6\\u6d88\", \"\\u78ba\\u8a8d\", \"\\u9032\\u884c\", \"\\u8cc7\\u8a0a\\u5ba4\", \"\\u56de\\u8986\", \"\\u865f\\u78bc\", \"\\u5b8c\\u6574\", \"\\u9020\\u6210\", \"\\u8a2d\\u5b9a\", \"\\u55ae\\u4f4d\", \"\\u9700\\u6c42\", \"\\u53cd\\u6620\", \"\\u72c0\\u6cc1\"], \"Freq\": [2491.0, 1666.0, 1318.0, 900.0, 643.0, 463.0, 463.0, 463.0, 463.0, 1061.0, 380.0, 2335.0, 866.0, 871.0, 1621.0, 554.0, 913.0, 510.0, 502.0, 501.0, 500.0, 770.0, 488.0, 487.0, 329.0, 471.0, 1310.0, 386.0, 314.0, 285.0, 1665.7884088282697, 899.8671635903396, 509.870552498398, 502.0544254666262, 501.18494468974376, 499.92180668676696, 486.97836586575914, 487.78413675796054, 471.0404477645179, 384.27946741814094, 382.1451209658221, 382.94679710878376, 376.3930018612545, 395.26556882854584, 264.88788348437663, 307.01899259720403, 266.36998622254083, 215.9844053856885, 252.5662570237301, 205.16064626475026, 206.11418649328755, 184.4914133599408, 173.2015838804473, 177.54909154798207, 164.9106916116968, 168.20055755696683, 195.25385547818428, 177.10261431235025, 122.15436078721282, 117.70250656943571, 2441.6430693789225, 422.7297591219248, 416.247115176848, 840.1495084333052, 696.0690871170492, 531.4167124012275, 270.75898212459805, 1788.4401164114088, 334.0846879416662, 564.5059442816041, 509.2612278000531, 431.29475139766646, 558.6801387759912, 911.9283151595085, 503.472469243058, 711.235987601641, 590.6853042056996, 581.4648600140739, 611.6418468199939, 543.4472571456996, 450.1730018964814, 386.1305082274345, 462.19946097786953, 462.1992940619444, 462.1983638760863, 462.19792039415717, 379.6584391117105, 276.3822606679427, 276.3723185124906, 279.36660878387903, 267.2340624178941, 264.6893490804143, 284.0232290608529, 161.15502075458986, 155.58361176076758, 155.58329638308018, 155.58174430758544, 156.9867117779417, 156.9843999292626, 156.97829600700845, 167.85427305979726, 124.92758348949226, 114.20242385550252, 114.201957867465, 109.51281823842356, 109.5116525813403, 263.11587873227296, 69.86565396869707, 64.00518986472258, 59.689723862406524, 58.24592908635907, 59.50891292552813, 322.25646850241526, 306.3605249986404, 203.08631581482902, 614.361874515063, 252.1984090430665, 261.51926218633554, 226.4225003709358, 229.78864861661052, 186.21024747814465, 170.2780160753232, 348.29566075450026, 169.19962500250185, 169.1881355346524, 417.76554145176317, 504.11210877911583, 492.33982407922355, 651.112970401725, 393.90661761260935, 361.1406712821085, 391.00263582704184, 498.9595111205936, 380.3850724724845, 321.7785436928029, 373.8005660983576, 328.7615113680851, 386.7659452993277, 354.7115230888624, 308.1380116986616, 293.49246769521557, 288.1885393301946, 242.07191145866312, 180.89160313963774, 167.61820549656505, 133.74405309604063, 126.44727757135534, 64.17743102673681, 70.19265265419993, 63.561373517324334, 58.40606389281539, 55.25021566908338, 48.29537171184695, 49.363304301018495, 41.18708156754149, 39.39461523805479, 46.97626749173584, 37.08685649333517, 36.47683408692824, 38.87218868932799, 33.57098857744919, 40.79449966825697, 33.15895113506642, 31.94276198436599, 31.932892538766353, 31.154804885836015, 30.658202525419657, 29.570132061857677, 29.57020916333145, 29.91174865401729, 27.90729532434815, 27.907412560266543, 31.118215344088124, 114.46190247221637, 76.23791549773642, 50.12458838742611, 49.070571187939926, 315.1689708023676, 54.102354387792936, 122.37933713254633, 110.26018420980311, 435.96433633489465, 222.68248384339188, 99.71491811667485, 227.9144538698623, 689.399471830349, 401.1020289678832, 208.66428614866538, 199.067251977483, 242.68704744159865, 666.8545783595004, 431.13088239652603, 205.70822371428784, 622.3690360297508, 74.0931029403811, 333.31687083050116, 230.32134793285354, 390.70895833936515, 391.26441713825466, 340.404517636775, 116.34050382384908, 398.2480500818351, 353.02825495861345, 449.9003993149774, 458.87685189429675, 265.31659032138987, 333.165268684257, 178.59185041074866, 298.144021267533, 186.6850757512586, 201.19212628897662, 197.4114992737462, 71.38049884392154, 74.47581634664672, 58.359833193503135, 60.266659425697455, 45.41764514106486, 31.479113047027493, 49.172016589913575, 24.91075775996796, 24.70892098797864, 22.83988199511828, 22.84083199982351, 22.839371706300373, 22.836879999673485, 22.834140874795644, 22.8330299341421, 22.829810335269737, 22.828512557153225, 22.823137104464962, 22.822983569463222, 22.82109868035283, 24.424288018150992, 21.325432036609488, 25.300808028828847, 20.215812352182198, 18.25702576743619, 18.25672560457123, 18.24484033475438, 17.98221351519854, 18.241317036221677, 19.17191203026064, 23.370127582586964, 31.910598833263467, 24.007134009493363, 72.60870492098529, 63.611033939916666, 43.48882909568823, 76.51956250624602, 46.32299478272345, 46.88050442622774, 57.00549916901031, 113.51605050569033, 204.94486610190847, 29.53527475659409, 28.989971743453367, 83.54545882244537, 79.43838923663321, 56.950445013060516, 56.059805575018856, 53.17812628908898, 92.42050929188832, 69.96410831280126, 38.817097435569075, 95.05417677879839, 35.906954491715524, 42.26500456275454, 56.632769774495834, 58.92517297400762, 49.13662169324474, 45.94820791293883, 41.29392698971945, 40.12457817936305], \"Total\": [2491.0, 1666.0, 1318.0, 900.0, 643.0, 463.0, 463.0, 463.0, 463.0, 1061.0, 380.0, 2335.0, 866.0, 871.0, 1621.0, 554.0, 913.0, 510.0, 502.0, 501.0, 500.0, 770.0, 488.0, 487.0, 329.0, 471.0, 1310.0, 386.0, 314.0, 285.0, 1666.4873707483428, 900.5616021548105, 510.54787028050794, 502.73224059713993, 501.8642663470474, 500.5995048313127, 487.6560780558091, 488.46302493403954, 471.7186486019181, 385.1381993436243, 383.00717220541895, 383.83013918052103, 377.27172780600307, 396.18925990174955, 265.57253882908265, 307.90563278355904, 267.14459454279154, 216.6960683109891, 253.40557943026613, 205.86817596736364, 206.83379491625323, 185.21208238343596, 173.89338554142165, 178.2601794559548, 165.60578264542556, 168.91626731168014, 196.1752258783581, 178.0430650310326, 122.8410306221713, 118.37722505285456, 2491.8713002762847, 427.1916684540785, 428.5548922916939, 913.4230021171824, 791.8121334400922, 596.8544810131706, 283.9892955166919, 2335.2438822671384, 364.9937352872043, 703.9747375847336, 642.3545650212955, 550.5037209429266, 812.0274353402447, 1684.4879946318033, 839.352859257063, 1603.3936967685659, 1310.351315203859, 1288.6833460403197, 1621.1986353257423, 1282.915040345725, 1058.7858337700548, 537.7227865821573, 463.2678737681145, 463.26784828253005, 463.2678835033183, 463.26861391476046, 380.66448097038, 277.23740722268604, 277.23682080916757, 280.26218562715303, 268.1097763648483, 265.55744870446154, 285.09907745767254, 161.84685579901046, 156.26263116611082, 156.263156823745, 156.26371134586844, 157.68280196722705, 157.68232935668019, 157.6820908659179, 168.60877636318313, 125.60908394475608, 114.8824031967272, 114.88311883866561, 110.19181957942239, 110.19223310852897, 265.4578475289434, 70.59013623529034, 64.69745349576625, 60.37447718682709, 58.92157462196221, 60.24880623484799, 329.4309510757004, 314.05441355646997, 207.82668976583184, 643.1207216943894, 259.72886447963793, 270.43708494351677, 235.78120039933873, 240.31849126291178, 192.80321751039878, 175.64195515006318, 386.1259254832236, 174.56975108142154, 174.56918841112622, 614.5707406868473, 871.4123173905728, 866.6475324646038, 1318.9772964469369, 641.2821047040985, 589.6630995351551, 763.6860690153443, 1603.3936967685659, 1028.39314158775, 770.9369181617786, 1288.6833460403197, 839.352859257063, 2335.2438822671384, 1621.1986353257423, 1282.915040345725, 943.7226411116136, 1684.4879946318033, 242.94773472767093, 181.60767875065474, 168.33351178263925, 134.4364395130067, 127.23717773644356, 64.8765215423416, 70.95964363500751, 64.25697692968919, 59.12829225547811, 55.941997462614246, 48.97913251973911, 50.09547717606774, 41.88510234090362, 40.083796630113476, 47.83320164120817, 37.77252930073302, 37.16597786235218, 39.66310478113302, 34.257251681650324, 41.6328803797966, 33.8436912413788, 32.63117334199282, 32.624301548709155, 31.852618259404547, 31.348646723883373, 30.259297778981146, 30.260138000931576, 30.611297003971814, 28.594429305502832, 28.595289049333584, 31.896609767990032, 119.81843745799141, 79.2230151945823, 51.695360962417034, 50.67424394512249, 339.6271334422278, 56.06893860390249, 134.17705148387233, 123.1818012669992, 554.4528085757345, 271.0258561596881, 114.53627196304117, 287.5984300178381, 1061.1185900487108, 610.9564248217455, 284.16810640844125, 274.4430792939667, 370.0642186300811, 1318.9772964469369, 770.9369181617786, 315.25255904927013, 1310.351315203859, 87.36978216123082, 728.3310859983256, 436.15905299981705, 943.7226411116136, 1028.39314158775, 871.4123173905728, 168.12228080190886, 1282.915040345725, 1058.7858337700548, 1621.1986353257423, 1684.4879946318033, 717.2014374339307, 1288.6833460403197, 361.44175122351817, 1603.3936967685659, 506.8433045833026, 691.0638879417672, 641.2821047040985, 72.23237788729749, 75.45944147610889, 59.136727050798825, 61.284104950634074, 46.27857198221532, 32.24805855656591, 50.591690872769185, 25.68635368364875, 25.484200032506514, 23.59114243602073, 23.593142832875113, 23.593011701120577, 23.592098345521933, 23.5928380194406, 23.59256968388045, 23.592705773138523, 23.592507856120974, 23.593208093073894, 23.593162016234327, 23.59267094543149, 25.26611526995831, 22.0613658162686, 26.179279834948918, 20.950683813843685, 18.984938616616567, 18.984888217458877, 18.98412284340548, 18.712520287083954, 18.985119193216367, 19.957223446867268, 24.361210817535664, 33.405219353046995, 25.22637417505468, 80.11977054559998, 72.38626989812727, 48.10030579906688, 90.56907549094304, 58.778270521123645, 87.24986190275224, 126.78809625901688, 491.21541314329664, 1621.1986353257423, 38.75397568230378, 39.6951951490813, 436.15905299981705, 423.5574795404204, 196.07641634584178, 194.47237181802407, 185.12048760689925, 771.013920622195, 506.8433045833026, 99.1722851424204, 1603.3936967685659, 84.0857763325576, 191.05891660527527, 691.0638879417672, 1058.7858337700548, 589.6630995351551, 641.2821047040985, 365.1382943419513, 368.8951113813156], \"Category\": [\"Default\", \"Default\", \"Default\", \"Default\", \"Default\", \"Default\", \"Default\", \"Default\", \"Default\", \"Default\", \"Default\", \"Default\", \"Default\", \"Default\", \"Default\", \"Default\", \"Default\", \"Default\", \"Default\", \"Default\", \"Default\", \"Default\", \"Default\", \"Default\", \"Default\", \"Default\", \"Default\", \"Default\", \"Default\", \"Default\", \"Topic1\", \"Topic1\", \"Topic1\", \"Topic1\", \"Topic1\", \"Topic1\", \"Topic1\", \"Topic1\", \"Topic1\", \"Topic1\", \"Topic1\", \"Topic1\", \"Topic1\", \"Topic1\", \"Topic1\", \"Topic1\", \"Topic1\", \"Topic1\", \"Topic1\", \"Topic1\", \"Topic1\", \"Topic1\", \"Topic1\", \"Topic1\", \"Topic1\", \"Topic1\", \"Topic1\", \"Topic1\", \"Topic1\", \"Topic1\", \"Topic1\", \"Topic1\", \"Topic1\", \"Topic1\", \"Topic1\", \"Topic1\", \"Topic1\", \"Topic1\", \"Topic1\", \"Topic1\", \"Topic1\", \"Topic1\", \"Topic1\", \"Topic1\", \"Topic1\", \"Topic1\", \"Topic1\", \"Topic1\", \"Topic1\", \"Topic1\", \"Topic1\", \"Topic1\", \"Topic2\", \"Topic2\", \"Topic2\", \"Topic2\", \"Topic2\", \"Topic2\", \"Topic2\", \"Topic2\", \"Topic2\", \"Topic2\", \"Topic2\", \"Topic2\", \"Topic2\", \"Topic2\", \"Topic2\", \"Topic2\", \"Topic2\", \"Topic2\", \"Topic2\", \"Topic2\", \"Topic2\", \"Topic2\", \"Topic2\", \"Topic2\", \"Topic2\", \"Topic2\", \"Topic2\", \"Topic2\", \"Topic2\", \"Topic2\", \"Topic2\", \"Topic2\", \"Topic2\", \"Topic2\", \"Topic2\", \"Topic2\", \"Topic2\", \"Topic2\", \"Topic2\", \"Topic2\", \"Topic2\", \"Topic2\", \"Topic2\", \"Topic2\", \"Topic2\", \"Topic2\", \"Topic2\", \"Topic2\", \"Topic2\", \"Topic2\", \"Topic2\", \"Topic2\", \"Topic2\", \"Topic2\", \"Topic2\", \"Topic2\", \"Topic2\", \"Topic2\", \"Topic2\", \"Topic2\", \"Topic3\", \"Topic3\", \"Topic3\", \"Topic3\", \"Topic3\", \"Topic3\", \"Topic3\", \"Topic3\", \"Topic3\", \"Topic3\", \"Topic3\", \"Topic3\", \"Topic3\", \"Topic3\", \"Topic3\", \"Topic3\", \"Topic3\", \"Topic3\", \"Topic3\", \"Topic3\", \"Topic3\", \"Topic3\", \"Topic3\", \"Topic3\", \"Topic3\", \"Topic3\", \"Topic3\", \"Topic3\", \"Topic3\", \"Topic3\", \"Topic3\", \"Topic3\", \"Topic3\", \"Topic3\", \"Topic3\", \"Topic3\", \"Topic3\", \"Topic3\", \"Topic3\", \"Topic3\", \"Topic3\", \"Topic3\", \"Topic3\", \"Topic3\", \"Topic3\", \"Topic3\", \"Topic3\", \"Topic3\", \"Topic3\", \"Topic3\", \"Topic3\", \"Topic3\", \"Topic3\", \"Topic3\", \"Topic3\", \"Topic3\", \"Topic3\", \"Topic3\", \"Topic3\", \"Topic3\", \"Topic3\", \"Topic3\", \"Topic3\", \"Topic3\", \"Topic3\", \"Topic3\", \"Topic3\", \"Topic3\", \"Topic3\", \"Topic3\", \"Topic4\", \"Topic4\", \"Topic4\", \"Topic4\", \"Topic4\", \"Topic4\", \"Topic4\", \"Topic4\", \"Topic4\", \"Topic4\", \"Topic4\", \"Topic4\", \"Topic4\", \"Topic4\", \"Topic4\", \"Topic4\", \"Topic4\", \"Topic4\", \"Topic4\", \"Topic4\", \"Topic4\", \"Topic4\", \"Topic4\", \"Topic4\", \"Topic4\", \"Topic4\", \"Topic4\", \"Topic4\", \"Topic4\", \"Topic4\", \"Topic4\", \"Topic4\", \"Topic4\", \"Topic4\", \"Topic4\", \"Topic4\", \"Topic4\", \"Topic4\", \"Topic4\", \"Topic4\", \"Topic4\", \"Topic4\", \"Topic4\", \"Topic4\", \"Topic4\", \"Topic4\", \"Topic4\", \"Topic4\", \"Topic4\", \"Topic4\", \"Topic4\", \"Topic4\", \"Topic4\", \"Topic4\", \"Topic4\", \"Topic4\", \"Topic4\", \"Topic4\", \"Topic4\", \"Topic4\", \"Topic4\"], \"logprob\": [30.0, 29.0, 28.0, 27.0, 26.0, 25.0, 24.0, 23.0, 22.0, 21.0, 20.0, 19.0, 18.0, 17.0, 16.0, 15.0, 14.0, 13.0, 12.0, 11.0, 10.0, 9.0, 8.0, 7.0, 6.0, 5.0, 4.0, 3.0, 2.0, 1.0, -3.6133, -4.2291, -4.7972, -4.8127, -4.8144, -4.8169, -4.8432, -4.8415, -4.8764, -5.08, -5.0856, -5.0835, -5.1008, -5.0518, -5.4521, -5.3045, -5.4465, -5.6562, -5.4997, -5.7076, -5.703, -5.8138, -5.8769, -5.8521, -5.926, -5.9062, -5.7571, -5.8547, -6.2261, -6.2632, -3.231, -4.9847, -5.0001, -4.2978, -4.4859, -4.7558, -5.4302, -3.5423, -5.22, -4.6954, -4.7984, -4.9646, -4.7058, -4.2158, -4.8099, -4.4644, -4.6501, -4.6658, -4.6152, -4.7335, -4.9218, -5.0752, -4.4218, -4.4218, -4.4218, -4.4218, -4.6185, -4.936, -4.9361, -4.9253, -4.9697, -4.9792, -4.9087, -5.4754, -5.5106, -5.5106, -5.5106, -5.5016, -5.5017, -5.5017, -5.4347, -5.7301, -5.8198, -5.8198, -5.8618, -5.8618, -4.9852, -6.3112, -6.3988, -6.4686, -6.4931, -6.4717, -4.7825, -4.833, -5.2442, -4.1372, -5.0276, -4.9913, -5.1354, -5.1206, -5.3309, -5.4204, -4.7047, -5.4267, -5.4268, -4.5229, -4.335, -4.3586, -4.0791, -4.5817, -4.6685, -4.5891, -4.3453, -4.6166, -4.7839, -4.6341, -4.7625, -4.6, -4.6865, -4.8273, -4.8759, -4.8942, -5.0671, -5.3584, -5.4346, -5.6604, -5.7165, -6.3947, -6.3051, -6.4043, -6.4889, -6.5445, -6.679, -6.6571, -6.8382, -6.8827, -6.7067, -6.9431, -6.9597, -6.8961, -7.0427, -6.8478, -7.055, -7.0924, -7.0927, -7.1174, -7.1334, -7.1696, -7.1696, -7.1581, -7.2274, -7.2274, -7.1185, -5.8161, -6.2225, -6.6418, -6.6631, -4.8032, -6.5655, -5.7492, -5.8535, -4.4788, -5.1506, -5.954, -5.1274, -4.0205, -4.5621, -5.2156, -5.2627, -5.0646, -4.0538, -4.4899, -5.2299, -4.1228, -6.251, -4.7472, -5.1169, -4.5884, -4.587, -4.7262, -5.7998, -4.5693, -4.6898, -4.4473, -4.4276, -4.9754, -4.7477, -5.3712, -4.8588, -5.3269, -5.2521, -5.271, -5.1891, -5.1467, -5.3905, -5.3584, -5.6412, -6.0078, -5.5618, -6.2418, -6.25, -6.3286, -6.3286, -6.3286, -6.3288, -6.3289, -6.3289, -6.3291, -6.3291, -6.3294, -6.3294, -6.3294, -6.2616, -6.3972, -6.2263, -6.4507, -6.5526, -6.5526, -6.5533, -6.5677, -6.5534, -6.5037, -6.3057, -5.9942, -6.2788, -5.172, -5.3043, -5.6846, -5.1196, -5.6215, -5.6095, -5.414, -4.7252, -4.1344, -6.0715, -6.0902, -5.0317, -5.0822, -5.415, -5.4307, -5.4835, -4.9308, -5.2092, -5.7983, -4.9027, -5.8762, -5.7132, -5.4205, -5.3809, -5.5625, -5.6296, -5.7364, -5.7651], \"loglift\": [30.0, 29.0, 28.0, 27.0, 26.0, 25.0, 24.0, 23.0, 22.0, 21.0, 20.0, 19.0, 18.0, 17.0, 16.0, 15.0, 14.0, 13.0, 12.0, 11.0, 10.0, 9.0, 8.0, 7.0, 6.0, 5.0, 4.0, 3.0, 2.0, 1.0, 0.8964, 0.896, 0.8955, 0.8955, 0.8955, 0.8955, 0.8954, 0.8954, 0.8954, 0.8946, 0.8946, 0.8945, 0.8945, 0.8945, 0.8942, 0.8939, 0.8939, 0.8935, 0.8935, 0.8934, 0.8933, 0.8929, 0.8928, 0.8928, 0.8926, 0.8926, 0.8921, 0.8915, 0.8912, 0.8911, 0.8765, 0.8863, 0.8677, 0.8132, 0.7679, 0.7807, 0.8491, 0.63, 0.8083, 0.676, 0.6646, 0.6528, 0.5229, 0.2832, 0.3857, 0.0839, 0.1, 0.101, -0.078, 0.0379, 0.0416, 0.5656, 1.3681, 1.3681, 1.3681, 1.3681, 1.3678, 1.3673, 1.3673, 1.3672, 1.3671, 1.3671, 1.3666, 1.3661, 1.366, 1.366, 1.366, 1.366, 1.366, 1.3659, 1.3659, 1.365, 1.3645, 1.3645, 1.3642, 1.3642, 1.3615, 1.3601, 1.3596, 1.359, 1.3589, 1.358, 1.3484, 1.3456, 1.3473, 1.3247, 1.341, 1.3369, 1.3299, 1.3256, 1.3356, 1.3394, 1.2673, 1.3392, 1.3391, 0.9844, 0.8231, 0.8049, 0.6645, 0.883, 0.8801, 0.701, 0.203, 0.3758, 0.4967, 0.1327, 0.4331, -0.4277, -0.1492, -0.0559, 0.2024, -0.3952, 1.3683, 1.3679, 1.3676, 1.3667, 1.3656, 1.361, 1.361, 1.361, 1.3596, 1.3594, 1.3578, 1.3571, 1.3551, 1.3545, 1.3538, 1.3535, 1.3531, 1.3517, 1.3516, 1.3515, 1.3514, 1.3505, 1.3504, 1.3497, 1.3496, 1.3488, 1.3488, 1.3487, 1.3475, 1.3475, 1.3472, 1.3261, 1.3335, 1.341, 1.3397, 1.2971, 1.3362, 1.2798, 1.261, 1.1314, 1.1754, 1.2333, 1.1393, 0.9406, 0.9511, 1.063, 1.0508, 0.95, 0.6898, 0.7907, 0.945, 0.6273, 1.207, 0.5902, 0.7333, 0.49, 0.4055, 0.4319, 1.0037, 0.2021, 0.2735, 0.09, 0.0714, 0.3774, 0.0191, 0.6669, -0.3104, 0.3731, 0.1379, 0.1937, 2.4592, 2.4579, 2.4578, 2.4543, 2.4523, 2.4469, 2.4426, 2.4404, 2.4402, 2.4387, 2.4387, 2.4386, 2.4385, 2.4384, 2.4383, 2.4382, 2.4382, 2.4379, 2.4379, 2.4378, 2.4372, 2.4371, 2.4369, 2.4354, 2.432, 2.432, 2.4313, 2.4313, 2.4311, 2.4309, 2.4295, 2.4253, 2.4215, 2.3726, 2.3418, 2.3703, 2.3025, 2.2329, 1.8499, 1.6717, 1.0061, 0.4029, 2.1994, 2.1568, 0.8185, 0.7974, 1.2347, 1.2272, 1.2237, 0.3497, 0.4908, 1.5331, -0.3544, 1.6202, 0.9624, -0.0306, -0.4175, -0.0139, -0.1649, 0.2915, 0.2525]}, \"token.table\": {\"Topic\": [2, 3, 2, 2, 3, 2, 3, 1, 2, 3, 1, 2, 3, 3, 2, 3, 1, 2, 3, 2, 3, 1, 2, 3, 1, 2, 3, 4, 1, 1, 1, 2, 3, 1, 3, 1, 1, 3, 2, 2, 1, 2, 3, 1, 2, 3, 4, 1, 2, 3, 4, 1, 2, 3, 4, 4, 1, 2, 3, 1, 2, 3, 4, 1, 2, 3, 4, 1, 1, 3, 1, 1, 2, 3, 1, 2, 3, 2, 3, 2, 3, 4, 4, 3, 1, 1, 2, 3, 4, 1, 2, 3, 1, 1, 2, 3, 4, 1, 2, 3, 4, 2, 2, 4, 1, 2, 1, 3, 4, 3, 2, 1, 2, 3, 4, 1, 1, 2, 3, 1, 4, 1, 2, 3, 4, 2, 4, 1, 1, 2, 3, 4, 2, 1, 2, 3, 3, 4, 2, 3, 2, 4, 2, 3, 4, 1, 2, 3, 2, 1, 2, 3, 1, 2, 3, 4, 3, 4, 1, 2, 3, 4, 3, 4, 4, 1, 2, 3, 2, 4, 4, 2, 1, 2, 3, 4, 3, 3, 1, 3, 4, 4, 1, 1, 2, 3, 4, 1, 3, 2, 2, 2, 2, 3, 2, 3, 3, 2, 1, 2, 3, 1, 1, 2, 3, 4, 1, 2, 3, 4, 2, 3, 2, 1, 2, 2, 3, 4, 1, 2, 3, 2, 3, 3, 1, 3, 3, 4, 1, 2, 3, 1, 2, 3, 3, 2, 3, 2, 3, 1, 2, 3, 4, 1, 2, 3, 4, 1, 4, 4, 1, 2, 3, 1, 2, 3, 2, 3, 3, 1, 1, 1, 1, 2, 3, 4, 4, 3, 4, 2, 3, 1, 2, 3, 4, 2, 3, 4, 1, 2, 3, 4, 3, 1, 1, 2, 3, 4, 3, 4, 3, 4, 2, 4, 1, 2, 3, 4, 3, 1, 2, 3, 4, 1, 2, 4, 4, 1, 1, 1, 2, 3, 1, 2, 3, 4, 2, 1, 4, 3, 3, 4, 4, 2, 1, 3, 4, 2, 4, 3, 4, 2, 3, 4, 1, 2, 3, 4, 3, 2, 1, 2, 3, 4, 2, 3, 4, 3, 4, 1, 2, 3, 4, 3, 3, 1, 3, 1, 3, 4, 2, 3, 4, 1, 3, 4, 2, 3, 1, 2, 3, 3, 3, 1, 2, 3, 4, 1, 2, 3, 4, 2, 3, 2, 3, 4, 3, 4, 1, 2, 3, 1, 2, 3, 1, 2, 3, 1, 2, 3, 3, 1, 2, 3, 4, 3, 4, 1, 2, 3, 4, 3], \"Freq\": [0.95706326546623, 0.041611446324618696, 0.9958703541132724, 0.9972616018511586, 0.0021585748957817287, 0.9972631951406388, 0.002158578344460257, 0.9969982530519771, 0.9982544182512482, 0.002626985311187495, 0.2026675269433994, 0.14051615201409023, 0.656642787296614, 0.9832815715060096, 0.9743534457444532, 0.022289131111801214, 0.13734725786377022, 0.011445604821980851, 0.846974756826583, 0.01973389087132601, 0.9669606526949744, 0.9196177434255559, 0.039412189003952394, 0.041601755059727526, 0.6884003860852009, 0.12930597591940268, 0.18225985177211046, 0.0012314854849466922, 0.9968133646257874, 0.9978441339168312, 0.998543477943109, 0.9972631741839509, 0.002158578299099461, 0.9978372225216775, 0.9791822685091041, 0.9940093053386526, 0.995782854910507, 0.9792117094154267, 0.9979008357431468, 0.9982554749721821, 0.005948051592151883, 0.30335063119974603, 0.6899739846896185, 0.2691468752946445, 0.31047257661941274, 0.41431664661498424, 0.005298166836508749, 0.11228622315249022, 0.4409288275012421, 0.3313812927183248, 0.11228622315249022, 0.6104132582016201, 0.010803774481444603, 0.09183208309227912, 0.286300023758282, 0.9549536945865639, 0.5992712057301154, 0.39196864152128824, 0.008339758330240175, 0.14754187614687791, 0.6122139918278497, 0.15602129431623873, 0.08309829805973584, 0.44343444871520277, 0.3112148943866191, 0.18585578863168836, 0.05924932859063891, 0.9993763867419322, 0.9901878506450106, 0.009363478493097026, 0.9983994850027454, 0.19298306067717308, 0.019839380069615924, 0.7863608827593221, 0.0037670764277969522, 0.9907411005105984, 0.0075341528555939044, 0.0819812320985617, 0.9092463923658661, 0.17243314395589204, 0.7354801446281927, 0.09501418136345072, 0.9829387052822719, 0.9800091902537369, 0.9934557056546309, 0.8896640921562966, 0.01340360214171445, 0.09382521499200115, 0.0016754502677143062, 0.9973703568013635, 0.9972632500027137, 0.002158578463209337, 0.9970587326533398, 0.11308820816577286, 0.237485237148123, 0.6493147952184792, 0.0009424017347147739, 0.19365754112613032, 0.06804183877404579, 0.5181647722023487, 0.21982747911614794, 0.9937974255964439, 0.019766091679261244, 0.968538492283801, 0.9542613199801805, 0.04577637328318209, 0.8789963813463825, 0.10734869599776223, 0.012629258352677909, 0.9966538928594034, 0.9947675486506693, 0.4232548398946747, 0.2400782517266295, 0.3102309876207745, 0.02572266982785316, 0.9948624524237074, 0.7656587877511729, 0.16572144902668004, 0.0685153277629685, 0.9945756123654481, 0.9520362414433193, 0.025710592991989162, 0.1594056765503328, 0.5244960970365788, 0.2879586415102786, 0.9956697752785433, 0.98099999090068, 0.994141501490941, 0.341703511562679, 0.12240125787319843, 0.24480251574639686, 0.29070298744884626, 0.9955366512943468, 0.7829193220742714, 0.036330362973284056, 0.17983529671775608, 0.9750709449698777, 0.9748649426943483, 0.345754528777559, 0.6534443387906161, 0.9892197689695484, 0.9748857620506313, 0.41767360261819675, 0.5590600084734249, 0.023348213810955098, 0.10431211324115806, 0.10431211324115806, 0.7927720606328013, 0.9954964112467453, 0.423470887820233, 0.5677048414374786, 0.008077101402565753, 0.42687697632133953, 0.5119904838700728, 0.06023417457294975, 0.9806592594967594, 0.9967535623928476, 0.9723722680400193, 0.24893203741592262, 0.36950849303926014, 0.38020479152197556, 0.0009723907711559478, 0.9788683256949032, 0.9481607419250695, 0.9481109819121725, 0.9963420199720767, 0.9961449280458099, 0.003507552563541584, 0.998259221236617, 0.9749026840745465, 0.9790466883432751, 0.9956742654655822, 0.4266583752185927, 0.19938610345182597, 0.3694917301729642, 0.0027886168314940696, 0.9806573507064005, 0.971890123291729, 0.9997075460895188, 0.029935441807203308, 0.9579341378305058, 0.9732794427694241, 0.9970446989014227, 0.37749846728499914, 0.21897378412773644, 0.27757240241544057, 0.12644964998925626, 0.7178419989479543, 0.2808138389666868, 0.9923128928985137, 0.9983123954781494, 0.9843593008524469, 0.9688020415348031, 0.029581741726253528, 0.07066573202427161, 0.9274877328185648, 0.9809178954365357, 0.9958607389111462, 0.1222320210013257, 0.008730858642951835, 0.8730858642951835, 0.9966291462829756, 0.17351786681184914, 0.18929221834019908, 0.18929221834019908, 0.44956901855797277, 0.5042083623811905, 0.08945632235795316, 0.2981877411931772, 0.10843190588842806, 0.9774430694765142, 0.02124876237992422, 0.9983159381322252, 0.9967878129196598, 0.9916399618025483, 0.05730668096154635, 0.40114676673082444, 0.5386828010385357, 0.005179657381195182, 0.9012603843279616, 0.09064400417091568, 0.9702425662425985, 0.026951182395627736, 0.9960990180512147, 0.03567037382549626, 0.963100093288399, 0.08315955446748112, 0.893965210525422, 0.09741698754664045, 0.00811808229555337, 0.8929890525108708, 0.9799864060913759, 0.000401304834599253, 0.019663936895363398, 0.9729617271508842, 0.019344095512303483, 0.9672047756151742, 0.9767754094949483, 0.01924680609842263, 0.13993507062162766, 0.6801495293004693, 0.14318937458957248, 0.03742449563136554, 0.4721056134839411, 0.1854700624401197, 0.22178587886196133, 0.11932339681462246, 0.039641051585957154, 0.9513852380629718, 0.9749421869829361, 0.2628362652582748, 0.24346938255503353, 0.49523885769717046, 0.25042702520828675, 0.09329634272465584, 0.6563479549576665, 0.9547196650456746, 0.04353770459491676, 0.9902766018670563, 0.9982778882558462, 0.9989268973344126, 0.9990520778228771, 0.0690738728081547, 0.01381477456163094, 0.04144432368489282, 0.8841455719443801, 0.9748568278322421, 0.14353685217091575, 0.8501798167046549, 0.9680975293417171, 0.028641938737920623, 0.4508477600686103, 0.2902186958100865, 0.25840327728545137, 0.9612981800322428, 0.17634376084335757, 0.10076786333906146, 0.7305670092081956, 0.10775885465804998, 0.17424836072365527, 0.5273305653479041, 0.19259029343140846, 0.9914308064623608, 0.99571544936273, 0.011475623881407604, 0.5783714436229432, 0.39017121196785853, 0.019508560598392927, 0.0873691967953898, 0.9111359094376366, 0.9847985444671822, 0.9748595243509222, 0.9956727595320035, 0.9518902943223069, 0.33053365071467167, 0.09443818591847762, 0.3871965622657582, 0.18651541718899328, 0.9732323963932601, 0.03567785338789118, 0.3567785338789118, 0.1783892669394559, 0.42813424065469413, 0.03111981261244456, 0.9647141909857814, 0.9481199999375031, 0.9481225169104154, 0.9959687684665322, 0.9984765312881989, 0.7923972642478622, 0.003113545242624213, 0.20238044077057382, 0.42501513115043266, 0.18606217963696717, 0.3334007584357838, 0.05572420608416784, 0.9951509562395665, 0.9985404510600804, 0.9748790229473253, 0.9808639106717104, 0.996000793346217, 0.9748721192867048, 0.9498888033862596, 0.9983192964040671, 0.9150841992868286, 0.08219319155270916, 0.9619228048305304, 0.9923190743562689, 0.9546227787937166, 0.9795478535582729, 0.9748587317025935, 0.01701308989077216, 0.18714398879849378, 0.7826021349755194, 0.4510240827346784, 0.07402594928132623, 0.4746818603400507, 0.0007631541163023324, 0.9914032777734335, 0.995538757061354, 0.1129560274565885, 0.10931228463540822, 0.7251048214148745, 0.05465614231770411, 0.4935642196068612, 0.5056948302269991, 0.0007581631637586194, 0.9825811024012583, 0.9748832072207327, 0.5414108042956671, 0.17097183293547383, 0.2724863587409114, 0.014841304942315435, 0.980030346185838, 0.9888784122978505, 0.9988024262398847, 0.9864893875087068, 0.15125193473618803, 0.45375580420856404, 0.39325503031408887, 0.04172980474522554, 0.9514395481911424, 0.9748775838245163, 0.9707041209480618, 0.01633396357364527, 0.01166711683831805, 0.968094408985989, 0.028641846419703815, 0.1647602337822992, 0.37757553575110236, 0.45720964874588027, 0.968627816906352, 0.9831611757652419, 0.28362066578787287, 0.34439652274241705, 0.29085588685389, 0.08248152015259569, 0.0887848366409741, 0.40643725217868143, 0.3689503211524924, 0.1381097458859597, 0.9585157748676635, 0.03817098218499545, 0.037867783656448814, 0.95931718596337, 0.9807779850612569, 0.9980187439856307, 0.9441238439365321, 0.8025856182545102, 0.007102527595172657, 0.1903477395506272, 0.1180699157394992, 0.0590349578697496, 0.822799725309635, 0.9986546295938221, 0.9963894147367998, 0.9781322139677894, 0.9931535040213224, 0.9678780895757915, 0.0284670026345821, 0.992490591947044, 0.006237504478385042, 0.6143941911209266, 0.3071970955604633, 0.07173130150142798, 0.23223423768905516, 0.7741141256301839, 0.4967270844345853, 0.05089416848715013, 0.22189857460397458, 0.23207740830140458, 0.9864762055465838], \"Term\": [\"\\u4e8b\\u7aef\", \"\\u4e8b\\u7aef\", \"\\u4e8b\\u904b\\u6a13\", \"\\u4eab\\u793a\", \"\\u4eab\\u793a\", \"\\u4eab\\u7a7a\", \"\\u4eab\\u7a7a\", \"\\u4eab\\u7a7a\\u9593\", \"\\u4eab\\u80a5\", \"\\u4eab\\u80a5\", \"\\u4ecb\\u9762\", \"\\u4ecb\\u9762\", \"\\u4ecb\\u9762\", \"\\u4ee3\\u7ad9\", \"\\u4f54\\u7387\", \"\\u4f54\\u7387\", \"\\u4fdd\\u7559\", \"\\u4fdd\\u7559\", \"\\u4fdd\\u7559\", \"\\u4fdd\\u8b77\\u4f5c\", \"\\u4fdd\\u8b77\\u4f5c\", \"\\u5099\\u4efd\", \"\\u5099\\u4efd\", \"\\u5099\\u4efd\", \"\\u50b3\\u771f\\u7aef\", \"\\u50b3\\u771f\\u7aef\", \"\\u50b3\\u771f\\u7aef\", \"\\u50b3\\u771f\\u7aef\", \"\\u5165\\u6821\", \"\\u5165\\u6cd5\", \"\\u5168\\u9818\\u5c0e\", \"\\u5177\\u60c5\", \"\\u5177\\u60c5\", \"\\u5177\\u9078\\u55ae\", \"\\u51fa\\u7acb\", \"\\u522a\\u6a94\", \"\\u522a\\u6a94\\u8eab\", \"\\u522a\\u92b7\\u6bc0\", \"\\u52d5\\u614b\", \"\\u52d5\\u6b65\", \"\\u532f\\u5165\", \"\\u532f\\u5165\", \"\\u532f\\u5165\", \"\\u5354\\u52a9\", \"\\u5354\\u52a9\", \"\\u5354\\u52a9\", \"\\u5354\\u52a9\", \"\\u53cd\\u6620\", \"\\u53cd\\u6620\", \"\\u53cd\\u6620\", \"\\u53cd\\u6620\", \"\\u53d6\\u6d88\", \"\\u53d6\\u6d88\", \"\\u53d6\\u6d88\", \"\\u53d6\\u6d88\", \"\\u5426\\u8abf\", \"\\u54c1\\u724c\", \"\\u54c1\\u724c\", \"\\u54c1\\u724c\", \"\\u55ae\\u4f4d\", \"\\u55ae\\u4f4d\", \"\\u55ae\\u4f4d\", \"\\u55ae\\u4f4d\", \"\\u56de\\u8986\", \"\\u56de\\u8986\", \"\\u56de\\u8986\", \"\\u56de\\u8986\", \"\\u5712\\u7aef\", \"\\u5716\\u793a\", \"\\u5716\\u793a\", \"\\u5718\\u968a\", \"\\u57f7\\u884c\", \"\\u57f7\\u884c\", \"\\u57f7\\u884c\", \"\\u5831\\u50f9\", \"\\u5831\\u50f9\", \"\\u5831\\u50f9\", \"\\u5831\\u544a\", \"\\u5831\\u544a\", \"\\u5831\\u8868\", \"\\u5831\\u8868\", \"\\u5831\\u8868\", \"\\u589e\\u57df\", \"\\u589e\\u5931\\u6557\", \"\\u5929\\u52d5\\u5099\", \"\\u5931\\u6557\", \"\\u5931\\u6557\", \"\\u5931\\u6557\", \"\\u5931\\u6557\", \"\\u5b58\\u8d08\", \"\\u5b58\\u9001\", \"\\u5b58\\u9001\", \"\\u5b78\\u6821\", \"\\u5b8c\\u6210\", \"\\u5b8c\\u6210\", \"\\u5b8c\\u6210\", \"\\u5b8c\\u6210\", \"\\u5b8c\\u6574\", \"\\u5b8c\\u6574\", \"\\u5b8c\\u6574\", \"\\u5b8c\\u6574\", \"\\u5b8f\\u58fd\\u95dc\", \"\\u5bb9\\u683c\", \"\\u5bb9\\u683c\", \"\\u5bc4\\u51fa\", \"\\u5bc4\\u51fa\", \"\\u5bc6\\u78bc\", \"\\u5bc6\\u78bc\", \"\\u5bc6\\u78bc\", \"\\u5be6\\u65bd\", \"\\u5c08\\u5bb6\", \"\\u5c08\\u7dda\", \"\\u5c08\\u7dda\", \"\\u5c08\\u7dda\", \"\\u5c08\\u7dda\", \"\\u5c6c\\u7e23\", \"\\u5e33\\u865f\", \"\\u5e33\\u865f\", \"\\u5e33\\u865f\", \"\\u5e38\\u5931\\u6557\", \"\\u5efa\\u6b63\", \"\\u5f15\\u8ff0\", \"\\u5f15\\u8ff0\", \"\\u5f15\\u8ff0\", \"\\u5f15\\u8ff0\", \"\\u5fc5\\u7406\", \"\\u5feb\\u5920\", \"\\u60c5\\u898b\", \"\\u610f\\u601d\", \"\\u610f\\u601d\", \"\\u610f\\u601d\", \"\\u610f\\u601d\", \"\\u614b\\u624b\", \"\\u6210\\u529f\", \"\\u6210\\u529f\", \"\\u6210\\u529f\", \"\\u62ab\\u9732\", \"\\u6307\\u5831\", \"\\u6307\\u5b9a\", \"\\u6307\\u5b9a\", \"\\u6311\\u9078\\u9304\", \"\\u6383\\u51fa\", \"\\u6383\\u63cf\", \"\\u6383\\u63cf\", \"\\u6383\\u63cf\", \"\\u6388\\u6b0a\", \"\\u6388\\u6b0a\", \"\\u6388\\u6b0a\", \"\\u638c\\u63e1\", \"\\u63a5\\u8457\", \"\\u63a5\\u8457\", \"\\u63a5\\u8457\", \"\\u63a8\\u51fa\", \"\\u63a8\\u51fa\", \"\\u63a8\\u51fa\", \"\\u63cf\\u7b46\", \"\\u63cf\\u7bc4\\u4f8b\", \"\\u63cf\\u908f\\u8f2f\", \"\\u652f\\u63f4\", \"\\u652f\\u63f4\", \"\\u652f\\u63f4\", \"\\u652f\\u63f4\", \"\\u6536\\u52ff\", \"\\u6539\\u6e21\\u671f\", \"\\u6539\\u96b8\", \"\\u656c\\u5099\", \"\\u656c\\u771f\\u7aef\", \"\\u656c\\u771f\\u7aef\", \"\\u656c\\u884c\", \"\\u6574\\u4f8b\", \"\\u6578\\u7591\", \"\\u65b7\\u7aef\", \"\\u65b9\\u5f0f\", \"\\u65b9\\u5f0f\", \"\\u65b9\\u5f0f\", \"\\u65b9\\u5f0f\", \"\\u672a\\u5be6\", \"\\u672a\\u5be6\\u65bd\", \"\\u6821\\u5712\", \"\\u6a5f\\u623f\", \"\\u6a5f\\u623f\", \"\\u6a5f\\u865f\", \"\\u6a94\\u4eab\", \"\\u6a94\\u6848\", \"\\u6a94\\u6848\", \"\\u6a94\\u6848\", \"\\u6a94\\u6848\", \"\\u6b63\\u5e38\", \"\\u6b63\\u5e38\", \"\\u6b65\\u5b78\", \"\\u6b65\\u901a\\u8a0a\\u9304\", \"\\u6b8a\\u69ae\", \"\\u6b8a\\u69ae\\u72c2\", \"\\u6b8a\\u69ae\\u72c2\", \"\\u6d3e\\u9001\", \"\\u6d3e\\u9001\", \"\\u6de1\\u6c34\", \"\\u6df1\\u8015\", \"\\u6e05\\u55ae\", \"\\u6e05\\u55ae\", \"\\u6e05\\u55ae\", \"\\u6e1b\\u80a5\", \"\\u7169\\u5354\\u52a9\", \"\\u7169\\u5354\\u52a9\", \"\\u7169\\u5354\\u52a9\", \"\\u7169\\u5354\\u52a9\", \"\\u72c0\\u6cc1\", \"\\u72c0\\u6cc1\", \"\\u72c0\\u6cc1\", \"\\u72c0\\u6cc1\", \"\\u7372\\u5bb6\", \"\\u7372\\u5bb6\", \"\\u73fe\\u99ac\\u78ba\", \"\\u7406\\u6cd5\", \"\\u7406\\u7522\\u54c1\\u69ae\", \"\\u7406\\u8def\", \"\\u7406\\u8def\", \"\\u7406\\u8def\", \"\\u7522\\u54c1\", \"\\u7522\\u54c1\", \"\\u7522\\u54c1\", \"\\u7522\\u54c1\\u69ae\", \"\\u7522\\u54c1\\u69ae\", \"\\u7522\\u54c1\\u8853\", \"\\u7559\\u5b58\", \"\\u7559\\u5b58\", \"\\u7591\\u4f3c\", \"\\u7591\\u4f3c\", \"\\u75c5\\u6bd2\", \"\\u75c5\\u6bd2\", \"\\u75c5\\u6bd2\", \"\\u767b\\u5165\", \"\\u767b\\u5165\", \"\\u767b\\u5165\", \"\\u767c\\u6a94\\u6848\", \"\\u767d\\u8cbb\\u529b\", \"\\u767d\\u8cbb\\u529b\", \"\\u771f\\u7aef\", \"\\u771f\\u7aef\", \"\\u77e5\\u9053\", \"\\u77e5\\u9053\", \"\\u77e5\\u9053\", \"\\u77e5\\u9053\", \"\\u78ba\\u8a8d\", \"\\u78ba\\u8a8d\", \"\\u78ba\\u8a8d\", \"\\u78ba\\u8a8d\", \"\\u78bc\\u5426\", \"\\u78bc\\u5426\", \"\\u78bc\\u7b46\", \"\\u7a0b\\u5e2b\", \"\\u7a0b\\u5e2b\", \"\\u7a0b\\u5e2b\", \"\\u7a0b\\u5f0f\", \"\\u7a0b\\u5f0f\", \"\\u7a0b\\u5f0f\", \"\\u7a3d\\u6838\", \"\\u7a3d\\u6838\", \"\\u7ad9\\u6a5f\", \"\\u7ad9\\u7aef\", \"\\u7aef\\u6821\", \"\\u7aef\\u76f8\", \"\\u7b26\\u865f\", \"\\u7b26\\u865f\", \"\\u7b26\\u865f\", \"\\u7b26\\u865f\", \"\\u7b46\\u624b\", \"\\u7b46\\u6578\", \"\\u7b46\\u6578\", \"\\u7b56\\u7d20\", \"\\u7b56\\u7d20\", \"\\u7cfb\\u7d71\", \"\\u7cfb\\u7d71\", \"\\u7cfb\\u7d71\", \"\\u7d00\\u59ff\\u541f\\u5bb9\", \"\\u7d0d\\u5165\", \"\\u7d0d\\u5165\", \"\\u7d0d\\u5165\", \"\\u7d50\\u679c\", \"\\u7d50\\u679c\", \"\\u7d50\\u679c\", \"\\u7d50\\u679c\", \"\\u7e3d\\u7406\\u5ba4\", \"\\u8001\\u5e2b\", \"\\u80a1\\u4efd\", \"\\u80a1\\u4efd\", \"\\u80a1\\u4efd\", \"\\u80a1\\u4efd\", \"\\u8166\\u6383\", \"\\u8166\\u6383\", \"\\u8166\\u6e05\", \"\\u8166\\u7b46\", \"\\u8208\\u6df1\\u6e9d\", \"\\u820a\\u57df\", \"\\u8655\\u7406\", \"\\u8655\\u7406\", \"\\u8655\\u7406\", \"\\u8655\\u7406\", \"\\u865b\\u64ec\", \"\\u865f\\u78bc\", \"\\u865f\\u78bc\", \"\\u865f\\u78bc\", \"\\u865f\\u78bc\", \"\\u884c\\u4e8b\", \"\\u884c\\u4e8b\", \"\\u884c\\u5ba4\", \"\\u885b\\u5bb6\\u57df\", \"\\u898b\\u656c\", \"\\u89e3\\u6c7a\\u9047\", \"\\u8a18\\u9304\", \"\\u8a18\\u9304\", \"\\u8a18\\u9304\", \"\\u8a2d\\u5b9a\", \"\\u8a2d\\u5b9a\", \"\\u8a2d\\u5b9a\", \"\\u8a2d\\u5b9a\", \"\\u8a2d\\u8cc7\\u8a0a\", \"\\u8a62\\u4eab\", \"\\u8a62\\u6383\", \"\\u8a66\\u4ec1\", \"\\u8a66\\u4ec1\\u8166\", \"\\u8a66\\u8166\\u7b46\", \"\\u8a71\\u865f\", \"\\u8a8d\\u514d\", \"\\u8a8d\\u8b49\", \"\\u8a8d\\u8b49\", \"\\u8a8d\\u8eab\", \"\\u8a8d\\u8f09\", \"\\u8b8a\\u57df\", \"\\u8cac\\u8072\", \"\\u8cc7\\u53cd\\u679c\", \"\\u8cc7\\u6383\", \"\\u8cc7\\u6383\", \"\\u8cc7\\u6383\", \"\\u8cc7\\u6599\", \"\\u8cc7\\u6599\", \"\\u8cc7\\u6599\", \"\\u8cc7\\u6599\", \"\\u8cc7\\u6599\\u6790\", \"\\u8cc7\\u6cd5\\u52d5\", \"\\u8cc7\\u6e90\", \"\\u8cc7\\u6e90\", \"\\u8cc7\\u6e90\", \"\\u8cc7\\u6e90\", \"\\u8cc7\\u76e4\", \"\\u8cc7\\u76e4\", \"\\u8cc7\\u76e4\", \"\\u8cc7\\u76e4\\u8a62\", \"\\u8cc7\\u7e3d\\u6578\\u4f8b\", \"\\u8cc7\\u8a0a\", \"\\u8cc7\\u8a0a\", \"\\u8cc7\\u8a0a\", \"\\u8cc7\\u8a0a\", \"\\u8cc7\\u8a0a\\u50c5\", \"\\u8cc7\\u8a0a\\u5747\", \"\\u8cc7\\u8a0a\\u5834\", \"\\u8cc7\\u8a0a\\u58fd\", \"\\u8cc7\\u8a0a\\u5ba4\", \"\\u8cc7\\u8a0a\\u5ba4\", \"\\u8cc7\\u8a0a\\u5ba4\", \"\\u8cc7\\u8a0a\\u8853\", \"\\u8cc7\\u8a0a\\u8853\", \"\\u8d85\\u6578\", \"\\u8eab\\u4efd\", \"\\u8eab\\u4efd\", \"\\u8eab\\u4efd\", \"\\u901a\\u6548\", \"\\u901a\\u6548\", \"\\u901a\\u77e5\", \"\\u901a\\u77e5\", \"\\u901a\\u77e5\", \"\\u901a\\u8a0a\\u4efd\", \"\\u901a\\u8def\", \"\\u9020\\u6210\", \"\\u9020\\u6210\", \"\\u9020\\u6210\", \"\\u9020\\u6210\", \"\\u9032\\u884c\", \"\\u9032\\u884c\", \"\\u9032\\u884c\", \"\\u9032\\u884c\", \"\\u904b\\u6a13\", \"\\u904b\\u6a13\", \"\\u904b\\u6a4b\\u982d\", \"\\u904b\\u6a4b\\u982d\", \"\\u906e\\u853d\", \"\\u91cd\\u8986\", \"\\u91cf\\u9650\", \"\\u932f\\u8aa4\", \"\\u932f\\u8aa4\", \"\\u932f\\u8aa4\", \"\\u958b\\u59cb\", \"\\u958b\\u59cb\", \"\\u958b\\u59cb\", \"\\u95dc\\u7591\", \"\\u95dc\\u8cc7\\u76e4\", \"\\u9650\\u6a13\", \"\\u96d9\\u91cd\", \"\\u9700\\u64d4\", \"\\u9700\\u64d4\", \"\\u9700\\u6a94\", \"\\u9700\\u6c42\", \"\\u9700\\u6c42\", \"\\u9700\\u6c42\", \"\\u9700\\u6c42\", \"\\u9700\\u958b\", \"\\u9700\\u958b\", \"\\u986f\\u793a\", \"\\u986f\\u793a\", \"\\u986f\\u793a\", \"\\u986f\\u793a\", \"\\u9996\\u5e2d\"]}, \"R\": 30, \"lambda.step\": 0.01, \"plot.opts\": {\"xlab\": \"PC1\", \"ylab\": \"PC2\"}, \"topic.order\": [3, 1, 2, 4]};\n",
       "\n",
       "function LDAvis_load_lib(url, callback){\n",
       "  var s = document.createElement('script');\n",
       "  s.src = url;\n",
       "  s.async = true;\n",
       "  s.onreadystatechange = s.onload = callback;\n",
       "  s.onerror = function(){console.warn(\"failed to load library \" + url);};\n",
       "  document.getElementsByTagName(\"head\")[0].appendChild(s);\n",
       "}\n",
       "\n",
       "if(typeof(LDAvis) !== \"undefined\"){\n",
       "   // already loaded: just create the visualization\n",
       "   !function(LDAvis){\n",
       "       new LDAvis(\"#\" + \"ldavis_el432024465901047361760864059\", ldavis_el432024465901047361760864059_data);\n",
       "   }(LDAvis);\n",
       "}else if(typeof define === \"function\" && define.amd){\n",
       "   // require.js is available: use it to load d3/LDAvis\n",
       "   require.config({paths: {d3: \"https://d3js.org/d3.v5\"}});\n",
       "   require([\"d3\"], function(d3){\n",
       "      window.d3 = d3;\n",
       "      LDAvis_load_lib(\"https://cdn.jsdelivr.net/gh/bmabey/pyLDAvis@3.3.1/pyLDAvis/js/ldavis.v3.0.0.js\", function(){\n",
       "        new LDAvis(\"#\" + \"ldavis_el432024465901047361760864059\", ldavis_el432024465901047361760864059_data);\n",
       "      });\n",
       "    });\n",
       "}else{\n",
       "    // require.js not available: dynamically load d3 & LDAvis\n",
       "    LDAvis_load_lib(\"https://d3js.org/d3.v5.js\", function(){\n",
       "         LDAvis_load_lib(\"https://cdn.jsdelivr.net/gh/bmabey/pyLDAvis@3.3.1/pyLDAvis/js/ldavis.v3.0.0.js\", function(){\n",
       "                 new LDAvis(\"#\" + \"ldavis_el432024465901047361760864059\", ldavis_el432024465901047361760864059_data);\n",
       "            })\n",
       "         });\n",
       "}\n",
       "</script>"
      ],
      "text/plain": [
       "PreparedData(topic_coordinates=                x           y  topics  cluster       Freq\n",
       "topic                                                    \n",
       "2      269.562408 -124.803398       1        1  40.786732\n",
       "0        1.782994 -295.079681       2        1  25.400491\n",
       "1      220.811432 -343.832123       3        1  25.363332\n",
       "3       50.533993  -76.050934       4        1   8.449445, topic_info=     Term         Freq        Total Category  logprob  loglift\n",
       "4819   登入  2491.000000  2491.000000  Default  30.0000  30.0000\n",
       "3818   校園  1666.000000  1666.000000  Default  29.0000  29.0000\n",
       "7067   資盤  1318.000000  1318.000000  Default  28.0000  28.0000\n",
       "1579   園端   900.000000   900.000000  Default  27.0000  27.0000\n",
       "5268   稽核   643.000000   643.000000  Default  26.0000  26.0000\n",
       "...   ...          ...          ...      ...      ...      ...\n",
       "6469   設定    58.925173  1058.785834   Topic4  -5.3809  -0.4175\n",
       "1409   單位    49.136622   589.663100   Topic4  -5.5625  -0.0139\n",
       "8309   需求    45.948208   641.282105   Topic4  -5.6296  -0.1649\n",
       "1168   反映    41.293927   365.138294   Topic4  -5.7364   0.2915\n",
       "4488   狀況    40.124578   368.895111   Topic4  -5.7651   0.2525\n",
       "\n",
       "[273 rows x 6 columns], token_table=      Topic      Freq Term\n",
       "term                      \n",
       "68        2  0.957063   事端\n",
       "68        3  0.041611   事端\n",
       "74        2  0.995870  事運樓\n",
       "107       2  0.997262   享示\n",
       "107       3  0.002159   享示\n",
       "...     ...       ...  ...\n",
       "8525      1  0.496727   顯示\n",
       "8525      2  0.050894   顯示\n",
       "8525      3  0.221899   顯示\n",
       "8525      4  0.232077   顯示\n",
       "8546      3  0.986476   首席\n",
       "\n",
       "[412 rows x 3 columns], R=30, lambda_step=0.01, plot_opts={'xlab': 'PC1', 'ylab': 'PC2'}, topic_order=[3, 1, 2, 4])"
      ]
     },
     "execution_count": 66,
     "metadata": {},
     "output_type": "execute_result"
    }
   ],
   "source": [
    "import pyLDAvis\n",
    "import pyLDAvis.sklearn\n",
    "pyLDAvis.enable_notebook()\n",
    "panel = pyLDAvis.sklearn.prepare(lda_model, data_vectorized, vectorizer, mds='tsne')\n",
    "panel"
   ]
  },
  {
   "cell_type": "markdown",
   "metadata": {},
   "source": [
    "# Plot the clusters"
   ]
  },
  {
   "cell_type": "code",
   "execution_count": 67,
   "metadata": {},
   "outputs": [],
   "source": [
    "# Construct the k-means clusters\n",
    "from sklearn.cluster import KMeans\n",
    "clusters = KMeans(n_clusters=4, random_state=100).fit_predict(doc_topic_matrix)"
   ]
  },
  {
   "cell_type": "code",
   "execution_count": 68,
   "metadata": {},
   "outputs": [
    {
     "name": "stdout",
     "output_type": "stream",
     "text": [
      "Component's weights: \n",
      " [[ 0.25  0.1   0.96  0.03]\n",
      " [ 0.96  0.11 -0.26  0.03]\n",
      " [-0.14  0.98 -0.07  0.09]]\n",
      "Perc of Variance Explained: \n",
      " [0.24 0.43 0.26]\n"
     ]
    }
   ],
   "source": [
    "# to cluster documents that share similar topics and plot?\n",
    "# Build the Singular Value Decomposition(SVD) model\n",
    "svd_model = TruncatedSVD(n_components=3)  # 2 components\n",
    "lda_output_svd = svd_model.fit_transform(doc_topic_matrix)\n",
    "\n",
    "# X and Y axes of the plot using SVD decomposition\n",
    "x = lda_output_svd[:, 0]\n",
    "y = lda_output_svd[:, 1]\n",
    "\n",
    "# Weights for the 15 columns of lda_output, for each component\n",
    "print(\"Component's weights: \\n\", np.round(svd_model.components_, 2))\n",
    "\n",
    "# Percentage of total information in 'lda_output' explained by the two components\n",
    "print(\"Perc of Variance Explained: \\n\", np.round(svd_model.explained_variance_ratio_, 2))"
   ]
  },
  {
   "cell_type": "code",
   "execution_count": 69,
   "metadata": {},
   "outputs": [
    {
     "data": {
      "text/plain": [
       "Text(0.5, 1.0, 'Segregation of Topic Clusters')"
      ]
     },
     "execution_count": 69,
     "metadata": {},
     "output_type": "execute_result"
    },
    {
     "data": {
      "image/png": "[encoded data removed]",
      "text/plain": [
       "<Figure size 864x864 with 1 Axes>"
      ]
     },
     "metadata": {
      "needs_background": "light"
     },
     "output_type": "display_data"
    }
   ],
   "source": [
    "# Plot\n",
    "import matplotlib.pyplot as plt\n",
    "plt.figure(figsize=(12, 12))\n",
    "plt.scatter(x, y, c=clusters)\n",
    "plt.xlabel('Component 2')\n",
    "plt.xlabel('Component 1')\n",
    "plt.title(\"Segregation of Topic Clusters\", )"
   ]
  },
  {
   "cell_type": "markdown",
   "metadata": {},
   "source": [
    "## Save model"
   ]
  },
  {
   "cell_type": "code",
   "execution_count": 70,
   "metadata": {},
   "outputs": [],
   "source": [
    "import pickle\n",
    "\n",
    "with open(\"sklearn_lda_model.pk\",\"wb\") as f:\n",
    "    pickle.dump(lda_model, f)\n",
    "\n",
    "# then reload it with\n",
    "# lda_model = pickle.load('sklearn_lda_model.pk')"
   ]
  },
  {
   "cell_type": "code",
   "execution_count": 71,
   "metadata": {},
   "outputs": [],
   "source": [
    "#end"
   ]
  }
 ],
 "metadata": {
  "colab": {
   "name": "tra_LDA - n-gram_worked_vizual.ipynb",
   "provenance": []
  },
  "kernelspec": {
   "display_name": "Python 3 (ipykernel)",
   "language": "python",
   "name": "python3"
  },
  "language_info": {
   "codemirror_mode": {
    "name": "ipython",
    "version": 3
   },
   "file_extension": ".py",
   "mimetype": "text/x-python",
   "name": "python",
   "nbconvert_exporter": "python",
   "pygments_lexer": "ipython3",
   "version": "3.9.11"
  },
  "toc-autonumbering": true,
  "toc-showcode": true,
  "toc-showmarkdowntxt": true
 },
 "nbformat": 4,
 "nbformat_minor": 4
}
